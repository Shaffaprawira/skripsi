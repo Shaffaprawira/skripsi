{
 "cells": [
  {
   "cell_type": "code",
   "execution_count": 3,
   "id": "003d2b0c",
   "metadata": {},
   "outputs": [
    {
     "data": {
      "text/html": [
       "<div>\n",
       "<style scoped>\n",
       "    .dataframe tbody tr th:only-of-type {\n",
       "        vertical-align: middle;\n",
       "    }\n",
       "\n",
       "    .dataframe tbody tr th {\n",
       "        vertical-align: top;\n",
       "    }\n",
       "\n",
       "    .dataframe thead th {\n",
       "        text-align: right;\n",
       "    }\n",
       "</style>\n",
       "<table border=\"1\" class=\"dataframe\">\n",
       "  <thead>\n",
       "    <tr style=\"text-align: right;\">\n",
       "      <th></th>\n",
       "      <th>IP</th>\n",
       "      <th>Time</th>\n",
       "      <th>URL</th>\n",
       "      <th>Status</th>\n",
       "    </tr>\n",
       "  </thead>\n",
       "  <tbody>\n",
       "    <tr>\n",
       "      <th>0</th>\n",
       "      <td>10.25.255.255</td>\n",
       "      <td>[26/Jan/2018:04:50:43</td>\n",
       "      <td>GET /data/?id=1; INSERT FROM users;-- HTTP/1.1</td>\n",
       "      <td>302</td>\n",
       "    </tr>\n",
       "    <tr>\n",
       "      <th>1</th>\n",
       "      <td>10.242.180.20</td>\n",
       "      <td>[30/Mar/2018:22:20:06</td>\n",
       "      <td>GET /files/user/files/docs/?id=1; DELETE FROM ...</td>\n",
       "      <td>200</td>\n",
       "    </tr>\n",
       "    <tr>\n",
       "      <th>2</th>\n",
       "      <td>10.153.133.47</td>\n",
       "      <td>[05/Mar/2018:11:56:54</td>\n",
       "      <td>POST /user/data/?id=1; SELECT FROM users;-- HT...</td>\n",
       "      <td>404</td>\n",
       "    </tr>\n",
       "    <tr>\n",
       "      <th>3</th>\n",
       "      <td>10.123.63.175</td>\n",
       "      <td>[08/Feb/2018:08:46:29</td>\n",
       "      <td>POST /files/home/files/?id=1; UPDATE FROM user...</td>\n",
       "      <td>404</td>\n",
       "    </tr>\n",
       "    <tr>\n",
       "      <th>4</th>\n",
       "      <td>10.118.74.11</td>\n",
       "      <td>[20/Jan/2018:13:19:55</td>\n",
       "      <td>POST /home/?id=1; SELECT FROM users;-- HTTP/1.1</td>\n",
       "      <td>302</td>\n",
       "    </tr>\n",
       "    <tr>\n",
       "      <th>...</th>\n",
       "      <td>...</td>\n",
       "      <td>...</td>\n",
       "      <td>...</td>\n",
       "      <td>...</td>\n",
       "    </tr>\n",
       "    <tr>\n",
       "      <th>16002</th>\n",
       "      <td>10.36.72.234</td>\n",
       "      <td>[16/Jan/2018:09:48:25</td>\n",
       "      <td>POST /home/home/?id=1; UPDATE FROM users;-- HT...</td>\n",
       "      <td>302</td>\n",
       "    </tr>\n",
       "    <tr>\n",
       "      <th>16003</th>\n",
       "      <td>10.114.37.45</td>\n",
       "      <td>[30/Jan/2018:14:05:04</td>\n",
       "      <td>POST /user/files/files/?id=1; UNION FROM users...</td>\n",
       "      <td>200</td>\n",
       "    </tr>\n",
       "    <tr>\n",
       "      <th>16004</th>\n",
       "      <td>10.189.246.67</td>\n",
       "      <td>[19/Dec/2017:04:31:50</td>\n",
       "      <td>POST /files/docs/user/?id=1; INSERT FROM users...</td>\n",
       "      <td>200</td>\n",
       "    </tr>\n",
       "    <tr>\n",
       "      <th>16005</th>\n",
       "      <td>10.59.160.71</td>\n",
       "      <td>[31/Dec/2017:18:43:03</td>\n",
       "      <td>GET /files/files/?id=1; UNION FROM users;-- HT...</td>\n",
       "      <td>302</td>\n",
       "    </tr>\n",
       "    <tr>\n",
       "      <th>16006</th>\n",
       "      <td>10.250.117.198</td>\n",
       "      <td>[11/Dec/2017:12:09:23</td>\n",
       "      <td>GET /docs/files/?id=1; UNION FROM users;-- HTT...</td>\n",
       "      <td>404</td>\n",
       "    </tr>\n",
       "  </tbody>\n",
       "</table>\n",
       "<p>16007 rows × 4 columns</p>\n",
       "</div>"
      ],
      "text/plain": [
       "                   IP                   Time  \\\n",
       "0       10.25.255.255  [26/Jan/2018:04:50:43   \n",
       "1       10.242.180.20  [30/Mar/2018:22:20:06   \n",
       "2       10.153.133.47  [05/Mar/2018:11:56:54   \n",
       "3       10.123.63.175  [08/Feb/2018:08:46:29   \n",
       "4        10.118.74.11  [20/Jan/2018:13:19:55   \n",
       "...               ...                    ...   \n",
       "16002    10.36.72.234  [16/Jan/2018:09:48:25   \n",
       "16003    10.114.37.45  [30/Jan/2018:14:05:04   \n",
       "16004   10.189.246.67  [19/Dec/2017:04:31:50   \n",
       "16005    10.59.160.71  [31/Dec/2017:18:43:03   \n",
       "16006  10.250.117.198  [11/Dec/2017:12:09:23   \n",
       "\n",
       "                                                     URL  Status  \n",
       "0         GET /data/?id=1; INSERT FROM users;-- HTTP/1.1     302  \n",
       "1      GET /files/user/files/docs/?id=1; DELETE FROM ...     200  \n",
       "2      POST /user/data/?id=1; SELECT FROM users;-- HT...     404  \n",
       "3      POST /files/home/files/?id=1; UPDATE FROM user...     404  \n",
       "4        POST /home/?id=1; SELECT FROM users;-- HTTP/1.1     302  \n",
       "...                                                  ...     ...  \n",
       "16002  POST /home/home/?id=1; UPDATE FROM users;-- HT...     302  \n",
       "16003  POST /user/files/files/?id=1; UNION FROM users...     200  \n",
       "16004  POST /files/docs/user/?id=1; INSERT FROM users...     200  \n",
       "16005  GET /files/files/?id=1; UNION FROM users;-- HT...     302  \n",
       "16006  GET /docs/files/?id=1; UNION FROM users;-- HTT...     404  \n",
       "\n",
       "[16007 rows x 4 columns]"
      ]
     },
     "execution_count": 3,
     "metadata": {},
     "output_type": "execute_result"
    }
   ],
   "source": [
    "import pandas as pd\n",
    "\n",
    "# Load the dataset\n",
    "data = pd.read_csv('sql_injection_dataset.csv')\n",
    "data"
   ]
  },
  {
   "cell_type": "code",
   "execution_count": 5,
   "id": "927c09b7",
   "metadata": {},
   "outputs": [
    {
     "data": {
      "text/html": [
       "<div>\n",
       "<style scoped>\n",
       "    .dataframe tbody tr th:only-of-type {\n",
       "        vertical-align: middle;\n",
       "    }\n",
       "\n",
       "    .dataframe tbody tr th {\n",
       "        vertical-align: top;\n",
       "    }\n",
       "\n",
       "    .dataframe thead th {\n",
       "        text-align: right;\n",
       "    }\n",
       "</style>\n",
       "<table border=\"1\" class=\"dataframe\">\n",
       "  <thead>\n",
       "    <tr style=\"text-align: right;\">\n",
       "      <th></th>\n",
       "      <th>Status</th>\n",
       "    </tr>\n",
       "  </thead>\n",
       "  <tbody>\n",
       "    <tr>\n",
       "      <th>count</th>\n",
       "      <td>16007.000000</td>\n",
       "    </tr>\n",
       "    <tr>\n",
       "      <th>mean</th>\n",
       "      <td>302.000000</td>\n",
       "    </tr>\n",
       "    <tr>\n",
       "      <th>std</th>\n",
       "      <td>83.389249</td>\n",
       "    </tr>\n",
       "    <tr>\n",
       "      <th>min</th>\n",
       "      <td>200.000000</td>\n",
       "    </tr>\n",
       "    <tr>\n",
       "      <th>25%</th>\n",
       "      <td>200.000000</td>\n",
       "    </tr>\n",
       "    <tr>\n",
       "      <th>50%</th>\n",
       "      <td>302.000000</td>\n",
       "    </tr>\n",
       "    <tr>\n",
       "      <th>75%</th>\n",
       "      <td>404.000000</td>\n",
       "    </tr>\n",
       "    <tr>\n",
       "      <th>max</th>\n",
       "      <td>404.000000</td>\n",
       "    </tr>\n",
       "  </tbody>\n",
       "</table>\n",
       "</div>"
      ],
      "text/plain": [
       "             Status\n",
       "count  16007.000000\n",
       "mean     302.000000\n",
       "std       83.389249\n",
       "min      200.000000\n",
       "25%      200.000000\n",
       "50%      302.000000\n",
       "75%      404.000000\n",
       "max      404.000000"
      ]
     },
     "execution_count": 5,
     "metadata": {},
     "output_type": "execute_result"
    }
   ],
   "source": [
    "# Summarize the dataset\n",
    "data.describe()"
   ]
  },
  {
   "cell_type": "code",
   "execution_count": 6,
   "id": "7617e63f",
   "metadata": {},
   "outputs": [
    {
     "data": {
      "text/html": [
       "<div>\n",
       "<style scoped>\n",
       "    .dataframe tbody tr th:only-of-type {\n",
       "        vertical-align: middle;\n",
       "    }\n",
       "\n",
       "    .dataframe tbody tr th {\n",
       "        vertical-align: top;\n",
       "    }\n",
       "\n",
       "    .dataframe thead th {\n",
       "        text-align: right;\n",
       "    }\n",
       "</style>\n",
       "<table border=\"1\" class=\"dataframe\">\n",
       "  <thead>\n",
       "    <tr style=\"text-align: right;\">\n",
       "      <th></th>\n",
       "      <th>IP</th>\n",
       "      <th>Time</th>\n",
       "      <th>URL</th>\n",
       "      <th>Status</th>\n",
       "    </tr>\n",
       "  </thead>\n",
       "  <tbody>\n",
       "    <tr>\n",
       "      <th>0</th>\n",
       "      <td>10.25.255.255</td>\n",
       "      <td>[26/Jan/2018:04:50:43</td>\n",
       "      <td>GET /data/?id=1; INSERT FROM users;-- HTTP/1.1</td>\n",
       "      <td>302</td>\n",
       "    </tr>\n",
       "    <tr>\n",
       "      <th>1</th>\n",
       "      <td>10.242.180.20</td>\n",
       "      <td>[30/Mar/2018:22:20:06</td>\n",
       "      <td>GET /files/user/files/docs/?id=1; DELETE FROM ...</td>\n",
       "      <td>200</td>\n",
       "    </tr>\n",
       "    <tr>\n",
       "      <th>2</th>\n",
       "      <td>10.153.133.47</td>\n",
       "      <td>[05/Mar/2018:11:56:54</td>\n",
       "      <td>POST /user/data/?id=1; SELECT FROM users;-- HT...</td>\n",
       "      <td>404</td>\n",
       "    </tr>\n",
       "    <tr>\n",
       "      <th>3</th>\n",
       "      <td>10.123.63.175</td>\n",
       "      <td>[08/Feb/2018:08:46:29</td>\n",
       "      <td>POST /files/home/files/?id=1; UPDATE FROM user...</td>\n",
       "      <td>404</td>\n",
       "    </tr>\n",
       "    <tr>\n",
       "      <th>4</th>\n",
       "      <td>10.118.74.11</td>\n",
       "      <td>[20/Jan/2018:13:19:55</td>\n",
       "      <td>POST /home/?id=1; SELECT FROM users;-- HTTP/1.1</td>\n",
       "      <td>302</td>\n",
       "    </tr>\n",
       "  </tbody>\n",
       "</table>\n",
       "</div>"
      ],
      "text/plain": [
       "              IP                   Time  \\\n",
       "0  10.25.255.255  [26/Jan/2018:04:50:43   \n",
       "1  10.242.180.20  [30/Mar/2018:22:20:06   \n",
       "2  10.153.133.47  [05/Mar/2018:11:56:54   \n",
       "3  10.123.63.175  [08/Feb/2018:08:46:29   \n",
       "4   10.118.74.11  [20/Jan/2018:13:19:55   \n",
       "\n",
       "                                                 URL  Status  \n",
       "0     GET /data/?id=1; INSERT FROM users;-- HTTP/1.1     302  \n",
       "1  GET /files/user/files/docs/?id=1; DELETE FROM ...     200  \n",
       "2  POST /user/data/?id=1; SELECT FROM users;-- HT...     404  \n",
       "3  POST /files/home/files/?id=1; UPDATE FROM user...     404  \n",
       "4    POST /home/?id=1; SELECT FROM users;-- HTTP/1.1     302  "
      ]
     },
     "execution_count": 6,
     "metadata": {},
     "output_type": "execute_result"
    }
   ],
   "source": [
    "data.head()"
   ]
  },
  {
   "cell_type": "code",
   "execution_count": 7,
   "id": "05da9f36",
   "metadata": {},
   "outputs": [
    {
     "name": "stdout",
     "output_type": "stream",
     "text": [
      "<class 'pandas.core.frame.DataFrame'>\n",
      "RangeIndex: 16007 entries, 0 to 16006\n",
      "Data columns (total 4 columns):\n",
      " #   Column  Non-Null Count  Dtype \n",
      "---  ------  --------------  ----- \n",
      " 0   IP      16007 non-null  object\n",
      " 1   Time    16007 non-null  object\n",
      " 2   URL     16007 non-null  object\n",
      " 3   Status  16007 non-null  int64 \n",
      "dtypes: int64(1), object(3)\n",
      "memory usage: 500.3+ KB\n"
     ]
    }
   ],
   "source": [
    "data.info()"
   ]
  },
  {
   "cell_type": "code",
   "execution_count": 8,
   "id": "f3172e45",
   "metadata": {},
   "outputs": [],
   "source": [
    "# Extract URLs and requests\n",
    "urls = data['URL']\n",
    "requests = data['Status']"
   ]
  },
  {
   "cell_type": "code",
   "execution_count": 9,
   "id": "875e41e0",
   "metadata": {},
   "outputs": [
    {
     "data": {
      "text/plain": [
       "0           GET /data/?id=1; INSERT FROM users;-- HTTP/1.1\n",
       "1        GET /files/user/files/docs/?id=1; DELETE FROM ...\n",
       "2        POST /user/data/?id=1; SELECT FROM users;-- HT...\n",
       "3        POST /files/home/files/?id=1; UPDATE FROM user...\n",
       "4          POST /home/?id=1; SELECT FROM users;-- HTTP/1.1\n",
       "                               ...                        \n",
       "16002    POST /home/home/?id=1; UPDATE FROM users;-- HT...\n",
       "16003    POST /user/files/files/?id=1; UNION FROM users...\n",
       "16004    POST /files/docs/user/?id=1; INSERT FROM users...\n",
       "16005    GET /files/files/?id=1; UNION FROM users;-- HT...\n",
       "16006    GET /docs/files/?id=1; UNION FROM users;-- HTT...\n",
       "Name: URL, Length: 16007, dtype: object"
      ]
     },
     "execution_count": 9,
     "metadata": {},
     "output_type": "execute_result"
    }
   ],
   "source": [
    "# print(\"Extracted URLs:\", urls)\n",
    "urls"
   ]
  },
  {
   "cell_type": "code",
   "execution_count": 10,
   "id": "d877b2b9",
   "metadata": {},
   "outputs": [
    {
     "data": {
      "text/plain": [
       "0        302\n",
       "1        200\n",
       "2        404\n",
       "3        404\n",
       "4        302\n",
       "        ... \n",
       "16002    302\n",
       "16003    200\n",
       "16004    200\n",
       "16005    302\n",
       "16006    404\n",
       "Name: Status, Length: 16007, dtype: int64"
      ]
     },
     "execution_count": 10,
     "metadata": {},
     "output_type": "execute_result"
    }
   ],
   "source": [
    "# print(\"Request Types:\", requests)\n",
    "requests"
   ]
  },
  {
   "cell_type": "code",
   "execution_count": 11,
   "id": "bdfa1585",
   "metadata": {},
   "outputs": [],
   "source": [
    "from sklearn.model_selection import train_test_split\n",
    "\n",
    "# Split the dataset into training and test sets (80% train, 20% test)\n",
    "train_urls, test_urls, train_requests, test_requests = train_test_split(urls, requests, test_size=0.2, random_state=42)\n"
   ]
  },
  {
   "cell_type": "code",
   "execution_count": 12,
   "id": "6bbe1426",
   "metadata": {},
   "outputs": [
    {
     "name": "stdout",
     "output_type": "stream",
     "text": [
      "Training URLs:\n"
     ]
    },
    {
     "data": {
      "text/plain": [
       "676      GET /user/user/data/home/?id=1; DELETE FROM us...\n",
       "15755    POST /user/home/docs/?id=1; DELETE FROM users;...\n",
       "6624     GET /docs/home/?id=1; INSERT FROM users;-- HTT...\n",
       "10746    POST /files/docs/files/?id=1; INSERT FROM user...\n",
       "9638        POST /docs/?id=1; UNION FROM users;-- HTTP/1.1\n",
       "                               ...                        \n",
       "13418    GET /docs/data/?id=1; UNION FROM users;-- HTTP...\n",
       "5390     POST /home/home/?id=1; UPDATE FROM users;-- HT...\n",
       "860      POST /data/data/?id=1; UNION FROM users;-- HTT...\n",
       "15795    GET /files/files/files/files/?id=1; UPDATE FRO...\n",
       "7270     GET /docs/docs/user/?id=1; UNION FROM users;--...\n",
       "Name: URL, Length: 12805, dtype: object"
      ]
     },
     "execution_count": 12,
     "metadata": {},
     "output_type": "execute_result"
    }
   ],
   "source": [
    "print(\"Training URLs:\")\n",
    "train_urls"
   ]
  },
  {
   "cell_type": "code",
   "execution_count": 13,
   "id": "08d419ea",
   "metadata": {},
   "outputs": [
    {
     "name": "stdout",
     "output_type": "stream",
     "text": [
      "Test URLs:\n"
     ]
    },
    {
     "data": {
      "text/plain": [
       "9452     GET /data/user/files/home/?id=1; UNION FROM us...\n",
       "5566     POST /docs/files/user/user/?id=1; DELETE FROM ...\n",
       "13993    GET /user/data/?id=1; SELECT FROM users;-- HTT...\n",
       "304      POST /data/data/files/?id=1; DROP FROM users;-...\n",
       "6143     POST /data/user/?id=1; SELECT FROM users;-- HT...\n",
       "                               ...                        \n",
       "10309    POST /home/files/?id=1; DROP FROM users;-- HTT...\n",
       "11786    POST /user/data/user/?id=1; UNION FROM users;-...\n",
       "5157     GET /user/docs/user/home/?id=1; UNION FROM use...\n",
       "7631     POST /docs/data/docs/user/?id=1; SELECT FROM u...\n",
       "10618    GET /data/home/docs/files/?id=1; DELETE FROM u...\n",
       "Name: URL, Length: 3202, dtype: object"
      ]
     },
     "execution_count": 13,
     "metadata": {},
     "output_type": "execute_result"
    }
   ],
   "source": [
    "print(\"Test URLs:\")\n",
    "test_urls"
   ]
  },
  {
   "cell_type": "code",
   "execution_count": 14,
   "id": "736fb228",
   "metadata": {},
   "outputs": [
    {
     "data": {
      "text/plain": [
       "count                                               12805\n",
       "unique                                               4251\n",
       "top       POST /files/?id=1; UNION FROM users;-- HTTP/1.1\n",
       "freq                                                   65\n",
       "Name: URL, dtype: object"
      ]
     },
     "execution_count": 14,
     "metadata": {},
     "output_type": "execute_result"
    }
   ],
   "source": [
    "train_urls.describe()"
   ]
  },
  {
   "cell_type": "code",
   "execution_count": 15,
   "id": "b91d4194",
   "metadata": {},
   "outputs": [
    {
     "data": {
      "text/plain": [
       "count                                                3202\n",
       "unique                                               1744\n",
       "top       POST /home/?id=1; INSERT FROM users;-- HTTP/1.1\n",
       "freq                                                   20\n",
       "Name: URL, dtype: object"
      ]
     },
     "execution_count": 15,
     "metadata": {},
     "output_type": "execute_result"
    }
   ],
   "source": [
    "test_urls.describe()"
   ]
  }
 ],
 "metadata": {
  "kernelspec": {
   "display_name": "Python 3",
   "language": "python",
   "name": "python3"
  },
  "language_info": {
   "codemirror_mode": {
    "name": "ipython",
    "version": 3
   },
   "file_extension": ".py",
   "mimetype": "text/x-python",
   "name": "python",
   "nbconvert_exporter": "python",
   "pygments_lexer": "ipython3",
   "version": "3.8.8"
  }
 },
 "nbformat": 4,
 "nbformat_minor": 5
}
