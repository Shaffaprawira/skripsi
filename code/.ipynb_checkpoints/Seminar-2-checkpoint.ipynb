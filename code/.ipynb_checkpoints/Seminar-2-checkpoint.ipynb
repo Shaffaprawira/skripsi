{
 "cells": [
  {
   "cell_type": "code",
   "execution_count": 1,
   "id": "003d2b0c",
   "metadata": {},
   "outputs": [
    {
     "data": {
      "text/html": [
       "<div>\n",
       "<style scoped>\n",
       "    .dataframe tbody tr th:only-of-type {\n",
       "        vertical-align: middle;\n",
       "    }\n",
       "\n",
       "    .dataframe tbody tr th {\n",
       "        vertical-align: top;\n",
       "    }\n",
       "\n",
       "    .dataframe thead th {\n",
       "        text-align: right;\n",
       "    }\n",
       "</style>\n",
       "<table border=\"1\" class=\"dataframe\">\n",
       "  <thead>\n",
       "    <tr style=\"text-align: right;\">\n",
       "      <th></th>\n",
       "      <th>IP</th>\n",
       "      <th>Time</th>\n",
       "      <th>URL</th>\n",
       "      <th>Status</th>\n",
       "    </tr>\n",
       "  </thead>\n",
       "  <tbody>\n",
       "    <tr>\n",
       "      <th>0</th>\n",
       "      <td>10.128.2.1</td>\n",
       "      <td>[29/Nov/2017:06:58:55</td>\n",
       "      <td>GET /login.php HTTP/1.1</td>\n",
       "      <td>200</td>\n",
       "    </tr>\n",
       "    <tr>\n",
       "      <th>1</th>\n",
       "      <td>10.128.2.1</td>\n",
       "      <td>[29/Nov/2017:06:59:02</td>\n",
       "      <td>POST /process.php HTTP/1.1</td>\n",
       "      <td>302</td>\n",
       "    </tr>\n",
       "    <tr>\n",
       "      <th>2</th>\n",
       "      <td>10.128.2.1</td>\n",
       "      <td>[29/Nov/2017:06:59:03</td>\n",
       "      <td>GET /home.php HTTP/1.1</td>\n",
       "      <td>200</td>\n",
       "    </tr>\n",
       "    <tr>\n",
       "      <th>3</th>\n",
       "      <td>10.131.2.1</td>\n",
       "      <td>[29/Nov/2017:06:59:04</td>\n",
       "      <td>GET /js/vendor/moment.min.js HTTP/1.1</td>\n",
       "      <td>200</td>\n",
       "    </tr>\n",
       "    <tr>\n",
       "      <th>4</th>\n",
       "      <td>10.130.2.1</td>\n",
       "      <td>[29/Nov/2017:06:59:06</td>\n",
       "      <td>GET /bootstrap-3.3.7/js/bootstrap.js HTTP/1.1</td>\n",
       "      <td>200</td>\n",
       "    </tr>\n",
       "    <tr>\n",
       "      <th>...</th>\n",
       "      <td>...</td>\n",
       "      <td>...</td>\n",
       "      <td>...</td>\n",
       "      <td>...</td>\n",
       "    </tr>\n",
       "    <tr>\n",
       "      <th>16002</th>\n",
       "      <td>10.130.2.1</td>\n",
       "      <td>[02/Mar/2018:15:47:12</td>\n",
       "      <td>GET /showcode.php?id=309&amp;nm=ham05 HTTP/1.1</td>\n",
       "      <td>200</td>\n",
       "    </tr>\n",
       "    <tr>\n",
       "      <th>16003</th>\n",
       "      <td>10.130.2.1</td>\n",
       "      <td>[02/Mar/2018:15:47:23</td>\n",
       "      <td>GET /allsubmission.php HTTP/1.1</td>\n",
       "      <td>200</td>\n",
       "    </tr>\n",
       "    <tr>\n",
       "      <th>16004</th>\n",
       "      <td>10.130.2.1</td>\n",
       "      <td>[02/Mar/2018:15:47:32</td>\n",
       "      <td>GET /showcode.php?id=309&amp;nm=ham05 HTTP/1.1</td>\n",
       "      <td>200</td>\n",
       "    </tr>\n",
       "    <tr>\n",
       "      <th>16005</th>\n",
       "      <td>10.130.2.1</td>\n",
       "      <td>[02/Mar/2018:15:47:35</td>\n",
       "      <td>GET /allsubmission.php HTTP/1.1</td>\n",
       "      <td>200</td>\n",
       "    </tr>\n",
       "    <tr>\n",
       "      <th>16006</th>\n",
       "      <td>10.130.2.1</td>\n",
       "      <td>[02/Mar/2018:15:47:46</td>\n",
       "      <td>GET /home.php HTTP/1.1</td>\n",
       "      <td>200</td>\n",
       "    </tr>\n",
       "  </tbody>\n",
       "</table>\n",
       "<p>16007 rows × 4 columns</p>\n",
       "</div>"
      ],
      "text/plain": [
       "               IP                   Time  \\\n",
       "0      10.128.2.1  [29/Nov/2017:06:58:55   \n",
       "1      10.128.2.1  [29/Nov/2017:06:59:02   \n",
       "2      10.128.2.1  [29/Nov/2017:06:59:03   \n",
       "3      10.131.2.1  [29/Nov/2017:06:59:04   \n",
       "4      10.130.2.1  [29/Nov/2017:06:59:06   \n",
       "...           ...                    ...   \n",
       "16002  10.130.2.1  [02/Mar/2018:15:47:12   \n",
       "16003  10.130.2.1  [02/Mar/2018:15:47:23   \n",
       "16004  10.130.2.1  [02/Mar/2018:15:47:32   \n",
       "16005  10.130.2.1  [02/Mar/2018:15:47:35   \n",
       "16006  10.130.2.1  [02/Mar/2018:15:47:46   \n",
       "\n",
       "                                                 URL Status  \n",
       "0                            GET /login.php HTTP/1.1    200  \n",
       "1                         POST /process.php HTTP/1.1    302  \n",
       "2                             GET /home.php HTTP/1.1    200  \n",
       "3              GET /js/vendor/moment.min.js HTTP/1.1    200  \n",
       "4      GET /bootstrap-3.3.7/js/bootstrap.js HTTP/1.1    200  \n",
       "...                                              ...    ...  \n",
       "16002     GET /showcode.php?id=309&nm=ham05 HTTP/1.1    200  \n",
       "16003                GET /allsubmission.php HTTP/1.1    200  \n",
       "16004     GET /showcode.php?id=309&nm=ham05 HTTP/1.1    200  \n",
       "16005                GET /allsubmission.php HTTP/1.1    200  \n",
       "16006                         GET /home.php HTTP/1.1    200  \n",
       "\n",
       "[16007 rows x 4 columns]"
      ]
     },
     "execution_count": 1,
     "metadata": {},
     "output_type": "execute_result"
    }
   ],
   "source": [
    "import pandas as pd\n",
    "\n",
    "# Load the dataset\n",
    "data = pd.read_csv('sql_injection_dataset.csv')\n",
    "data"
   ]
  },
  {
   "cell_type": "code",
   "execution_count": 2,
   "id": "927c09b7",
   "metadata": {},
   "outputs": [
    {
     "data": {
      "text/html": [
       "<div>\n",
       "<style scoped>\n",
       "    .dataframe tbody tr th:only-of-type {\n",
       "        vertical-align: middle;\n",
       "    }\n",
       "\n",
       "    .dataframe tbody tr th {\n",
       "        vertical-align: top;\n",
       "    }\n",
       "\n",
       "    .dataframe thead th {\n",
       "        text-align: right;\n",
       "    }\n",
       "</style>\n",
       "<table border=\"1\" class=\"dataframe\">\n",
       "  <thead>\n",
       "    <tr style=\"text-align: right;\">\n",
       "      <th></th>\n",
       "      <th>IP</th>\n",
       "      <th>Time</th>\n",
       "      <th>URL</th>\n",
       "      <th>Status</th>\n",
       "    </tr>\n",
       "  </thead>\n",
       "  <tbody>\n",
       "    <tr>\n",
       "      <th>count</th>\n",
       "      <td>16007</td>\n",
       "      <td>16007</td>\n",
       "      <td>16007</td>\n",
       "      <td>16007</td>\n",
       "    </tr>\n",
       "    <tr>\n",
       "      <th>unique</th>\n",
       "      <td>16</td>\n",
       "      <td>7307</td>\n",
       "      <td>314</td>\n",
       "      <td>13</td>\n",
       "    </tr>\n",
       "    <tr>\n",
       "      <th>top</th>\n",
       "      <td>10.128.2.1</td>\n",
       "      <td>cannot</td>\n",
       "      <td>GET /login.php HTTP/1.1</td>\n",
       "      <td>200</td>\n",
       "    </tr>\n",
       "    <tr>\n",
       "      <th>freq</th>\n",
       "      <td>4257</td>\n",
       "      <td>167</td>\n",
       "      <td>3284</td>\n",
       "      <td>11330</td>\n",
       "    </tr>\n",
       "  </tbody>\n",
       "</table>\n",
       "</div>"
      ],
      "text/plain": [
       "                IP    Time                      URL Status\n",
       "count        16007   16007                    16007  16007\n",
       "unique          16    7307                      314     13\n",
       "top     10.128.2.1  cannot  GET /login.php HTTP/1.1    200\n",
       "freq          4257     167                     3284  11330"
      ]
     },
     "execution_count": 2,
     "metadata": {},
     "output_type": "execute_result"
    }
   ],
   "source": [
    "# Summarize the dataset\n",
    "data.describe()"
   ]
  },
  {
   "cell_type": "code",
   "execution_count": 35,
   "id": "7617e63f",
   "metadata": {},
   "outputs": [
    {
     "data": {
      "text/html": [
       "<div>\n",
       "<style scoped>\n",
       "    .dataframe tbody tr th:only-of-type {\n",
       "        vertical-align: middle;\n",
       "    }\n",
       "\n",
       "    .dataframe tbody tr th {\n",
       "        vertical-align: top;\n",
       "    }\n",
       "\n",
       "    .dataframe thead th {\n",
       "        text-align: right;\n",
       "    }\n",
       "</style>\n",
       "<table border=\"1\" class=\"dataframe\">\n",
       "  <thead>\n",
       "    <tr style=\"text-align: right;\">\n",
       "      <th></th>\n",
       "      <th>IP</th>\n",
       "      <th>Time</th>\n",
       "      <th>URL</th>\n",
       "      <th>Status</th>\n",
       "    </tr>\n",
       "  </thead>\n",
       "  <tbody>\n",
       "    <tr>\n",
       "      <th>0</th>\n",
       "      <td>10.128.2.1</td>\n",
       "      <td>[29/Nov/2017:06:58:55</td>\n",
       "      <td>GET /login.php HTTP/1.1</td>\n",
       "      <td>200</td>\n",
       "    </tr>\n",
       "    <tr>\n",
       "      <th>1</th>\n",
       "      <td>10.128.2.1</td>\n",
       "      <td>[29/Nov/2017:06:59:02</td>\n",
       "      <td>POST /process.php HTTP/1.1</td>\n",
       "      <td>302</td>\n",
       "    </tr>\n",
       "    <tr>\n",
       "      <th>2</th>\n",
       "      <td>10.128.2.1</td>\n",
       "      <td>[29/Nov/2017:06:59:03</td>\n",
       "      <td>GET /home.php HTTP/1.1</td>\n",
       "      <td>200</td>\n",
       "    </tr>\n",
       "    <tr>\n",
       "      <th>3</th>\n",
       "      <td>10.131.2.1</td>\n",
       "      <td>[29/Nov/2017:06:59:04</td>\n",
       "      <td>GET /js/vendor/moment.min.js HTTP/1.1</td>\n",
       "      <td>200</td>\n",
       "    </tr>\n",
       "    <tr>\n",
       "      <th>4</th>\n",
       "      <td>10.130.2.1</td>\n",
       "      <td>[29/Nov/2017:06:59:06</td>\n",
       "      <td>GET /bootstrap-3.3.7/js/bootstrap.js HTTP/1.1</td>\n",
       "      <td>200</td>\n",
       "    </tr>\n",
       "  </tbody>\n",
       "</table>\n",
       "</div>"
      ],
      "text/plain": [
       "           IP                   Time  \\\n",
       "0  10.128.2.1  [29/Nov/2017:06:58:55   \n",
       "1  10.128.2.1  [29/Nov/2017:06:59:02   \n",
       "2  10.128.2.1  [29/Nov/2017:06:59:03   \n",
       "3  10.131.2.1  [29/Nov/2017:06:59:04   \n",
       "4  10.130.2.1  [29/Nov/2017:06:59:06   \n",
       "\n",
       "                                             URL Status  \n",
       "0                        GET /login.php HTTP/1.1    200  \n",
       "1                     POST /process.php HTTP/1.1    302  \n",
       "2                         GET /home.php HTTP/1.1    200  \n",
       "3          GET /js/vendor/moment.min.js HTTP/1.1    200  \n",
       "4  GET /bootstrap-3.3.7/js/bootstrap.js HTTP/1.1    200  "
      ]
     },
     "execution_count": 35,
     "metadata": {},
     "output_type": "execute_result"
    }
   ],
   "source": [
    "data.head()"
   ]
  },
  {
   "cell_type": "code",
   "execution_count": 18,
   "id": "05da9f36",
   "metadata": {},
   "outputs": [
    {
     "name": "stdout",
     "output_type": "stream",
     "text": [
      "<class 'pandas.core.frame.DataFrame'>\n",
      "RangeIndex: 16007 entries, 0 to 16006\n",
      "Data columns (total 4 columns):\n",
      " #   Column  Non-Null Count  Dtype \n",
      "---  ------  --------------  ----- \n",
      " 0   IP      16007 non-null  object\n",
      " 1   Time    16007 non-null  object\n",
      " 2   URL     16007 non-null  object\n",
      " 3   Status  16007 non-null  object\n",
      "dtypes: object(4)\n",
      "memory usage: 500.3+ KB\n"
     ]
    }
   ],
   "source": [
    "data.info()"
   ]
  },
  {
   "cell_type": "code",
   "execution_count": 6,
   "id": "f3172e45",
   "metadata": {},
   "outputs": [],
   "source": [
    "# Extract URLs and requests\n",
    "urls = data['URL']\n",
    "requests = data['Status']"
   ]
  },
  {
   "cell_type": "code",
   "execution_count": 23,
   "id": "875e41e0",
   "metadata": {},
   "outputs": [
    {
     "data": {
      "text/plain": [
       "0                              GET /login.php HTTP/1.1\n",
       "1                           POST /process.php HTTP/1.1\n",
       "2                               GET /home.php HTTP/1.1\n",
       "3                GET /js/vendor/moment.min.js HTTP/1.1\n",
       "4        GET /bootstrap-3.3.7/js/bootstrap.js HTTP/1.1\n",
       "                             ...                      \n",
       "16002       GET /showcode.php?id=309&nm=ham05 HTTP/1.1\n",
       "16003                  GET /allsubmission.php HTTP/1.1\n",
       "16004       GET /showcode.php?id=309&nm=ham05 HTTP/1.1\n",
       "16005                  GET /allsubmission.php HTTP/1.1\n",
       "16006                           GET /home.php HTTP/1.1\n",
       "Name: URL, Length: 16007, dtype: object"
      ]
     },
     "execution_count": 23,
     "metadata": {},
     "output_type": "execute_result"
    }
   ],
   "source": [
    "# print(\"Extracted URLs:\", urls)\n",
    "urls"
   ]
  },
  {
   "cell_type": "code",
   "execution_count": 24,
   "id": "d877b2b9",
   "metadata": {},
   "outputs": [
    {
     "data": {
      "text/plain": [
       "0        200\n",
       "1        302\n",
       "2        200\n",
       "3        200\n",
       "4        200\n",
       "        ... \n",
       "16002    200\n",
       "16003    200\n",
       "16004    200\n",
       "16005    200\n",
       "16006    200\n",
       "Name: Status, Length: 16007, dtype: object"
      ]
     },
     "execution_count": 24,
     "metadata": {},
     "output_type": "execute_result"
    }
   ],
   "source": [
    "# print(\"Request Types:\", requests)\n",
    "requests"
   ]
  },
  {
   "cell_type": "code",
   "execution_count": 10,
   "id": "bdfa1585",
   "metadata": {},
   "outputs": [],
   "source": [
    "from sklearn.model_selection import train_test_split\n",
    "\n",
    "# Split the dataset into training and test sets (80% train, 20% test)\n",
    "train_urls, test_urls, train_requests, test_requests = train_test_split(urls, requests, test_size=0.2, random_state=42)\n"
   ]
  },
  {
   "cell_type": "code",
   "execution_count": 29,
   "id": "6bbe1426",
   "metadata": {},
   "outputs": [
    {
     "name": "stdout",
     "output_type": "stream",
     "text": [
      "Training URLs:\n"
     ]
    },
    {
     "data": {
      "text/plain": [
       "676                                 GET /home.php HTTP/1.1\n",
       "15755    GET /contestproblem.php?name=RUET%20OJ%20TLE%2...\n",
       "6624        GET /js/vendor/modernizr-2.8.3.min.js HTTP/1.1\n",
       "10746                               GET /home.php HTTP/1.1\n",
       "9638                               GET /login.php HTTP/1.1\n",
       "                               ...                        \n",
       "13418                               GET /home.php HTTP/1.1\n",
       "5390     GET /contestproblem.php?name=RUET%20OJ%20TLE%2...\n",
       "860                              POST /action.php HTTP/1.1\n",
       "15795    GET /bootstrap-3.3.7/js/bootstrap.min.js HTTP/1.1\n",
       "7270                      GET /archive.php?page=2 HTTP/1.1\n",
       "Name: URL, Length: 12805, dtype: object"
      ]
     },
     "execution_count": 29,
     "metadata": {},
     "output_type": "execute_result"
    }
   ],
   "source": [
    "print(\"Training URLs:\")\n",
    "train_urls"
   ]
  },
  {
   "cell_type": "code",
   "execution_count": 30,
   "id": "08d419ea",
   "metadata": {},
   "outputs": [
    {
     "name": "stdout",
     "output_type": "stream",
     "text": [
      "Test URLs:\n"
     ]
    },
    {
     "data": {
      "text/plain": [
       "9452                             GET /contest.php HTTP/1.1\n",
       "5566                             GET /archive.php HTTP/1.1\n",
       "13993                              GET /login.php HTTP/1.1\n",
       "304                        GET /css/normalize.css HTTP/1.1\n",
       "6143     GET /bootstrap-3.3.7/js/bootstrap.min.js HTTP/1.1\n",
       "                               ...                        \n",
       "10309       GET /js/vendor/modernizr-2.8.3.min.js HTTP/1.1\n",
       "11786                              GET /login.php HTTP/1.1\n",
       "5157                               GET /login.php HTTP/1.1\n",
       "7631                       GET /css/normalize.css HTTP/1.1\n",
       "10618       GET /js/vendor/modernizr-2.8.3.min.js HTTP/1.1\n",
       "Name: URL, Length: 3202, dtype: object"
      ]
     },
     "execution_count": 30,
     "metadata": {},
     "output_type": "execute_result"
    }
   ],
   "source": [
    "print(\"Test URLs:\")\n",
    "test_urls"
   ]
  },
  {
   "cell_type": "code",
   "execution_count": 32,
   "id": "736fb228",
   "metadata": {},
   "outputs": [
    {
     "data": {
      "text/plain": [
       "count                       12805\n",
       "unique                        295\n",
       "top       GET /login.php HTTP/1.1\n",
       "freq                         2656\n",
       "Name: URL, dtype: object"
      ]
     },
     "execution_count": 32,
     "metadata": {},
     "output_type": "execute_result"
    }
   ],
   "source": [
    "train_urls.describe()"
   ]
  },
  {
   "cell_type": "code",
   "execution_count": 33,
   "id": "b91d4194",
   "metadata": {},
   "outputs": [
    {
     "data": {
      "text/plain": [
       "count                        3202\n",
       "unique                        156\n",
       "top       GET /login.php HTTP/1.1\n",
       "freq                          628\n",
       "Name: URL, dtype: object"
      ]
     },
     "execution_count": 33,
     "metadata": {},
     "output_type": "execute_result"
    }
   ],
   "source": [
    "test_urls.describe()"
   ]
  }
 ],
 "metadata": {
  "kernelspec": {
   "display_name": "Python 3",
   "language": "python",
   "name": "python3"
  },
  "language_info": {
   "codemirror_mode": {
    "name": "ipython",
    "version": 3
   },
   "file_extension": ".py",
   "mimetype": "text/x-python",
   "name": "python",
   "nbconvert_exporter": "python",
   "pygments_lexer": "ipython3",
   "version": "3.8.8"
  }
 },
 "nbformat": 4,
 "nbformat_minor": 5
}
